{
 "cells": [
  {
   "cell_type": "markdown",
   "id": "7461d931",
   "metadata": {},
   "source": [
    "## Статистический анализ данных пользователей сервиса аренды самокатов GoFast."
   ]
  },
  {
   "cell_type": "markdown",
   "id": "369064f7",
   "metadata": {},
   "source": [
    "## Цель проекта: провести анализ данных пользователей сервиса и проверить гипотезы, которые могут вырасти бизнесу."
   ]
  },
  {
   "cell_type": "code",
   "execution_count": 1,
   "id": "82793e24",
   "metadata": {},
   "outputs": [
    {
     "name": "stdout",
     "output_type": "stream",
     "text": [
      "Requirement already satisfied: pandas in c:\\users\\user\\anaconda3\\lib\\site-packages (2.1.4)\n",
      "Requirement already satisfied: plotly in c:\\users\\user\\anaconda3\\lib\\site-packages (5.9.0)\n",
      "Requirement already satisfied: numpy<2,>=1.23.2 in c:\\users\\user\\anaconda3\\lib\\site-packages (from pandas) (1.26.4)\n",
      "Requirement already satisfied: python-dateutil>=2.8.2 in c:\\users\\user\\anaconda3\\lib\\site-packages (from pandas) (2.8.2)\n",
      "Requirement already satisfied: pytz>=2020.1 in c:\\users\\user\\anaconda3\\lib\\site-packages (from pandas) (2023.3.post1)\n",
      "Requirement already satisfied: tzdata>=2022.1 in c:\\users\\user\\anaconda3\\lib\\site-packages (from pandas) (2023.3)\n",
      "Requirement already satisfied: tenacity>=6.2.0 in c:\\users\\user\\anaconda3\\lib\\site-packages (from plotly) (8.2.2)\n",
      "Requirement already satisfied: six>=1.5 in c:\\users\\user\\anaconda3\\lib\\site-packages (from python-dateutil>=2.8.2->pandas) (1.16.0)\n",
      "Note: you may need to restart the kernel to use updated packages.\n"
     ]
    }
   ],
   "source": [
    "pip install pandas plotly"
   ]
  },
  {
   "cell_type": "code",
   "execution_count": 2,
   "id": "72576667",
   "metadata": {},
   "outputs": [],
   "source": [
    "import pandas as pd\n",
    "import numpy as np\n",
    "import matplotlib.pyplot as plt\n",
    "from scipy import stats as st"
   ]
  },
  {
   "cell_type": "markdown",
   "id": "c42cbe00",
   "metadata": {},
   "source": [
    "## Загрузка данных и знакомство с ними."
   ]
  },
  {
   "cell_type": "code",
   "execution_count": 3,
   "id": "eff9f206",
   "metadata": {},
   "outputs": [],
   "source": [
    "try:\n",
    "    data_users = pd.read_csv('C:/Users/user/Desktop/юпитер/самокаты/users_go.csv')\n",
    "    data_riders = pd.read_csv('C:/Users/user/Desktop/юпитер/самокаты/rides_go.csv')\n",
    "    data_subscriptions = pd.read_csv('C:/Users/user/Desktop/юпитер/самокаты/subscriptions_go.csv')\n",
    "except:\n",
    "    data_users = pd.read_csv('/datasets/users_go.csv')\n",
    "    data_riders = pd.read_csv('/datasets/rides_go.csv')\n",
    "    data_subscriptions = pd.read_csv('/datasets/subscriptions_go.csv')"
   ]
  },
  {
   "cell_type": "markdown",
   "id": "d66d3276-9bbd-4164-b4c7-b19a6f190180",
   "metadata": {},
   "source": [
    "Перед началом работы с данными необходимо с ними ознакомиться."
   ]
  },
  {
   "cell_type": "code",
   "execution_count": 4,
   "id": "5869cc75-e8ec-4c64-8f07-e31f459884d5",
   "metadata": {
    "scrolled": true
   },
   "outputs": [
    {
     "data": {
      "text/plain": [
       "(1565, 5)"
      ]
     },
     "metadata": {},
     "output_type": "display_data"
    },
    {
     "data": {
      "text/plain": [
       "(18068, 4)"
      ]
     },
     "metadata": {},
     "output_type": "display_data"
    },
    {
     "data": {
      "text/plain": [
       "(2, 4)"
      ]
     },
     "metadata": {},
     "output_type": "display_data"
    }
   ],
   "source": [
    "display(data_users.shape[:])\n",
    "display(data_riders.shape[:])\n",
    "display(data_subscriptions.shape[:])"
   ]
  },
  {
   "cell_type": "code",
   "execution_count": 5,
   "id": "a8a9a754-505e-4a89-9294-08c16d2a99c5",
   "metadata": {},
   "outputs": [
    {
     "name": "stdout",
     "output_type": "stream",
     "text": [
      "<class 'pandas.core.frame.DataFrame'>\n",
      "RangeIndex: 1565 entries, 0 to 1564\n",
      "Data columns (total 5 columns):\n",
      " #   Column             Non-Null Count  Dtype \n",
      "---  ------             --------------  ----- \n",
      " 0   user_id            1565 non-null   int64 \n",
      " 1   name               1565 non-null   object\n",
      " 2   age                1565 non-null   int64 \n",
      " 3   city               1565 non-null   object\n",
      " 4   subscription_type  1565 non-null   object\n",
      "dtypes: int64(2), object(3)\n",
      "memory usage: 61.3+ KB\n"
     ]
    },
    {
     "data": {
      "text/html": [
       "<div>\n",
       "<style scoped>\n",
       "    .dataframe tbody tr th:only-of-type {\n",
       "        vertical-align: middle;\n",
       "    }\n",
       "\n",
       "    .dataframe tbody tr th {\n",
       "        vertical-align: top;\n",
       "    }\n",
       "\n",
       "    .dataframe thead th {\n",
       "        text-align: right;\n",
       "    }\n",
       "</style>\n",
       "<table border=\"1\" class=\"dataframe\">\n",
       "  <thead>\n",
       "    <tr style=\"text-align: right;\">\n",
       "      <th></th>\n",
       "      <th>user_id</th>\n",
       "      <th>name</th>\n",
       "      <th>age</th>\n",
       "      <th>city</th>\n",
       "      <th>subscription_type</th>\n",
       "    </tr>\n",
       "  </thead>\n",
       "  <tbody>\n",
       "    <tr>\n",
       "      <th>0</th>\n",
       "      <td>1</td>\n",
       "      <td>Кира</td>\n",
       "      <td>22</td>\n",
       "      <td>Тюмень</td>\n",
       "      <td>ultra</td>\n",
       "    </tr>\n",
       "    <tr>\n",
       "      <th>1</th>\n",
       "      <td>2</td>\n",
       "      <td>Станислав</td>\n",
       "      <td>31</td>\n",
       "      <td>Омск</td>\n",
       "      <td>ultra</td>\n",
       "    </tr>\n",
       "    <tr>\n",
       "      <th>2</th>\n",
       "      <td>3</td>\n",
       "      <td>Алексей</td>\n",
       "      <td>20</td>\n",
       "      <td>Москва</td>\n",
       "      <td>ultra</td>\n",
       "    </tr>\n",
       "    <tr>\n",
       "      <th>3</th>\n",
       "      <td>4</td>\n",
       "      <td>Константин</td>\n",
       "      <td>26</td>\n",
       "      <td>Ростов-на-Дону</td>\n",
       "      <td>ultra</td>\n",
       "    </tr>\n",
       "    <tr>\n",
       "      <th>4</th>\n",
       "      <td>5</td>\n",
       "      <td>Адель</td>\n",
       "      <td>28</td>\n",
       "      <td>Омск</td>\n",
       "      <td>ultra</td>\n",
       "    </tr>\n",
       "  </tbody>\n",
       "</table>\n",
       "</div>"
      ],
      "text/plain": [
       "   user_id        name  age            city subscription_type\n",
       "0        1        Кира   22          Тюмень             ultra\n",
       "1        2   Станислав   31            Омск             ultra\n",
       "2        3     Алексей   20          Москва             ultra\n",
       "3        4  Константин   26  Ростов-на-Дону             ultra\n",
       "4        5       Адель   28            Омск             ultra"
      ]
     },
     "execution_count": 5,
     "metadata": {},
     "output_type": "execute_result"
    }
   ],
   "source": [
    "data_users.info()\n",
    "data_users.head()"
   ]
  },
  {
   "cell_type": "code",
   "execution_count": 6,
   "id": "7d141a53-c134-4d58-ba6c-c63521d35a27",
   "metadata": {},
   "outputs": [
    {
     "name": "stdout",
     "output_type": "stream",
     "text": [
      "<class 'pandas.core.frame.DataFrame'>\n",
      "RangeIndex: 18068 entries, 0 to 18067\n",
      "Data columns (total 4 columns):\n",
      " #   Column    Non-Null Count  Dtype  \n",
      "---  ------    --------------  -----  \n",
      " 0   user_id   18068 non-null  int64  \n",
      " 1   distance  18068 non-null  float64\n",
      " 2   duration  18068 non-null  float64\n",
      " 3   date      18068 non-null  object \n",
      "dtypes: float64(2), int64(1), object(1)\n",
      "memory usage: 564.8+ KB\n"
     ]
    },
    {
     "data": {
      "text/html": [
       "<div>\n",
       "<style scoped>\n",
       "    .dataframe tbody tr th:only-of-type {\n",
       "        vertical-align: middle;\n",
       "    }\n",
       "\n",
       "    .dataframe tbody tr th {\n",
       "        vertical-align: top;\n",
       "    }\n",
       "\n",
       "    .dataframe thead th {\n",
       "        text-align: right;\n",
       "    }\n",
       "</style>\n",
       "<table border=\"1\" class=\"dataframe\">\n",
       "  <thead>\n",
       "    <tr style=\"text-align: right;\">\n",
       "      <th></th>\n",
       "      <th>user_id</th>\n",
       "      <th>distance</th>\n",
       "      <th>duration</th>\n",
       "      <th>date</th>\n",
       "    </tr>\n",
       "  </thead>\n",
       "  <tbody>\n",
       "    <tr>\n",
       "      <th>0</th>\n",
       "      <td>1</td>\n",
       "      <td>4409.919140</td>\n",
       "      <td>25.599769</td>\n",
       "      <td>2021-01-01</td>\n",
       "    </tr>\n",
       "    <tr>\n",
       "      <th>1</th>\n",
       "      <td>1</td>\n",
       "      <td>2617.592153</td>\n",
       "      <td>15.816871</td>\n",
       "      <td>2021-01-18</td>\n",
       "    </tr>\n",
       "    <tr>\n",
       "      <th>2</th>\n",
       "      <td>1</td>\n",
       "      <td>754.159807</td>\n",
       "      <td>6.232113</td>\n",
       "      <td>2021-04-20</td>\n",
       "    </tr>\n",
       "    <tr>\n",
       "      <th>3</th>\n",
       "      <td>1</td>\n",
       "      <td>2694.783254</td>\n",
       "      <td>18.511000</td>\n",
       "      <td>2021-08-11</td>\n",
       "    </tr>\n",
       "    <tr>\n",
       "      <th>4</th>\n",
       "      <td>1</td>\n",
       "      <td>4028.687306</td>\n",
       "      <td>26.265803</td>\n",
       "      <td>2021-08-28</td>\n",
       "    </tr>\n",
       "  </tbody>\n",
       "</table>\n",
       "</div>"
      ],
      "text/plain": [
       "   user_id     distance   duration        date\n",
       "0        1  4409.919140  25.599769  2021-01-01\n",
       "1        1  2617.592153  15.816871  2021-01-18\n",
       "2        1   754.159807   6.232113  2021-04-20\n",
       "3        1  2694.783254  18.511000  2021-08-11\n",
       "4        1  4028.687306  26.265803  2021-08-28"
      ]
     },
     "execution_count": 6,
     "metadata": {},
     "output_type": "execute_result"
    }
   ],
   "source": [
    "data_riders.info()\n",
    "data_riders.head()"
   ]
  },
  {
   "cell_type": "code",
   "execution_count": 7,
   "id": "09420a5d-cfa3-439f-8862-48f9d3b2f387",
   "metadata": {
    "scrolled": true
   },
   "outputs": [
    {
     "name": "stdout",
     "output_type": "stream",
     "text": [
      "<class 'pandas.core.frame.DataFrame'>\n",
      "RangeIndex: 2 entries, 0 to 1\n",
      "Data columns (total 4 columns):\n",
      " #   Column             Non-Null Count  Dtype \n",
      "---  ------             --------------  ----- \n",
      " 0   subscription_type  2 non-null      object\n",
      " 1   minute_price       2 non-null      int64 \n",
      " 2   start_ride_price   2 non-null      int64 \n",
      " 3   subscription_fee   2 non-null      int64 \n",
      "dtypes: int64(3), object(1)\n",
      "memory usage: 196.0+ bytes\n"
     ]
    },
    {
     "data": {
      "text/html": [
       "<div>\n",
       "<style scoped>\n",
       "    .dataframe tbody tr th:only-of-type {\n",
       "        vertical-align: middle;\n",
       "    }\n",
       "\n",
       "    .dataframe tbody tr th {\n",
       "        vertical-align: top;\n",
       "    }\n",
       "\n",
       "    .dataframe thead th {\n",
       "        text-align: right;\n",
       "    }\n",
       "</style>\n",
       "<table border=\"1\" class=\"dataframe\">\n",
       "  <thead>\n",
       "    <tr style=\"text-align: right;\">\n",
       "      <th></th>\n",
       "      <th>subscription_type</th>\n",
       "      <th>minute_price</th>\n",
       "      <th>start_ride_price</th>\n",
       "      <th>subscription_fee</th>\n",
       "    </tr>\n",
       "  </thead>\n",
       "  <tbody>\n",
       "    <tr>\n",
       "      <th>0</th>\n",
       "      <td>free</td>\n",
       "      <td>8</td>\n",
       "      <td>50</td>\n",
       "      <td>0</td>\n",
       "    </tr>\n",
       "    <tr>\n",
       "      <th>1</th>\n",
       "      <td>ultra</td>\n",
       "      <td>6</td>\n",
       "      <td>0</td>\n",
       "      <td>199</td>\n",
       "    </tr>\n",
       "  </tbody>\n",
       "</table>\n",
       "</div>"
      ],
      "text/plain": [
       "  subscription_type  minute_price  start_ride_price  subscription_fee\n",
       "0              free             8                50                 0\n",
       "1             ultra             6                 0               199"
      ]
     },
     "execution_count": 7,
     "metadata": {},
     "output_type": "execute_result"
    }
   ],
   "source": [
    "data_subscriptions.info()\n",
    "data_subscriptions.head()"
   ]
  },
  {
   "cell_type": "markdown",
   "id": "35d63f39-7784-43b3-9c80-6b87102fd801",
   "metadata": {},
   "source": [
    "Данные хорошо выгрузились, в них нет пропусков.  \n",
    "В датафрейме data_riders в колонке date указан тип object, необходимо будет поменять формат даты.  \n",
    "Также в некоторых колонках данные с 6 значениями после запятой, их также нужно будет округлить для репрезентативности в дальнейших расчётах."
   ]
  },
  {
   "cell_type": "markdown",
   "id": "e95ebca7",
   "metadata": {},
   "source": [
    "## Предобработка данных."
   ]
  },
  {
   "cell_type": "markdown",
   "id": "df765a4f-3359-4876-b812-b16e7b0bf744",
   "metadata": {},
   "source": [
    "### Приведём столбец date к нужному формату."
   ]
  },
  {
   "cell_type": "markdown",
   "id": "cf9b1857-95c8-4c6d-a39b-8ca8301ba663",
   "metadata": {},
   "source": [
    "В предыдущем шаге мы заметили, что колонка date стоит в неправильном формате, необходимо поменять формат даты."
   ]
  },
  {
   "cell_type": "code",
   "execution_count": 8,
   "id": "16de0a00-d3b7-4153-bbae-a60874927831",
   "metadata": {},
   "outputs": [
    {
     "name": "stdout",
     "output_type": "stream",
     "text": [
      "<class 'pandas.core.frame.DataFrame'>\n",
      "RangeIndex: 18068 entries, 0 to 18067\n",
      "Data columns (total 4 columns):\n",
      " #   Column    Non-Null Count  Dtype         \n",
      "---  ------    --------------  -----         \n",
      " 0   user_id   18068 non-null  int64         \n",
      " 1   distance  18068 non-null  float64       \n",
      " 2   duration  18068 non-null  float64       \n",
      " 3   date      18068 non-null  datetime64[ns]\n",
      "dtypes: datetime64[ns](1), float64(2), int64(1)\n",
      "memory usage: 564.8 KB\n"
     ]
    },
    {
     "data": {
      "text/plain": [
       "None"
      ]
     },
     "metadata": {},
     "output_type": "display_data"
    }
   ],
   "source": [
    "data_riders['date'] = pd.to_datetime(data_riders['date'], format='%Y-%m-%d')\n",
    "display(data_riders.info())"
   ]
  },
  {
   "cell_type": "markdown",
   "id": "76e9c024-f488-4e1b-bcec-b32c36dd95df",
   "metadata": {},
   "source": [
    "### Создадим новый столбец с номером месяца."
   ]
  },
  {
   "cell_type": "markdown",
   "id": "a8e572f3-09da-4b25-a31b-ad0946b9dde9",
   "metadata": {},
   "source": [
    "Создадим новый столбец number_month в датафрейме data_riders с номером месяца, для дальнейших операций."
   ]
  },
  {
   "cell_type": "code",
   "execution_count": 9,
   "id": "5ea118ba-4178-4da4-bcf6-a04172ccdf11",
   "metadata": {},
   "outputs": [
    {
     "data": {
      "text/html": [
       "<div>\n",
       "<style scoped>\n",
       "    .dataframe tbody tr th:only-of-type {\n",
       "        vertical-align: middle;\n",
       "    }\n",
       "\n",
       "    .dataframe tbody tr th {\n",
       "        vertical-align: top;\n",
       "    }\n",
       "\n",
       "    .dataframe thead th {\n",
       "        text-align: right;\n",
       "    }\n",
       "</style>\n",
       "<table border=\"1\" class=\"dataframe\">\n",
       "  <thead>\n",
       "    <tr style=\"text-align: right;\">\n",
       "      <th></th>\n",
       "      <th>user_id</th>\n",
       "      <th>distance</th>\n",
       "      <th>duration</th>\n",
       "      <th>date</th>\n",
       "      <th>number_month</th>\n",
       "    </tr>\n",
       "  </thead>\n",
       "  <tbody>\n",
       "    <tr>\n",
       "      <th>0</th>\n",
       "      <td>1</td>\n",
       "      <td>4409.919140</td>\n",
       "      <td>25.599769</td>\n",
       "      <td>2021-01-01</td>\n",
       "      <td>1</td>\n",
       "    </tr>\n",
       "    <tr>\n",
       "      <th>1</th>\n",
       "      <td>1</td>\n",
       "      <td>2617.592153</td>\n",
       "      <td>15.816871</td>\n",
       "      <td>2021-01-18</td>\n",
       "      <td>1</td>\n",
       "    </tr>\n",
       "    <tr>\n",
       "      <th>2</th>\n",
       "      <td>1</td>\n",
       "      <td>754.159807</td>\n",
       "      <td>6.232113</td>\n",
       "      <td>2021-04-20</td>\n",
       "      <td>4</td>\n",
       "    </tr>\n",
       "    <tr>\n",
       "      <th>3</th>\n",
       "      <td>1</td>\n",
       "      <td>2694.783254</td>\n",
       "      <td>18.511000</td>\n",
       "      <td>2021-08-11</td>\n",
       "      <td>8</td>\n",
       "    </tr>\n",
       "    <tr>\n",
       "      <th>4</th>\n",
       "      <td>1</td>\n",
       "      <td>4028.687306</td>\n",
       "      <td>26.265803</td>\n",
       "      <td>2021-08-28</td>\n",
       "      <td>8</td>\n",
       "    </tr>\n",
       "  </tbody>\n",
       "</table>\n",
       "</div>"
      ],
      "text/plain": [
       "   user_id     distance   duration       date  number_month\n",
       "0        1  4409.919140  25.599769 2021-01-01             1\n",
       "1        1  2617.592153  15.816871 2021-01-18             1\n",
       "2        1   754.159807   6.232113 2021-04-20             4\n",
       "3        1  2694.783254  18.511000 2021-08-11             8\n",
       "4        1  4028.687306  26.265803 2021-08-28             8"
      ]
     },
     "metadata": {},
     "output_type": "display_data"
    },
    {
     "data": {
      "text/plain": [
       "Timestamp('2021-01-01 00:00:00')"
      ]
     },
     "metadata": {},
     "output_type": "display_data"
    },
    {
     "data": {
      "text/plain": [
       "Timestamp('2021-12-30 00:00:00')"
      ]
     },
     "metadata": {},
     "output_type": "display_data"
    }
   ],
   "source": [
    "data_riders['number_month'] = data_riders['date'].dt.month\n",
    "display(data_riders.head())\n",
    "display(data_riders['date'].min(), data_riders['date'].max())"
   ]
  },
  {
   "cell_type": "markdown",
   "id": "d9ce85a9-4743-4c9c-bde5-372775d2440d",
   "metadata": {},
   "source": [
    "### Проверим наличие дубликатов в данных."
   ]
  },
  {
   "cell_type": "markdown",
   "id": "d651000a-bd42-4614-92ca-de8bee3e9266",
   "metadata": {},
   "source": [
    "Проверим наличие дубликатов в датафреймах.  \n",
    "При наличии дубликатов их необходимо удалить."
   ]
  },
  {
   "cell_type": "code",
   "execution_count": 10,
   "id": "40d15449-5384-4407-b74e-ce5cecdca701",
   "metadata": {},
   "outputs": [
    {
     "data": {
      "text/plain": [
       "'Количество дубликатов: 31'"
      ]
     },
     "metadata": {},
     "output_type": "display_data"
    },
    {
     "data": {
      "text/html": [
       "<div>\n",
       "<style scoped>\n",
       "    .dataframe tbody tr th:only-of-type {\n",
       "        vertical-align: middle;\n",
       "    }\n",
       "\n",
       "    .dataframe tbody tr th {\n",
       "        vertical-align: top;\n",
       "    }\n",
       "\n",
       "    .dataframe thead th {\n",
       "        text-align: right;\n",
       "    }\n",
       "</style>\n",
       "<table border=\"1\" class=\"dataframe\">\n",
       "  <thead>\n",
       "    <tr style=\"text-align: right;\">\n",
       "      <th></th>\n",
       "      <th>user_id</th>\n",
       "      <th>name</th>\n",
       "      <th>age</th>\n",
       "      <th>city</th>\n",
       "      <th>subscription_type</th>\n",
       "    </tr>\n",
       "  </thead>\n",
       "  <tbody>\n",
       "    <tr>\n",
       "      <th>1534</th>\n",
       "      <td>293</td>\n",
       "      <td>Агата</td>\n",
       "      <td>26</td>\n",
       "      <td>Краснодар</td>\n",
       "      <td>ultra</td>\n",
       "    </tr>\n",
       "    <tr>\n",
       "      <th>1535</th>\n",
       "      <td>16</td>\n",
       "      <td>Амалия</td>\n",
       "      <td>27</td>\n",
       "      <td>Краснодар</td>\n",
       "      <td>ultra</td>\n",
       "    </tr>\n",
       "    <tr>\n",
       "      <th>1536</th>\n",
       "      <td>909</td>\n",
       "      <td>Константин</td>\n",
       "      <td>20</td>\n",
       "      <td>Екатеринбург</td>\n",
       "      <td>free</td>\n",
       "    </tr>\n",
       "    <tr>\n",
       "      <th>1537</th>\n",
       "      <td>403</td>\n",
       "      <td>Полина</td>\n",
       "      <td>19</td>\n",
       "      <td>Сочи</td>\n",
       "      <td>ultra</td>\n",
       "    </tr>\n",
       "    <tr>\n",
       "      <th>1538</th>\n",
       "      <td>908</td>\n",
       "      <td>Рустам</td>\n",
       "      <td>30</td>\n",
       "      <td>Тюмень</td>\n",
       "      <td>free</td>\n",
       "    </tr>\n",
       "    <tr>\n",
       "      <th>1539</th>\n",
       "      <td>43</td>\n",
       "      <td>Стефания</td>\n",
       "      <td>22</td>\n",
       "      <td>Омск</td>\n",
       "      <td>ultra</td>\n",
       "    </tr>\n",
       "    <tr>\n",
       "      <th>1540</th>\n",
       "      <td>127</td>\n",
       "      <td>Павел</td>\n",
       "      <td>25</td>\n",
       "      <td>Пятигорск</td>\n",
       "      <td>ultra</td>\n",
       "    </tr>\n",
       "    <tr>\n",
       "      <th>1541</th>\n",
       "      <td>659</td>\n",
       "      <td>Злата</td>\n",
       "      <td>27</td>\n",
       "      <td>Ростов-на-Дону</td>\n",
       "      <td>ultra</td>\n",
       "    </tr>\n",
       "    <tr>\n",
       "      <th>1542</th>\n",
       "      <td>204</td>\n",
       "      <td>Руслан</td>\n",
       "      <td>30</td>\n",
       "      <td>Пятигорск</td>\n",
       "      <td>ultra</td>\n",
       "    </tr>\n",
       "    <tr>\n",
       "      <th>1543</th>\n",
       "      <td>153</td>\n",
       "      <td>Герман</td>\n",
       "      <td>23</td>\n",
       "      <td>Москва</td>\n",
       "      <td>ultra</td>\n",
       "    </tr>\n",
       "    <tr>\n",
       "      <th>1544</th>\n",
       "      <td>1245</td>\n",
       "      <td>Регина</td>\n",
       "      <td>27</td>\n",
       "      <td>Пятигорск</td>\n",
       "      <td>free</td>\n",
       "    </tr>\n",
       "    <tr>\n",
       "      <th>1545</th>\n",
       "      <td>807</td>\n",
       "      <td>Александр</td>\n",
       "      <td>28</td>\n",
       "      <td>Екатеринбург</td>\n",
       "      <td>free</td>\n",
       "    </tr>\n",
       "    <tr>\n",
       "      <th>1546</th>\n",
       "      <td>924</td>\n",
       "      <td>Мария</td>\n",
       "      <td>23</td>\n",
       "      <td>Пятигорск</td>\n",
       "      <td>free</td>\n",
       "    </tr>\n",
       "    <tr>\n",
       "      <th>1547</th>\n",
       "      <td>635</td>\n",
       "      <td>Герман</td>\n",
       "      <td>21</td>\n",
       "      <td>Москва</td>\n",
       "      <td>ultra</td>\n",
       "    </tr>\n",
       "    <tr>\n",
       "      <th>1548</th>\n",
       "      <td>136</td>\n",
       "      <td>Марсель</td>\n",
       "      <td>25</td>\n",
       "      <td>Тюмень</td>\n",
       "      <td>ultra</td>\n",
       "    </tr>\n",
       "    <tr>\n",
       "      <th>1549</th>\n",
       "      <td>108</td>\n",
       "      <td>Влада</td>\n",
       "      <td>29</td>\n",
       "      <td>Тюмень</td>\n",
       "      <td>ultra</td>\n",
       "    </tr>\n",
       "    <tr>\n",
       "      <th>1550</th>\n",
       "      <td>737</td>\n",
       "      <td>Мелания</td>\n",
       "      <td>27</td>\n",
       "      <td>Ростов-на-Дону</td>\n",
       "      <td>free</td>\n",
       "    </tr>\n",
       "    <tr>\n",
       "      <th>1551</th>\n",
       "      <td>666</td>\n",
       "      <td>Зарина</td>\n",
       "      <td>29</td>\n",
       "      <td>Москва</td>\n",
       "      <td>ultra</td>\n",
       "    </tr>\n",
       "    <tr>\n",
       "      <th>1552</th>\n",
       "      <td>297</td>\n",
       "      <td>Егор</td>\n",
       "      <td>33</td>\n",
       "      <td>Пятигорск</td>\n",
       "      <td>ultra</td>\n",
       "    </tr>\n",
       "    <tr>\n",
       "      <th>1553</th>\n",
       "      <td>121</td>\n",
       "      <td>Алина</td>\n",
       "      <td>25</td>\n",
       "      <td>Пятигорск</td>\n",
       "      <td>ultra</td>\n",
       "    </tr>\n",
       "    <tr>\n",
       "      <th>1554</th>\n",
       "      <td>1198</td>\n",
       "      <td>Демид</td>\n",
       "      <td>29</td>\n",
       "      <td>Ростов-на-Дону</td>\n",
       "      <td>free</td>\n",
       "    </tr>\n",
       "    <tr>\n",
       "      <th>1555</th>\n",
       "      <td>72</td>\n",
       "      <td>Никита</td>\n",
       "      <td>25</td>\n",
       "      <td>Москва</td>\n",
       "      <td>ultra</td>\n",
       "    </tr>\n",
       "    <tr>\n",
       "      <th>1556</th>\n",
       "      <td>422</td>\n",
       "      <td>Кирилл</td>\n",
       "      <td>27</td>\n",
       "      <td>Сочи</td>\n",
       "      <td>ultra</td>\n",
       "    </tr>\n",
       "    <tr>\n",
       "      <th>1557</th>\n",
       "      <td>611</td>\n",
       "      <td>Владимир</td>\n",
       "      <td>28</td>\n",
       "      <td>Омск</td>\n",
       "      <td>ultra</td>\n",
       "    </tr>\n",
       "    <tr>\n",
       "      <th>1558</th>\n",
       "      <td>1237</td>\n",
       "      <td>Евгения</td>\n",
       "      <td>23</td>\n",
       "      <td>Тюмень</td>\n",
       "      <td>free</td>\n",
       "    </tr>\n",
       "    <tr>\n",
       "      <th>1559</th>\n",
       "      <td>209</td>\n",
       "      <td>Андрей</td>\n",
       "      <td>23</td>\n",
       "      <td>Омск</td>\n",
       "      <td>ultra</td>\n",
       "    </tr>\n",
       "    <tr>\n",
       "      <th>1560</th>\n",
       "      <td>829</td>\n",
       "      <td>Федор</td>\n",
       "      <td>29</td>\n",
       "      <td>Пятигорск</td>\n",
       "      <td>free</td>\n",
       "    </tr>\n",
       "    <tr>\n",
       "      <th>1561</th>\n",
       "      <td>809</td>\n",
       "      <td>Юрий</td>\n",
       "      <td>26</td>\n",
       "      <td>Сочи</td>\n",
       "      <td>free</td>\n",
       "    </tr>\n",
       "    <tr>\n",
       "      <th>1562</th>\n",
       "      <td>307</td>\n",
       "      <td>Ясмина</td>\n",
       "      <td>19</td>\n",
       "      <td>Краснодар</td>\n",
       "      <td>ultra</td>\n",
       "    </tr>\n",
       "    <tr>\n",
       "      <th>1563</th>\n",
       "      <td>47</td>\n",
       "      <td>Юрий</td>\n",
       "      <td>28</td>\n",
       "      <td>Тюмень</td>\n",
       "      <td>ultra</td>\n",
       "    </tr>\n",
       "    <tr>\n",
       "      <th>1564</th>\n",
       "      <td>1045</td>\n",
       "      <td>Артемий</td>\n",
       "      <td>28</td>\n",
       "      <td>Ростов-на-Дону</td>\n",
       "      <td>free</td>\n",
       "    </tr>\n",
       "  </tbody>\n",
       "</table>\n",
       "</div>"
      ],
      "text/plain": [
       "      user_id        name  age            city subscription_type\n",
       "1534      293       Агата   26       Краснодар             ultra\n",
       "1535       16      Амалия   27       Краснодар             ultra\n",
       "1536      909  Константин   20    Екатеринбург              free\n",
       "1537      403      Полина   19            Сочи             ultra\n",
       "1538      908      Рустам   30          Тюмень              free\n",
       "1539       43    Стефания   22            Омск             ultra\n",
       "1540      127       Павел   25       Пятигорск             ultra\n",
       "1541      659       Злата   27  Ростов-на-Дону             ultra\n",
       "1542      204      Руслан   30       Пятигорск             ultra\n",
       "1543      153      Герман   23          Москва             ultra\n",
       "1544     1245      Регина   27       Пятигорск              free\n",
       "1545      807   Александр   28    Екатеринбург              free\n",
       "1546      924       Мария   23       Пятигорск              free\n",
       "1547      635      Герман   21          Москва             ultra\n",
       "1548      136     Марсель   25          Тюмень             ultra\n",
       "1549      108       Влада   29          Тюмень             ultra\n",
       "1550      737     Мелания   27  Ростов-на-Дону              free\n",
       "1551      666      Зарина   29          Москва             ultra\n",
       "1552      297        Егор   33       Пятигорск             ultra\n",
       "1553      121       Алина   25       Пятигорск             ultra\n",
       "1554     1198       Демид   29  Ростов-на-Дону              free\n",
       "1555       72      Никита   25          Москва             ultra\n",
       "1556      422      Кирилл   27            Сочи             ultra\n",
       "1557      611    Владимир   28            Омск             ultra\n",
       "1558     1237     Евгения   23          Тюмень              free\n",
       "1559      209      Андрей   23            Омск             ultra\n",
       "1560      829       Федор   29       Пятигорск              free\n",
       "1561      809        Юрий   26            Сочи              free\n",
       "1562      307      Ясмина   19       Краснодар             ultra\n",
       "1563       47        Юрий   28          Тюмень             ultra\n",
       "1564     1045     Артемий   28  Ростов-на-Дону              free"
      ]
     },
     "execution_count": 10,
     "metadata": {},
     "output_type": "execute_result"
    }
   ],
   "source": [
    "display(f'Количество дубликатов: {data_users.duplicated().sum()}')\n",
    "\n",
    "data_users[data_users.duplicated()]"
   ]
  },
  {
   "cell_type": "code",
   "execution_count": 11,
   "id": "91427e13-e223-4b20-8230-d50118b189ea",
   "metadata": {
    "scrolled": true
   },
   "outputs": [
    {
     "data": {
      "text/plain": [
       "0"
      ]
     },
     "execution_count": 11,
     "metadata": {},
     "output_type": "execute_result"
    }
   ],
   "source": [
    "data_users = data_users.drop_duplicates()\n",
    "data_users.duplicated().sum()"
   ]
  },
  {
   "cell_type": "code",
   "execution_count": 12,
   "id": "722c0b64-4606-4f8e-aab3-6e4ff031cb9d",
   "metadata": {},
   "outputs": [
    {
     "data": {
      "text/plain": [
       "'Количество дубликатов: 0'"
      ]
     },
     "metadata": {},
     "output_type": "display_data"
    }
   ],
   "source": [
    "display(f'Количество дубликатов: {data_riders.duplicated().sum()}')\n"
   ]
  },
  {
   "cell_type": "markdown",
   "id": "627731ef-cde5-476d-a549-f4e570952428",
   "metadata": {},
   "source": [
    "Дубликаты оказались только в датафрейме data_users, в остальных дф их нет."
   ]
  },
  {
   "cell_type": "markdown",
   "id": "212593c7",
   "metadata": {},
   "source": [
    "## Исследовательский анализ данных"
   ]
  },
  {
   "cell_type": "markdown",
   "id": "570e5021-614d-401a-aa86-34e69f725f47",
   "metadata": {},
   "source": [
    "Визуализируем и рассмотрим общую информацию о пользователях и поездках:\n",
    "- частота встречаемости городов;\n",
    "- соотношение пользователей с подпиской и без подписки;\n",
    "- возраст пользователей;\n",
    "- расстояние, которое пользователь преодолел за одну поездку;\n",
    "- продолжительность поездок."
   ]
  },
  {
   "cell_type": "markdown",
   "id": "f320c73e-9ce9-4b24-8d59-5b3604fac90a",
   "metadata": {},
   "source": [
    "### Изучим частоту встречаемости городов"
   ]
  },
  {
   "cell_type": "markdown",
   "id": "6afdfd67-49f2-4b2a-bec8-ab632a7ae1f8",
   "metadata": {},
   "source": [
    "Рассмотрим частоту встречаемости городов."
   ]
  },
  {
   "cell_type": "code",
   "execution_count": 13,
   "id": "e4fcdc0c-eb96-4845-a5cd-8f3a1b5cd726",
   "metadata": {
    "scrolled": true
   },
   "outputs": [
    {
     "data": {
      "image/png": "[encoded data removed]",
      "text/plain": [
       "<Figure size 1200x500 with 1 Axes>"
      ]
     },
     "metadata": {},
     "output_type": "display_data"
    }
   ],
   "source": [
    "city_counts = data_users['city'].value_counts()\n",
    "\n",
    "plt.figure(figsize=(12, 5))\n",
    "plt.barh(city_counts.index, city_counts.values)   \n",
    "plt.title('Частота встречаемости пользователей в городах')\n",
    "plt.xlabel('Наименование городов')\n",
    "plt.ylabel('Количество пользователей')\n",
    "\n",
    "plt.show()\n"
   ]
  },
  {
   "cell_type": "code",
   "execution_count": 14,
   "id": "2459f22f",
   "metadata": {},
   "outputs": [
    {
     "data": {
      "image/png": "[encoded data removed]",
      "text/plain": [
       "<Figure size 1200x500 with 1 Axes>"
      ]
     },
     "metadata": {},
     "output_type": "display_data"
    }
   ],
   "source": [
    "# Код ревьювера:\n",
    "city_counts = data_users['city'].value_counts()\n",
    "\n",
    "\n",
    "plt.figure(figsize=(12, 5))\n",
    "bars = plt.barh(city_counts.index, city_counts.values)\n",
    "\n",
    "for bar in bars:\n",
    "    plt.annotate('{}'.format(bar.get_width()),\n",
    "                 xy=(bar.get_width(), bar.get_y() + bar.get_height() / 2),\n",
    "                 xytext=(10, 0),  \n",
    "                 textcoords='offset points',\n",
    "                 ha='left', va='center')\n",
    "\n",
    "plt.title('Частота встречаемости пользователей в городах')\n",
    "plt.xlabel('Количество пользователей')\n",
    "plt.ylabel('Наименование городов')\n",
    "\n",
    "\n",
    "plt.show()\n"
   ]
  },
  {
   "cell_type": "code",
   "execution_count": 15,
   "id": "a051d369-2250-474f-ad8e-0ac8a2e0bb0c",
   "metadata": {},
   "outputs": [
    {
     "data": {
      "text/plain": [
       "city\n",
       "Пятигорск         219\n",
       "Екатеринбург      204\n",
       "Ростов-на-Дону    198\n",
       "Краснодар         193\n",
       "Сочи              189\n",
       "Омск              183\n",
       "Тюмень            180\n",
       "Москва            168\n",
       "Name: count, dtype: int64"
      ]
     },
     "execution_count": 15,
     "metadata": {},
     "output_type": "execute_result"
    }
   ],
   "source": [
    "data_users['city'].value_counts()"
   ]
  },
  {
   "cell_type": "markdown",
   "id": "c102633a-9a73-4729-980e-fb0f163ef475",
   "metadata": {},
   "source": [
    "- Промежутночный вывод: исходя из графиков мы видим, что значения пользователей в городах находятся в промежутке от 168 до 219 пользователей, распределены равномерно, без аномалий по количеству пользователей.  "
   ]
  },
  {
   "cell_type": "markdown",
   "id": "7827659b-2f83-4c0c-9076-5f4067fb3f36",
   "metadata": {},
   "source": [
    "### Рассмотрим соотношение пользователей с подпиской и без."
   ]
  },
  {
   "cell_type": "markdown",
   "id": "5c25508e-d3aa-4e22-9829-9256005568ce",
   "metadata": {},
   "source": [
    "Для наглядности построим график количества пользователей с подпиской и без неё."
   ]
  },
  {
   "cell_type": "code",
   "execution_count": 16,
   "id": "f4014468-d6c4-4054-9679-c2b5f7da3d46",
   "metadata": {},
   "outputs": [
    {
     "data": {
      "image/png": "[encoded data removed]",
      "text/plain": [
       "<Figure size 640x480 with 1 Axes>"
      ]
     },
     "metadata": {},
     "output_type": "display_data"
    }
   ],
   "source": [
    "subscription_counts = data_users['subscription_type'].value_counts()\n",
    "\n",
    "plt.pie(subscription_counts, labels=subscription_counts.index, autopct='%1.2f%%')\n",
    "plt.axis('equal')\n",
    "plt.title('Распределение пользователей по типу подписки')\n",
    "plt.show()"
   ]
  },
  {
   "cell_type": "code",
   "execution_count": 17,
   "id": "4d2d6516-a16d-4862-b7db-2e13529ce173",
   "metadata": {},
   "outputs": [
    {
     "data": {
      "text/plain": [
       "'Количество пользователей с подпиской: 45.57 %'"
      ]
     },
     "metadata": {},
     "output_type": "display_data"
    },
    {
     "data": {
      "text/plain": [
       "'Количество пользователей без подписки: 54.43 %'"
      ]
     },
     "metadata": {},
     "output_type": "display_data"
    }
   ],
   "source": [
    "with_subscription = (round\n",
    "                    (data_users[data_users['subscription_type'] == 'ultra']['subscription_type'].count() / \n",
    "                    data_users['subscription_type'].count() * 100, 2)\n",
    "                    )\n",
    "no_subscription = (round\n",
    "                  (data_users[data_users['subscription_type'] == 'free']['subscription_type'].count() / \n",
    "                  data_users['subscription_type'].count() * 100, 2)\n",
    "                  )\n",
    "display(f'Количество пользователей с подпиской: {with_subscription} %')\n",
    "display(f'Количество пользователей без подписки: {no_subscription} %')"
   ]
  },
  {
   "cell_type": "markdown",
   "id": "bc2af19f-c439-42a6-a5cb-0b196ec9b58e",
   "metadata": {},
   "source": [
    "- Промежуточный вовод: проанализировав полученные данные мы можем сделать вывод, что количество пользователей без подписки больше на 8.86%."
   ]
  },
  {
   "cell_type": "markdown",
   "id": "cbc092d9-b081-4dfe-add7-1a0a5dacccfd",
   "metadata": {},
   "source": [
    "### Изучим возраст пользователей сервиса."
   ]
  },
  {
   "cell_type": "code",
   "execution_count": 18,
   "id": "8f9d3277-c9ad-4107-b680-904a21d638d7",
   "metadata": {},
   "outputs": [
    {
     "data": {
      "image/png": "[encoded data removed]",
      "text/plain": [
       "<Figure size 640x480 with 1 Axes>"
      ]
     },
     "metadata": {},
     "output_type": "display_data"
    }
   ],
   "source": [
    "data_users['age'].hist(bins=30)\n",
    "plt.title('Возвраст пользователей сервиса')\n",
    "plt.show()"
   ]
  },
  {
   "cell_type": "markdown",
   "id": "08a42256-871d-42c9-9f08-115fffb2c4d5",
   "metadata": {},
   "source": [
    "- Промежуточный вывод: проанализировав полученные графики мы можем сделать, что большинство пользователей электросамокатов являются лица от 20 до 27 лет.  \n",
    "Аренда самокатов возможна лицам от 14 лет, на графике видны пользователи младше этого возраста."
   ]
  },
  {
   "cell_type": "markdown",
   "id": "7a1a35e2-9acb-4732-90df-4e09bb2473f5",
   "metadata": {},
   "source": [
    "### Рассмотрим расстояние, которое пользователь преодолел за одну поездку."
   ]
  },
  {
   "cell_type": "code",
   "execution_count": 19,
   "id": "7744782f-ea9d-45b4-9607-75f2eaa6c33e",
   "metadata": {},
   "outputs": [
    {
     "data": {
      "text/html": [
       "<div>\n",
       "<style scoped>\n",
       "    .dataframe tbody tr th:only-of-type {\n",
       "        vertical-align: middle;\n",
       "    }\n",
       "\n",
       "    .dataframe tbody tr th {\n",
       "        vertical-align: top;\n",
       "    }\n",
       "\n",
       "    .dataframe thead th {\n",
       "        text-align: right;\n",
       "    }\n",
       "</style>\n",
       "<table border=\"1\" class=\"dataframe\">\n",
       "  <thead>\n",
       "    <tr style=\"text-align: right;\">\n",
       "      <th></th>\n",
       "      <th>user_id</th>\n",
       "      <th>distance</th>\n",
       "      <th>duration</th>\n",
       "      <th>date</th>\n",
       "      <th>number_month</th>\n",
       "    </tr>\n",
       "  </thead>\n",
       "  <tbody>\n",
       "    <tr>\n",
       "      <th>0</th>\n",
       "      <td>1</td>\n",
       "      <td>4409.919140</td>\n",
       "      <td>25.599769</td>\n",
       "      <td>2021-01-01</td>\n",
       "      <td>1</td>\n",
       "    </tr>\n",
       "    <tr>\n",
       "      <th>1</th>\n",
       "      <td>1</td>\n",
       "      <td>2617.592153</td>\n",
       "      <td>15.816871</td>\n",
       "      <td>2021-01-18</td>\n",
       "      <td>1</td>\n",
       "    </tr>\n",
       "    <tr>\n",
       "      <th>2</th>\n",
       "      <td>1</td>\n",
       "      <td>754.159807</td>\n",
       "      <td>6.232113</td>\n",
       "      <td>2021-04-20</td>\n",
       "      <td>4</td>\n",
       "    </tr>\n",
       "    <tr>\n",
       "      <th>3</th>\n",
       "      <td>1</td>\n",
       "      <td>2694.783254</td>\n",
       "      <td>18.511000</td>\n",
       "      <td>2021-08-11</td>\n",
       "      <td>8</td>\n",
       "    </tr>\n",
       "    <tr>\n",
       "      <th>4</th>\n",
       "      <td>1</td>\n",
       "      <td>4028.687306</td>\n",
       "      <td>26.265803</td>\n",
       "      <td>2021-08-28</td>\n",
       "      <td>8</td>\n",
       "    </tr>\n",
       "  </tbody>\n",
       "</table>\n",
       "</div>"
      ],
      "text/plain": [
       "   user_id     distance   duration       date  number_month\n",
       "0        1  4409.919140  25.599769 2021-01-01             1\n",
       "1        1  2617.592153  15.816871 2021-01-18             1\n",
       "2        1   754.159807   6.232113 2021-04-20             4\n",
       "3        1  2694.783254  18.511000 2021-08-11             8\n",
       "4        1  4028.687306  26.265803 2021-08-28             8"
      ]
     },
     "execution_count": 19,
     "metadata": {},
     "output_type": "execute_result"
    }
   ],
   "source": [
    "data_riders.head()"
   ]
  },
  {
   "cell_type": "markdown",
   "id": "0a443d94-b185-4ca8-8110-51570e0460c4",
   "metadata": {},
   "source": [
    "Округлим значение столбца distance до целого в большую сторону."
   ]
  },
  {
   "cell_type": "code",
   "execution_count": 20,
   "id": "da738bad-3c6c-4b98-ade0-85be139fe606",
   "metadata": {},
   "outputs": [
    {
     "data": {
      "text/html": [
       "<div>\n",
       "<style scoped>\n",
       "    .dataframe tbody tr th:only-of-type {\n",
       "        vertical-align: middle;\n",
       "    }\n",
       "\n",
       "    .dataframe tbody tr th {\n",
       "        vertical-align: top;\n",
       "    }\n",
       "\n",
       "    .dataframe thead th {\n",
       "        text-align: right;\n",
       "    }\n",
       "</style>\n",
       "<table border=\"1\" class=\"dataframe\">\n",
       "  <thead>\n",
       "    <tr style=\"text-align: right;\">\n",
       "      <th></th>\n",
       "      <th>user_id</th>\n",
       "      <th>distance</th>\n",
       "      <th>duration</th>\n",
       "      <th>date</th>\n",
       "      <th>number_month</th>\n",
       "    </tr>\n",
       "  </thead>\n",
       "  <tbody>\n",
       "    <tr>\n",
       "      <th>0</th>\n",
       "      <td>1</td>\n",
       "      <td>4409.92</td>\n",
       "      <td>25.599769</td>\n",
       "      <td>2021-01-01</td>\n",
       "      <td>1</td>\n",
       "    </tr>\n",
       "    <tr>\n",
       "      <th>1</th>\n",
       "      <td>1</td>\n",
       "      <td>2617.59</td>\n",
       "      <td>15.816871</td>\n",
       "      <td>2021-01-18</td>\n",
       "      <td>1</td>\n",
       "    </tr>\n",
       "    <tr>\n",
       "      <th>2</th>\n",
       "      <td>1</td>\n",
       "      <td>754.16</td>\n",
       "      <td>6.232113</td>\n",
       "      <td>2021-04-20</td>\n",
       "      <td>4</td>\n",
       "    </tr>\n",
       "    <tr>\n",
       "      <th>3</th>\n",
       "      <td>1</td>\n",
       "      <td>2694.78</td>\n",
       "      <td>18.511000</td>\n",
       "      <td>2021-08-11</td>\n",
       "      <td>8</td>\n",
       "    </tr>\n",
       "    <tr>\n",
       "      <th>4</th>\n",
       "      <td>1</td>\n",
       "      <td>4028.69</td>\n",
       "      <td>26.265803</td>\n",
       "      <td>2021-08-28</td>\n",
       "      <td>8</td>\n",
       "    </tr>\n",
       "  </tbody>\n",
       "</table>\n",
       "</div>"
      ],
      "text/plain": [
       "   user_id  distance   duration       date  number_month\n",
       "0        1   4409.92  25.599769 2021-01-01             1\n",
       "1        1   2617.59  15.816871 2021-01-18             1\n",
       "2        1    754.16   6.232113 2021-04-20             4\n",
       "3        1   2694.78  18.511000 2021-08-11             8\n",
       "4        1   4028.69  26.265803 2021-08-28             8"
      ]
     },
     "execution_count": 20,
     "metadata": {},
     "output_type": "execute_result"
    }
   ],
   "source": [
    "data_riders['distance'] = round(data_riders['distance'], 2)\n",
    "data_riders.head()"
   ]
  },
  {
   "cell_type": "code",
   "execution_count": 21,
   "id": "5d9b8ea4-fcb2-4f61-8527-2babc37dc5dc",
   "metadata": {
    "scrolled": true
   },
   "outputs": [
    {
     "data": {
      "text/plain": [
       "count    18068.000000\n",
       "mean      3070.659992\n",
       "std       1116.831222\n",
       "min          0.860000\n",
       "25%       2543.227500\n",
       "50%       3133.610000\n",
       "75%       3776.220000\n",
       "max       7211.010000\n",
       "Name: distance, dtype: float64"
      ]
     },
     "execution_count": 21,
     "metadata": {},
     "output_type": "execute_result"
    }
   ],
   "source": [
    "data_riders['distance'].describe()"
   ]
  },
  {
   "cell_type": "markdown",
   "id": "2a9e4285",
   "metadata": {},
   "source": [
    "<!-- Создадим новый столбец distance_group с расстояниями:\n",
    "- до 1 км;\n",
    "- 1-2 км;\n",
    "- 2-3 км;\n",
    "- 3-4 км;\n",
    "- 4-5 км;\n",
    "- 5-6 км;\n",
    "- больше 6 км.\n",
    "   -->"
   ]
  },
  {
   "cell_type": "markdown",
   "id": "32949fd3-e4ec-4e6d-9b2d-eb7d80f7e01a",
   "metadata": {},
   "source": [
    "- Промежуточный вывод: на графике выше мы можем сделать вывод, что пользователи сервиса в большинстве случаев преодолевают расстояние от 2,2 до 4 км, меньше преодолевают от 4 до 5 км.  \n",
    "Расстояния до 2 км и более 4км пользователи преодолевают в разы реже, возможно связано с тем, что на короткие дистанции проще пройти пешком, а на длинные дистанции выгоднее воспользоваться такси/общественным транспортом."
   ]
  },
  {
   "cell_type": "markdown",
   "id": "2a52e5d1-6d94-48bb-8ae3-9cd7d24ef9dc",
   "metadata": {},
   "source": [
    "### Продолжительность поездок."
   ]
  },
  {
   "cell_type": "markdown",
   "id": "1270ca09-d490-4dfd-8de3-20bc265e1573",
   "metadata": {},
   "source": [
    "Столбец duration со значениями 6 символов после запятой, округлим эти значения также до целого в большую сторону.\t"
   ]
  },
  {
   "cell_type": "code",
   "execution_count": 22,
   "id": "29adc518-5a1d-4cf9-9f09-e9a132bbeeb9",
   "metadata": {},
   "outputs": [
    {
     "data": {
      "text/html": [
       "<div>\n",
       "<style scoped>\n",
       "    .dataframe tbody tr th:only-of-type {\n",
       "        vertical-align: middle;\n",
       "    }\n",
       "\n",
       "    .dataframe tbody tr th {\n",
       "        vertical-align: top;\n",
       "    }\n",
       "\n",
       "    .dataframe thead th {\n",
       "        text-align: right;\n",
       "    }\n",
       "</style>\n",
       "<table border=\"1\" class=\"dataframe\">\n",
       "  <thead>\n",
       "    <tr style=\"text-align: right;\">\n",
       "      <th></th>\n",
       "      <th>user_id</th>\n",
       "      <th>distance</th>\n",
       "      <th>duration</th>\n",
       "      <th>date</th>\n",
       "      <th>number_month</th>\n",
       "    </tr>\n",
       "  </thead>\n",
       "  <tbody>\n",
       "    <tr>\n",
       "      <th>0</th>\n",
       "      <td>1</td>\n",
       "      <td>4409.92</td>\n",
       "      <td>26.0</td>\n",
       "      <td>2021-01-01</td>\n",
       "      <td>1</td>\n",
       "    </tr>\n",
       "    <tr>\n",
       "      <th>1</th>\n",
       "      <td>1</td>\n",
       "      <td>2617.59</td>\n",
       "      <td>16.0</td>\n",
       "      <td>2021-01-18</td>\n",
       "      <td>1</td>\n",
       "    </tr>\n",
       "    <tr>\n",
       "      <th>2</th>\n",
       "      <td>1</td>\n",
       "      <td>754.16</td>\n",
       "      <td>7.0</td>\n",
       "      <td>2021-04-20</td>\n",
       "      <td>4</td>\n",
       "    </tr>\n",
       "    <tr>\n",
       "      <th>3</th>\n",
       "      <td>1</td>\n",
       "      <td>2694.78</td>\n",
       "      <td>19.0</td>\n",
       "      <td>2021-08-11</td>\n",
       "      <td>8</td>\n",
       "    </tr>\n",
       "    <tr>\n",
       "      <th>4</th>\n",
       "      <td>1</td>\n",
       "      <td>4028.69</td>\n",
       "      <td>27.0</td>\n",
       "      <td>2021-08-28</td>\n",
       "      <td>8</td>\n",
       "    </tr>\n",
       "  </tbody>\n",
       "</table>\n",
       "</div>"
      ],
      "text/plain": [
       "   user_id  distance  duration       date  number_month\n",
       "0        1   4409.92      26.0 2021-01-01             1\n",
       "1        1   2617.59      16.0 2021-01-18             1\n",
       "2        1    754.16       7.0 2021-04-20             4\n",
       "3        1   2694.78      19.0 2021-08-11             8\n",
       "4        1   4028.69      27.0 2021-08-28             8"
      ]
     },
     "execution_count": 22,
     "metadata": {},
     "output_type": "execute_result"
    }
   ],
   "source": [
    "data_riders['duration'] = np.ceil(data_riders['duration'])\n",
    "data_riders.head()"
   ]
  },
  {
   "cell_type": "code",
   "execution_count": 23,
   "id": "e6dd15f8-083f-4173-a4ca-e42a7b8923ab",
   "metadata": {},
   "outputs": [
    {
     "data": {
      "text/plain": [
       "count    18068.000000\n",
       "mean        18.303520\n",
       "std          6.094928\n",
       "min          1.000000\n",
       "25%         14.000000\n",
       "50%         18.000000\n",
       "75%         22.000000\n",
       "max         41.000000\n",
       "Name: duration, dtype: float64"
      ]
     },
     "execution_count": 23,
     "metadata": {},
     "output_type": "execute_result"
    }
   ],
   "source": [
    "data_riders['duration'].describe()"
   ]
  },
  {
   "cell_type": "markdown",
   "id": "2ed0a85a",
   "metadata": {},
   "source": [
    "На основе графика мы можем сделать вывод, что пользователи в большинстве случаев проводят от 12 до 24 мин. на самокате.  \n",
    "Реже самокатами пользуются до 12 мин и более 24 мин.  \n",
    "Также на графики видны всплески, где длительность поездки оставляет 14, 17 и 21 мин."
   ]
  },
  {
   "cell_type": "markdown",
   "id": "4ef51331",
   "metadata": {},
   "source": [
    "## Объединение данных"
   ]
  },
  {
   "cell_type": "markdown",
   "id": "6a8daf1c-afd6-49f2-8e74-6ca8aa8793f4",
   "metadata": {},
   "source": [
    "### Объединяем датафреймы"
   ]
  },
  {
   "cell_type": "markdown",
   "id": "c0ba7c19-ea50-44f8-9176-ec3a973ab179",
   "metadata": {},
   "source": [
    "Объединим датафреймы для удобства работы с ними"
   ]
  },
  {
   "cell_type": "code",
   "execution_count": 24,
   "id": "f2739015-b4ae-4a6e-b671-fdbc8129286b",
   "metadata": {
    "scrolled": true
   },
   "outputs": [
    {
     "data": {
      "text/html": [
       "<div>\n",
       "<style scoped>\n",
       "    .dataframe tbody tr th:only-of-type {\n",
       "        vertical-align: middle;\n",
       "    }\n",
       "\n",
       "    .dataframe tbody tr th {\n",
       "        vertical-align: top;\n",
       "    }\n",
       "\n",
       "    .dataframe thead th {\n",
       "        text-align: right;\n",
       "    }\n",
       "</style>\n",
       "<table border=\"1\" class=\"dataframe\">\n",
       "  <thead>\n",
       "    <tr style=\"text-align: right;\">\n",
       "      <th></th>\n",
       "      <th>user_id</th>\n",
       "      <th>name</th>\n",
       "      <th>age</th>\n",
       "      <th>city</th>\n",
       "      <th>subscription_type</th>\n",
       "      <th>distance</th>\n",
       "      <th>duration</th>\n",
       "      <th>date</th>\n",
       "      <th>number_month</th>\n",
       "    </tr>\n",
       "  </thead>\n",
       "  <tbody>\n",
       "    <tr>\n",
       "      <th>0</th>\n",
       "      <td>1</td>\n",
       "      <td>Кира</td>\n",
       "      <td>22</td>\n",
       "      <td>Тюмень</td>\n",
       "      <td>ultra</td>\n",
       "      <td>4409.92</td>\n",
       "      <td>26.0</td>\n",
       "      <td>2021-01-01</td>\n",
       "      <td>1</td>\n",
       "    </tr>\n",
       "    <tr>\n",
       "      <th>1</th>\n",
       "      <td>1</td>\n",
       "      <td>Кира</td>\n",
       "      <td>22</td>\n",
       "      <td>Тюмень</td>\n",
       "      <td>ultra</td>\n",
       "      <td>2617.59</td>\n",
       "      <td>16.0</td>\n",
       "      <td>2021-01-18</td>\n",
       "      <td>1</td>\n",
       "    </tr>\n",
       "    <tr>\n",
       "      <th>2</th>\n",
       "      <td>1</td>\n",
       "      <td>Кира</td>\n",
       "      <td>22</td>\n",
       "      <td>Тюмень</td>\n",
       "      <td>ultra</td>\n",
       "      <td>754.16</td>\n",
       "      <td>7.0</td>\n",
       "      <td>2021-04-20</td>\n",
       "      <td>4</td>\n",
       "    </tr>\n",
       "    <tr>\n",
       "      <th>3</th>\n",
       "      <td>1</td>\n",
       "      <td>Кира</td>\n",
       "      <td>22</td>\n",
       "      <td>Тюмень</td>\n",
       "      <td>ultra</td>\n",
       "      <td>2694.78</td>\n",
       "      <td>19.0</td>\n",
       "      <td>2021-08-11</td>\n",
       "      <td>8</td>\n",
       "    </tr>\n",
       "    <tr>\n",
       "      <th>4</th>\n",
       "      <td>1</td>\n",
       "      <td>Кира</td>\n",
       "      <td>22</td>\n",
       "      <td>Тюмень</td>\n",
       "      <td>ultra</td>\n",
       "      <td>4028.69</td>\n",
       "      <td>27.0</td>\n",
       "      <td>2021-08-28</td>\n",
       "      <td>8</td>\n",
       "    </tr>\n",
       "    <tr>\n",
       "      <th>5</th>\n",
       "      <td>1</td>\n",
       "      <td>Кира</td>\n",
       "      <td>22</td>\n",
       "      <td>Тюмень</td>\n",
       "      <td>ultra</td>\n",
       "      <td>2770.89</td>\n",
       "      <td>17.0</td>\n",
       "      <td>2021-10-09</td>\n",
       "      <td>10</td>\n",
       "    </tr>\n",
       "    <tr>\n",
       "      <th>6</th>\n",
       "      <td>1</td>\n",
       "      <td>Кира</td>\n",
       "      <td>22</td>\n",
       "      <td>Тюмень</td>\n",
       "      <td>ultra</td>\n",
       "      <td>3039.02</td>\n",
       "      <td>15.0</td>\n",
       "      <td>2021-10-19</td>\n",
       "      <td>10</td>\n",
       "    </tr>\n",
       "    <tr>\n",
       "      <th>7</th>\n",
       "      <td>1</td>\n",
       "      <td>Кира</td>\n",
       "      <td>22</td>\n",
       "      <td>Тюмень</td>\n",
       "      <td>ultra</td>\n",
       "      <td>2842.12</td>\n",
       "      <td>24.0</td>\n",
       "      <td>2021-11-06</td>\n",
       "      <td>11</td>\n",
       "    </tr>\n",
       "    <tr>\n",
       "      <th>8</th>\n",
       "      <td>1</td>\n",
       "      <td>Кира</td>\n",
       "      <td>22</td>\n",
       "      <td>Тюмень</td>\n",
       "      <td>ultra</td>\n",
       "      <td>3412.69</td>\n",
       "      <td>16.0</td>\n",
       "      <td>2021-11-14</td>\n",
       "      <td>11</td>\n",
       "    </tr>\n",
       "    <tr>\n",
       "      <th>9</th>\n",
       "      <td>1</td>\n",
       "      <td>Кира</td>\n",
       "      <td>22</td>\n",
       "      <td>Тюмень</td>\n",
       "      <td>ultra</td>\n",
       "      <td>748.69</td>\n",
       "      <td>16.0</td>\n",
       "      <td>2021-11-22</td>\n",
       "      <td>11</td>\n",
       "    </tr>\n",
       "    <tr>\n",
       "      <th>10</th>\n",
       "      <td>1</td>\n",
       "      <td>Кира</td>\n",
       "      <td>22</td>\n",
       "      <td>Тюмень</td>\n",
       "      <td>ultra</td>\n",
       "      <td>4031.02</td>\n",
       "      <td>18.0</td>\n",
       "      <td>2021-12-14</td>\n",
       "      <td>12</td>\n",
       "    </tr>\n",
       "    <tr>\n",
       "      <th>11</th>\n",
       "      <td>1</td>\n",
       "      <td>Кира</td>\n",
       "      <td>22</td>\n",
       "      <td>Тюмень</td>\n",
       "      <td>ultra</td>\n",
       "      <td>2720.61</td>\n",
       "      <td>10.0</td>\n",
       "      <td>2021-12-22</td>\n",
       "      <td>12</td>\n",
       "    </tr>\n",
       "    <tr>\n",
       "      <th>12</th>\n",
       "      <td>2</td>\n",
       "      <td>Станислав</td>\n",
       "      <td>31</td>\n",
       "      <td>Омск</td>\n",
       "      <td>ultra</td>\n",
       "      <td>3105.09</td>\n",
       "      <td>25.0</td>\n",
       "      <td>2021-03-15</td>\n",
       "      <td>3</td>\n",
       "    </tr>\n",
       "    <tr>\n",
       "      <th>13</th>\n",
       "      <td>2</td>\n",
       "      <td>Станислав</td>\n",
       "      <td>31</td>\n",
       "      <td>Омск</td>\n",
       "      <td>ultra</td>\n",
       "      <td>3053.52</td>\n",
       "      <td>12.0</td>\n",
       "      <td>2021-03-18</td>\n",
       "      <td>3</td>\n",
       "    </tr>\n",
       "    <tr>\n",
       "      <th>14</th>\n",
       "      <td>2</td>\n",
       "      <td>Станислав</td>\n",
       "      <td>31</td>\n",
       "      <td>Омск</td>\n",
       "      <td>ultra</td>\n",
       "      <td>4029.12</td>\n",
       "      <td>26.0</td>\n",
       "      <td>2021-03-23</td>\n",
       "      <td>3</td>\n",
       "    </tr>\n",
       "    <tr>\n",
       "      <th>15</th>\n",
       "      <td>2</td>\n",
       "      <td>Станислав</td>\n",
       "      <td>31</td>\n",
       "      <td>Омск</td>\n",
       "      <td>ultra</td>\n",
       "      <td>2805.79</td>\n",
       "      <td>21.0</td>\n",
       "      <td>2021-04-08</td>\n",
       "      <td>4</td>\n",
       "    </tr>\n",
       "    <tr>\n",
       "      <th>16</th>\n",
       "      <td>2</td>\n",
       "      <td>Станислав</td>\n",
       "      <td>31</td>\n",
       "      <td>Омск</td>\n",
       "      <td>ultra</td>\n",
       "      <td>3358.60</td>\n",
       "      <td>19.0</td>\n",
       "      <td>2021-04-13</td>\n",
       "      <td>4</td>\n",
       "    </tr>\n",
       "    <tr>\n",
       "      <th>17</th>\n",
       "      <td>2</td>\n",
       "      <td>Станислав</td>\n",
       "      <td>31</td>\n",
       "      <td>Омск</td>\n",
       "      <td>ultra</td>\n",
       "      <td>3255.34</td>\n",
       "      <td>14.0</td>\n",
       "      <td>2021-06-20</td>\n",
       "      <td>6</td>\n",
       "    </tr>\n",
       "    <tr>\n",
       "      <th>18</th>\n",
       "      <td>2</td>\n",
       "      <td>Станислав</td>\n",
       "      <td>31</td>\n",
       "      <td>Омск</td>\n",
       "      <td>ultra</td>\n",
       "      <td>3942.82</td>\n",
       "      <td>21.0</td>\n",
       "      <td>2021-07-02</td>\n",
       "      <td>7</td>\n",
       "    </tr>\n",
       "    <tr>\n",
       "      <th>19</th>\n",
       "      <td>2</td>\n",
       "      <td>Станислав</td>\n",
       "      <td>31</td>\n",
       "      <td>Омск</td>\n",
       "      <td>ultra</td>\n",
       "      <td>2837.91</td>\n",
       "      <td>27.0</td>\n",
       "      <td>2021-07-18</td>\n",
       "      <td>7</td>\n",
       "    </tr>\n",
       "  </tbody>\n",
       "</table>\n",
       "</div>"
      ],
      "text/plain": [
       "    user_id       name  age    city subscription_type  distance  duration  \\\n",
       "0         1       Кира   22  Тюмень             ultra   4409.92      26.0   \n",
       "1         1       Кира   22  Тюмень             ultra   2617.59      16.0   \n",
       "2         1       Кира   22  Тюмень             ultra    754.16       7.0   \n",
       "3         1       Кира   22  Тюмень             ultra   2694.78      19.0   \n",
       "4         1       Кира   22  Тюмень             ultra   4028.69      27.0   \n",
       "5         1       Кира   22  Тюмень             ultra   2770.89      17.0   \n",
       "6         1       Кира   22  Тюмень             ultra   3039.02      15.0   \n",
       "7         1       Кира   22  Тюмень             ultra   2842.12      24.0   \n",
       "8         1       Кира   22  Тюмень             ultra   3412.69      16.0   \n",
       "9         1       Кира   22  Тюмень             ultra    748.69      16.0   \n",
       "10        1       Кира   22  Тюмень             ultra   4031.02      18.0   \n",
       "11        1       Кира   22  Тюмень             ultra   2720.61      10.0   \n",
       "12        2  Станислав   31    Омск             ultra   3105.09      25.0   \n",
       "13        2  Станислав   31    Омск             ultra   3053.52      12.0   \n",
       "14        2  Станислав   31    Омск             ultra   4029.12      26.0   \n",
       "15        2  Станислав   31    Омск             ultra   2805.79      21.0   \n",
       "16        2  Станислав   31    Омск             ultra   3358.60      19.0   \n",
       "17        2  Станислав   31    Омск             ultra   3255.34      14.0   \n",
       "18        2  Станислав   31    Омск             ultra   3942.82      21.0   \n",
       "19        2  Станислав   31    Омск             ultra   2837.91      27.0   \n",
       "\n",
       "         date  number_month  \n",
       "0  2021-01-01             1  \n",
       "1  2021-01-18             1  \n",
       "2  2021-04-20             4  \n",
       "3  2021-08-11             8  \n",
       "4  2021-08-28             8  \n",
       "5  2021-10-09            10  \n",
       "6  2021-10-19            10  \n",
       "7  2021-11-06            11  \n",
       "8  2021-11-14            11  \n",
       "9  2021-11-22            11  \n",
       "10 2021-12-14            12  \n",
       "11 2021-12-22            12  \n",
       "12 2021-03-15             3  \n",
       "13 2021-03-18             3  \n",
       "14 2021-03-23             3  \n",
       "15 2021-04-08             4  \n",
       "16 2021-04-13             4  \n",
       "17 2021-06-20             6  \n",
       "18 2021-07-02             7  \n",
       "19 2021-07-18             7  "
      ]
     },
     "execution_count": 24,
     "metadata": {},
     "output_type": "execute_result"
    }
   ],
   "source": [
    "new_data = data_users.merge(data_riders, on='user_id')\n",
    "new_data.head(20)"
   ]
  },
  {
   "cell_type": "code",
   "execution_count": 25,
   "id": "4de49ba7",
   "metadata": {},
   "outputs": [
    {
     "data": {
      "text/plain": [
       "'Размерность до объединения: (1534, 5), (18068, 5)'"
      ]
     },
     "metadata": {},
     "output_type": "display_data"
    },
    {
     "data": {
      "text/plain": [
       "(18068, 9)"
      ]
     },
     "metadata": {},
     "output_type": "display_data"
    },
    {
     "data": {
      "text/plain": [
       "user_id              0\n",
       "name                 0\n",
       "age                  0\n",
       "city                 0\n",
       "subscription_type    0\n",
       "distance             0\n",
       "duration             0\n",
       "date                 0\n",
       "number_month         0\n",
       "dtype: int64"
      ]
     },
     "metadata": {},
     "output_type": "display_data"
    }
   ],
   "source": [
    "display(f'Размерность до объединения: {data_users.shape[:]}, {data_riders.shape[:]}')\n",
    "display(new_data.shape[:])\n",
    "display(new_data.isna().sum())"
   ]
  },
  {
   "cell_type": "code",
   "execution_count": 26,
   "id": "0641d4f0-a338-45c2-b0d4-8a2d71a4e766",
   "metadata": {
    "scrolled": true
   },
   "outputs": [
    {
     "data": {
      "text/html": [
       "<div>\n",
       "<style scoped>\n",
       "    .dataframe tbody tr th:only-of-type {\n",
       "        vertical-align: middle;\n",
       "    }\n",
       "\n",
       "    .dataframe tbody tr th {\n",
       "        vertical-align: top;\n",
       "    }\n",
       "\n",
       "    .dataframe thead th {\n",
       "        text-align: right;\n",
       "    }\n",
       "</style>\n",
       "<table border=\"1\" class=\"dataframe\">\n",
       "  <thead>\n",
       "    <tr style=\"text-align: right;\">\n",
       "      <th></th>\n",
       "      <th>user_id</th>\n",
       "      <th>name</th>\n",
       "      <th>age</th>\n",
       "      <th>city</th>\n",
       "      <th>subscription_type</th>\n",
       "      <th>distance</th>\n",
       "      <th>duration</th>\n",
       "      <th>date</th>\n",
       "      <th>number_month</th>\n",
       "      <th>minute_price</th>\n",
       "      <th>start_ride_price</th>\n",
       "      <th>subscription_fee</th>\n",
       "    </tr>\n",
       "  </thead>\n",
       "  <tbody>\n",
       "    <tr>\n",
       "      <th>0</th>\n",
       "      <td>1</td>\n",
       "      <td>Кира</td>\n",
       "      <td>22</td>\n",
       "      <td>Тюмень</td>\n",
       "      <td>ultra</td>\n",
       "      <td>4409.92</td>\n",
       "      <td>26.0</td>\n",
       "      <td>2021-01-01</td>\n",
       "      <td>1</td>\n",
       "      <td>6</td>\n",
       "      <td>0</td>\n",
       "      <td>199</td>\n",
       "    </tr>\n",
       "    <tr>\n",
       "      <th>1</th>\n",
       "      <td>1</td>\n",
       "      <td>Кира</td>\n",
       "      <td>22</td>\n",
       "      <td>Тюмень</td>\n",
       "      <td>ultra</td>\n",
       "      <td>2617.59</td>\n",
       "      <td>16.0</td>\n",
       "      <td>2021-01-18</td>\n",
       "      <td>1</td>\n",
       "      <td>6</td>\n",
       "      <td>0</td>\n",
       "      <td>199</td>\n",
       "    </tr>\n",
       "    <tr>\n",
       "      <th>2</th>\n",
       "      <td>1</td>\n",
       "      <td>Кира</td>\n",
       "      <td>22</td>\n",
       "      <td>Тюмень</td>\n",
       "      <td>ultra</td>\n",
       "      <td>754.16</td>\n",
       "      <td>7.0</td>\n",
       "      <td>2021-04-20</td>\n",
       "      <td>4</td>\n",
       "      <td>6</td>\n",
       "      <td>0</td>\n",
       "      <td>199</td>\n",
       "    </tr>\n",
       "    <tr>\n",
       "      <th>3</th>\n",
       "      <td>1</td>\n",
       "      <td>Кира</td>\n",
       "      <td>22</td>\n",
       "      <td>Тюмень</td>\n",
       "      <td>ultra</td>\n",
       "      <td>2694.78</td>\n",
       "      <td>19.0</td>\n",
       "      <td>2021-08-11</td>\n",
       "      <td>8</td>\n",
       "      <td>6</td>\n",
       "      <td>0</td>\n",
       "      <td>199</td>\n",
       "    </tr>\n",
       "    <tr>\n",
       "      <th>4</th>\n",
       "      <td>1</td>\n",
       "      <td>Кира</td>\n",
       "      <td>22</td>\n",
       "      <td>Тюмень</td>\n",
       "      <td>ultra</td>\n",
       "      <td>4028.69</td>\n",
       "      <td>27.0</td>\n",
       "      <td>2021-08-28</td>\n",
       "      <td>8</td>\n",
       "      <td>6</td>\n",
       "      <td>0</td>\n",
       "      <td>199</td>\n",
       "    </tr>\n",
       "  </tbody>\n",
       "</table>\n",
       "</div>"
      ],
      "text/plain": [
       "   user_id  name  age    city subscription_type  distance  duration  \\\n",
       "0        1  Кира   22  Тюмень             ultra   4409.92      26.0   \n",
       "1        1  Кира   22  Тюмень             ultra   2617.59      16.0   \n",
       "2        1  Кира   22  Тюмень             ultra    754.16       7.0   \n",
       "3        1  Кира   22  Тюмень             ultra   2694.78      19.0   \n",
       "4        1  Кира   22  Тюмень             ultra   4028.69      27.0   \n",
       "\n",
       "        date  number_month  minute_price  start_ride_price  subscription_fee  \n",
       "0 2021-01-01             1             6                 0               199  \n",
       "1 2021-01-18             1             6                 0               199  \n",
       "2 2021-04-20             4             6                 0               199  \n",
       "3 2021-08-11             8             6                 0               199  \n",
       "4 2021-08-28             8             6                 0               199  "
      ]
     },
     "execution_count": 26,
     "metadata": {},
     "output_type": "execute_result"
    }
   ],
   "source": [
    "new_data = new_data.merge(data_subscriptions, on='subscription_type')\n",
    "new_data.head()"
   ]
  },
  {
   "cell_type": "code",
   "execution_count": 27,
   "id": "06fa4b60",
   "metadata": {},
   "outputs": [
    {
     "data": {
      "text/plain": [
       "'Размерность после объединения: (18068, 12)'"
      ]
     },
     "metadata": {},
     "output_type": "display_data"
    },
    {
     "data": {
      "text/plain": [
       "user_id              0\n",
       "name                 0\n",
       "age                  0\n",
       "city                 0\n",
       "subscription_type    0\n",
       "distance             0\n",
       "duration             0\n",
       "date                 0\n",
       "number_month         0\n",
       "minute_price         0\n",
       "start_ride_price     0\n",
       "subscription_fee     0\n",
       "dtype: int64"
      ]
     },
     "metadata": {},
     "output_type": "display_data"
    }
   ],
   "source": [
    "display(f'Размерность после объединения: {new_data.shape[:]}')\n",
    "display(new_data.isna().sum())"
   ]
  },
  {
   "cell_type": "markdown",
   "id": "bebf9a76-a492-4799-a377-0e3880584960",
   "metadata": {},
   "source": [
    "### Создание двух новых датафреймов с подпиской и без неё."
   ]
  },
  {
   "cell_type": "markdown",
   "id": "6fb24a9b-f7dc-4eaa-8ddf-3f23108bface",
   "metadata": {},
   "source": [
    "Создадим два новых датафрейма с пользователями с подпиской и без неё."
   ]
  },
  {
   "cell_type": "code",
   "execution_count": 28,
   "id": "3df005cb-42ab-48c0-bc1c-bee08755deb5",
   "metadata": {},
   "outputs": [
    {
     "data": {
      "text/html": [
       "<div>\n",
       "<style scoped>\n",
       "    .dataframe tbody tr th:only-of-type {\n",
       "        vertical-align: middle;\n",
       "    }\n",
       "\n",
       "    .dataframe tbody tr th {\n",
       "        vertical-align: top;\n",
       "    }\n",
       "\n",
       "    .dataframe thead th {\n",
       "        text-align: right;\n",
       "    }\n",
       "</style>\n",
       "<table border=\"1\" class=\"dataframe\">\n",
       "  <thead>\n",
       "    <tr style=\"text-align: right;\">\n",
       "      <th></th>\n",
       "      <th>user_id</th>\n",
       "      <th>name</th>\n",
       "      <th>age</th>\n",
       "      <th>city</th>\n",
       "      <th>subscription_type</th>\n",
       "      <th>distance</th>\n",
       "      <th>duration</th>\n",
       "      <th>date</th>\n",
       "      <th>number_month</th>\n",
       "      <th>minute_price</th>\n",
       "      <th>start_ride_price</th>\n",
       "      <th>subscription_fee</th>\n",
       "    </tr>\n",
       "  </thead>\n",
       "  <tbody>\n",
       "    <tr>\n",
       "      <th>0</th>\n",
       "      <td>1</td>\n",
       "      <td>Кира</td>\n",
       "      <td>22</td>\n",
       "      <td>Тюмень</td>\n",
       "      <td>ultra</td>\n",
       "      <td>4409.92</td>\n",
       "      <td>26.0</td>\n",
       "      <td>2021-01-01</td>\n",
       "      <td>1</td>\n",
       "      <td>6</td>\n",
       "      <td>0</td>\n",
       "      <td>199</td>\n",
       "    </tr>\n",
       "    <tr>\n",
       "      <th>1</th>\n",
       "      <td>1</td>\n",
       "      <td>Кира</td>\n",
       "      <td>22</td>\n",
       "      <td>Тюмень</td>\n",
       "      <td>ultra</td>\n",
       "      <td>2617.59</td>\n",
       "      <td>16.0</td>\n",
       "      <td>2021-01-18</td>\n",
       "      <td>1</td>\n",
       "      <td>6</td>\n",
       "      <td>0</td>\n",
       "      <td>199</td>\n",
       "    </tr>\n",
       "    <tr>\n",
       "      <th>2</th>\n",
       "      <td>1</td>\n",
       "      <td>Кира</td>\n",
       "      <td>22</td>\n",
       "      <td>Тюмень</td>\n",
       "      <td>ultra</td>\n",
       "      <td>754.16</td>\n",
       "      <td>7.0</td>\n",
       "      <td>2021-04-20</td>\n",
       "      <td>4</td>\n",
       "      <td>6</td>\n",
       "      <td>0</td>\n",
       "      <td>199</td>\n",
       "    </tr>\n",
       "    <tr>\n",
       "      <th>3</th>\n",
       "      <td>1</td>\n",
       "      <td>Кира</td>\n",
       "      <td>22</td>\n",
       "      <td>Тюмень</td>\n",
       "      <td>ultra</td>\n",
       "      <td>2694.78</td>\n",
       "      <td>19.0</td>\n",
       "      <td>2021-08-11</td>\n",
       "      <td>8</td>\n",
       "      <td>6</td>\n",
       "      <td>0</td>\n",
       "      <td>199</td>\n",
       "    </tr>\n",
       "    <tr>\n",
       "      <th>4</th>\n",
       "      <td>1</td>\n",
       "      <td>Кира</td>\n",
       "      <td>22</td>\n",
       "      <td>Тюмень</td>\n",
       "      <td>ultra</td>\n",
       "      <td>4028.69</td>\n",
       "      <td>27.0</td>\n",
       "      <td>2021-08-28</td>\n",
       "      <td>8</td>\n",
       "      <td>6</td>\n",
       "      <td>0</td>\n",
       "      <td>199</td>\n",
       "    </tr>\n",
       "    <tr>\n",
       "      <th>5</th>\n",
       "      <td>1</td>\n",
       "      <td>Кира</td>\n",
       "      <td>22</td>\n",
       "      <td>Тюмень</td>\n",
       "      <td>ultra</td>\n",
       "      <td>2770.89</td>\n",
       "      <td>17.0</td>\n",
       "      <td>2021-10-09</td>\n",
       "      <td>10</td>\n",
       "      <td>6</td>\n",
       "      <td>0</td>\n",
       "      <td>199</td>\n",
       "    </tr>\n",
       "    <tr>\n",
       "      <th>6</th>\n",
       "      <td>1</td>\n",
       "      <td>Кира</td>\n",
       "      <td>22</td>\n",
       "      <td>Тюмень</td>\n",
       "      <td>ultra</td>\n",
       "      <td>3039.02</td>\n",
       "      <td>15.0</td>\n",
       "      <td>2021-10-19</td>\n",
       "      <td>10</td>\n",
       "      <td>6</td>\n",
       "      <td>0</td>\n",
       "      <td>199</td>\n",
       "    </tr>\n",
       "    <tr>\n",
       "      <th>7</th>\n",
       "      <td>1</td>\n",
       "      <td>Кира</td>\n",
       "      <td>22</td>\n",
       "      <td>Тюмень</td>\n",
       "      <td>ultra</td>\n",
       "      <td>2842.12</td>\n",
       "      <td>24.0</td>\n",
       "      <td>2021-11-06</td>\n",
       "      <td>11</td>\n",
       "      <td>6</td>\n",
       "      <td>0</td>\n",
       "      <td>199</td>\n",
       "    </tr>\n",
       "    <tr>\n",
       "      <th>8</th>\n",
       "      <td>1</td>\n",
       "      <td>Кира</td>\n",
       "      <td>22</td>\n",
       "      <td>Тюмень</td>\n",
       "      <td>ultra</td>\n",
       "      <td>3412.69</td>\n",
       "      <td>16.0</td>\n",
       "      <td>2021-11-14</td>\n",
       "      <td>11</td>\n",
       "      <td>6</td>\n",
       "      <td>0</td>\n",
       "      <td>199</td>\n",
       "    </tr>\n",
       "    <tr>\n",
       "      <th>9</th>\n",
       "      <td>1</td>\n",
       "      <td>Кира</td>\n",
       "      <td>22</td>\n",
       "      <td>Тюмень</td>\n",
       "      <td>ultra</td>\n",
       "      <td>748.69</td>\n",
       "      <td>16.0</td>\n",
       "      <td>2021-11-22</td>\n",
       "      <td>11</td>\n",
       "      <td>6</td>\n",
       "      <td>0</td>\n",
       "      <td>199</td>\n",
       "    </tr>\n",
       "    <tr>\n",
       "      <th>10</th>\n",
       "      <td>1</td>\n",
       "      <td>Кира</td>\n",
       "      <td>22</td>\n",
       "      <td>Тюмень</td>\n",
       "      <td>ultra</td>\n",
       "      <td>4031.02</td>\n",
       "      <td>18.0</td>\n",
       "      <td>2021-12-14</td>\n",
       "      <td>12</td>\n",
       "      <td>6</td>\n",
       "      <td>0</td>\n",
       "      <td>199</td>\n",
       "    </tr>\n",
       "    <tr>\n",
       "      <th>11</th>\n",
       "      <td>1</td>\n",
       "      <td>Кира</td>\n",
       "      <td>22</td>\n",
       "      <td>Тюмень</td>\n",
       "      <td>ultra</td>\n",
       "      <td>2720.61</td>\n",
       "      <td>10.0</td>\n",
       "      <td>2021-12-22</td>\n",
       "      <td>12</td>\n",
       "      <td>6</td>\n",
       "      <td>0</td>\n",
       "      <td>199</td>\n",
       "    </tr>\n",
       "    <tr>\n",
       "      <th>12</th>\n",
       "      <td>2</td>\n",
       "      <td>Станислав</td>\n",
       "      <td>31</td>\n",
       "      <td>Омск</td>\n",
       "      <td>ultra</td>\n",
       "      <td>3105.09</td>\n",
       "      <td>25.0</td>\n",
       "      <td>2021-03-15</td>\n",
       "      <td>3</td>\n",
       "      <td>6</td>\n",
       "      <td>0</td>\n",
       "      <td>199</td>\n",
       "    </tr>\n",
       "    <tr>\n",
       "      <th>13</th>\n",
       "      <td>2</td>\n",
       "      <td>Станислав</td>\n",
       "      <td>31</td>\n",
       "      <td>Омск</td>\n",
       "      <td>ultra</td>\n",
       "      <td>3053.52</td>\n",
       "      <td>12.0</td>\n",
       "      <td>2021-03-18</td>\n",
       "      <td>3</td>\n",
       "      <td>6</td>\n",
       "      <td>0</td>\n",
       "      <td>199</td>\n",
       "    </tr>\n",
       "    <tr>\n",
       "      <th>14</th>\n",
       "      <td>2</td>\n",
       "      <td>Станислав</td>\n",
       "      <td>31</td>\n",
       "      <td>Омск</td>\n",
       "      <td>ultra</td>\n",
       "      <td>4029.12</td>\n",
       "      <td>26.0</td>\n",
       "      <td>2021-03-23</td>\n",
       "      <td>3</td>\n",
       "      <td>6</td>\n",
       "      <td>0</td>\n",
       "      <td>199</td>\n",
       "    </tr>\n",
       "    <tr>\n",
       "      <th>15</th>\n",
       "      <td>2</td>\n",
       "      <td>Станислав</td>\n",
       "      <td>31</td>\n",
       "      <td>Омск</td>\n",
       "      <td>ultra</td>\n",
       "      <td>2805.79</td>\n",
       "      <td>21.0</td>\n",
       "      <td>2021-04-08</td>\n",
       "      <td>4</td>\n",
       "      <td>6</td>\n",
       "      <td>0</td>\n",
       "      <td>199</td>\n",
       "    </tr>\n",
       "    <tr>\n",
       "      <th>16</th>\n",
       "      <td>2</td>\n",
       "      <td>Станислав</td>\n",
       "      <td>31</td>\n",
       "      <td>Омск</td>\n",
       "      <td>ultra</td>\n",
       "      <td>3358.60</td>\n",
       "      <td>19.0</td>\n",
       "      <td>2021-04-13</td>\n",
       "      <td>4</td>\n",
       "      <td>6</td>\n",
       "      <td>0</td>\n",
       "      <td>199</td>\n",
       "    </tr>\n",
       "    <tr>\n",
       "      <th>17</th>\n",
       "      <td>2</td>\n",
       "      <td>Станислав</td>\n",
       "      <td>31</td>\n",
       "      <td>Омск</td>\n",
       "      <td>ultra</td>\n",
       "      <td>3255.34</td>\n",
       "      <td>14.0</td>\n",
       "      <td>2021-06-20</td>\n",
       "      <td>6</td>\n",
       "      <td>6</td>\n",
       "      <td>0</td>\n",
       "      <td>199</td>\n",
       "    </tr>\n",
       "    <tr>\n",
       "      <th>18</th>\n",
       "      <td>2</td>\n",
       "      <td>Станислав</td>\n",
       "      <td>31</td>\n",
       "      <td>Омск</td>\n",
       "      <td>ultra</td>\n",
       "      <td>3942.82</td>\n",
       "      <td>21.0</td>\n",
       "      <td>2021-07-02</td>\n",
       "      <td>7</td>\n",
       "      <td>6</td>\n",
       "      <td>0</td>\n",
       "      <td>199</td>\n",
       "    </tr>\n",
       "    <tr>\n",
       "      <th>19</th>\n",
       "      <td>2</td>\n",
       "      <td>Станислав</td>\n",
       "      <td>31</td>\n",
       "      <td>Омск</td>\n",
       "      <td>ultra</td>\n",
       "      <td>2837.91</td>\n",
       "      <td>27.0</td>\n",
       "      <td>2021-07-18</td>\n",
       "      <td>7</td>\n",
       "      <td>6</td>\n",
       "      <td>0</td>\n",
       "      <td>199</td>\n",
       "    </tr>\n",
       "  </tbody>\n",
       "</table>\n",
       "</div>"
      ],
      "text/plain": [
       "    user_id       name  age    city subscription_type  distance  duration  \\\n",
       "0         1       Кира   22  Тюмень             ultra   4409.92      26.0   \n",
       "1         1       Кира   22  Тюмень             ultra   2617.59      16.0   \n",
       "2         1       Кира   22  Тюмень             ultra    754.16       7.0   \n",
       "3         1       Кира   22  Тюмень             ultra   2694.78      19.0   \n",
       "4         1       Кира   22  Тюмень             ultra   4028.69      27.0   \n",
       "5         1       Кира   22  Тюмень             ultra   2770.89      17.0   \n",
       "6         1       Кира   22  Тюмень             ultra   3039.02      15.0   \n",
       "7         1       Кира   22  Тюмень             ultra   2842.12      24.0   \n",
       "8         1       Кира   22  Тюмень             ultra   3412.69      16.0   \n",
       "9         1       Кира   22  Тюмень             ultra    748.69      16.0   \n",
       "10        1       Кира   22  Тюмень             ultra   4031.02      18.0   \n",
       "11        1       Кира   22  Тюмень             ultra   2720.61      10.0   \n",
       "12        2  Станислав   31    Омск             ultra   3105.09      25.0   \n",
       "13        2  Станислав   31    Омск             ultra   3053.52      12.0   \n",
       "14        2  Станислав   31    Омск             ultra   4029.12      26.0   \n",
       "15        2  Станислав   31    Омск             ultra   2805.79      21.0   \n",
       "16        2  Станислав   31    Омск             ultra   3358.60      19.0   \n",
       "17        2  Станислав   31    Омск             ultra   3255.34      14.0   \n",
       "18        2  Станислав   31    Омск             ultra   3942.82      21.0   \n",
       "19        2  Станислав   31    Омск             ultra   2837.91      27.0   \n",
       "\n",
       "         date  number_month  minute_price  start_ride_price  subscription_fee  \n",
       "0  2021-01-01             1             6                 0               199  \n",
       "1  2021-01-18             1             6                 0               199  \n",
       "2  2021-04-20             4             6                 0               199  \n",
       "3  2021-08-11             8             6                 0               199  \n",
       "4  2021-08-28             8             6                 0               199  \n",
       "5  2021-10-09            10             6                 0               199  \n",
       "6  2021-10-19            10             6                 0               199  \n",
       "7  2021-11-06            11             6                 0               199  \n",
       "8  2021-11-14            11             6                 0               199  \n",
       "9  2021-11-22            11             6                 0               199  \n",
       "10 2021-12-14            12             6                 0               199  \n",
       "11 2021-12-22            12             6                 0               199  \n",
       "12 2021-03-15             3             6                 0               199  \n",
       "13 2021-03-18             3             6                 0               199  \n",
       "14 2021-03-23             3             6                 0               199  \n",
       "15 2021-04-08             4             6                 0               199  \n",
       "16 2021-04-13             4             6                 0               199  \n",
       "17 2021-06-20             6             6                 0               199  \n",
       "18 2021-07-02             7             6                 0               199  \n",
       "19 2021-07-18             7             6                 0               199  "
      ]
     },
     "metadata": {},
     "output_type": "display_data"
    },
    {
     "data": {
      "text/html": [
       "<div>\n",
       "<style scoped>\n",
       "    .dataframe tbody tr th:only-of-type {\n",
       "        vertical-align: middle;\n",
       "    }\n",
       "\n",
       "    .dataframe tbody tr th {\n",
       "        vertical-align: top;\n",
       "    }\n",
       "\n",
       "    .dataframe thead th {\n",
       "        text-align: right;\n",
       "    }\n",
       "</style>\n",
       "<table border=\"1\" class=\"dataframe\">\n",
       "  <thead>\n",
       "    <tr style=\"text-align: right;\">\n",
       "      <th></th>\n",
       "      <th>user_id</th>\n",
       "      <th>name</th>\n",
       "      <th>age</th>\n",
       "      <th>city</th>\n",
       "      <th>subscription_type</th>\n",
       "      <th>distance</th>\n",
       "      <th>duration</th>\n",
       "      <th>date</th>\n",
       "      <th>number_month</th>\n",
       "      <th>minute_price</th>\n",
       "      <th>start_ride_price</th>\n",
       "      <th>subscription_fee</th>\n",
       "    </tr>\n",
       "  </thead>\n",
       "  <tbody>\n",
       "    <tr>\n",
       "      <th>0</th>\n",
       "      <td>700</td>\n",
       "      <td>Айдар</td>\n",
       "      <td>22</td>\n",
       "      <td>Омск</td>\n",
       "      <td>free</td>\n",
       "      <td>2515.69</td>\n",
       "      <td>15.0</td>\n",
       "      <td>2021-01-02</td>\n",
       "      <td>1</td>\n",
       "      <td>8</td>\n",
       "      <td>50</td>\n",
       "      <td>0</td>\n",
       "    </tr>\n",
       "    <tr>\n",
       "      <th>1</th>\n",
       "      <td>700</td>\n",
       "      <td>Айдар</td>\n",
       "      <td>22</td>\n",
       "      <td>Омск</td>\n",
       "      <td>free</td>\n",
       "      <td>846.93</td>\n",
       "      <td>17.0</td>\n",
       "      <td>2021-02-01</td>\n",
       "      <td>2</td>\n",
       "      <td>8</td>\n",
       "      <td>50</td>\n",
       "      <td>0</td>\n",
       "    </tr>\n",
       "    <tr>\n",
       "      <th>2</th>\n",
       "      <td>700</td>\n",
       "      <td>Айдар</td>\n",
       "      <td>22</td>\n",
       "      <td>Омск</td>\n",
       "      <td>free</td>\n",
       "      <td>4004.43</td>\n",
       "      <td>21.0</td>\n",
       "      <td>2021-02-04</td>\n",
       "      <td>2</td>\n",
       "      <td>8</td>\n",
       "      <td>50</td>\n",
       "      <td>0</td>\n",
       "    </tr>\n",
       "    <tr>\n",
       "      <th>3</th>\n",
       "      <td>700</td>\n",
       "      <td>Айдар</td>\n",
       "      <td>22</td>\n",
       "      <td>Омск</td>\n",
       "      <td>free</td>\n",
       "      <td>1205.91</td>\n",
       "      <td>10.0</td>\n",
       "      <td>2021-02-10</td>\n",
       "      <td>2</td>\n",
       "      <td>8</td>\n",
       "      <td>50</td>\n",
       "      <td>0</td>\n",
       "    </tr>\n",
       "    <tr>\n",
       "      <th>4</th>\n",
       "      <td>700</td>\n",
       "      <td>Айдар</td>\n",
       "      <td>22</td>\n",
       "      <td>Омск</td>\n",
       "      <td>free</td>\n",
       "      <td>3047.38</td>\n",
       "      <td>18.0</td>\n",
       "      <td>2021-02-14</td>\n",
       "      <td>2</td>\n",
       "      <td>8</td>\n",
       "      <td>50</td>\n",
       "      <td>0</td>\n",
       "    </tr>\n",
       "    <tr>\n",
       "      <th>5</th>\n",
       "      <td>700</td>\n",
       "      <td>Айдар</td>\n",
       "      <td>22</td>\n",
       "      <td>Омск</td>\n",
       "      <td>free</td>\n",
       "      <td>4342.00</td>\n",
       "      <td>23.0</td>\n",
       "      <td>2021-02-23</td>\n",
       "      <td>2</td>\n",
       "      <td>8</td>\n",
       "      <td>50</td>\n",
       "      <td>0</td>\n",
       "    </tr>\n",
       "    <tr>\n",
       "      <th>6</th>\n",
       "      <td>700</td>\n",
       "      <td>Айдар</td>\n",
       "      <td>22</td>\n",
       "      <td>Омск</td>\n",
       "      <td>free</td>\n",
       "      <td>3798.33</td>\n",
       "      <td>19.0</td>\n",
       "      <td>2021-03-03</td>\n",
       "      <td>3</td>\n",
       "      <td>8</td>\n",
       "      <td>50</td>\n",
       "      <td>0</td>\n",
       "    </tr>\n",
       "    <tr>\n",
       "      <th>7</th>\n",
       "      <td>700</td>\n",
       "      <td>Айдар</td>\n",
       "      <td>22</td>\n",
       "      <td>Омск</td>\n",
       "      <td>free</td>\n",
       "      <td>2984.55</td>\n",
       "      <td>16.0</td>\n",
       "      <td>2021-04-09</td>\n",
       "      <td>4</td>\n",
       "      <td>8</td>\n",
       "      <td>50</td>\n",
       "      <td>0</td>\n",
       "    </tr>\n",
       "    <tr>\n",
       "      <th>8</th>\n",
       "      <td>700</td>\n",
       "      <td>Айдар</td>\n",
       "      <td>22</td>\n",
       "      <td>Омск</td>\n",
       "      <td>free</td>\n",
       "      <td>3360.11</td>\n",
       "      <td>17.0</td>\n",
       "      <td>2021-06-12</td>\n",
       "      <td>6</td>\n",
       "      <td>8</td>\n",
       "      <td>50</td>\n",
       "      <td>0</td>\n",
       "    </tr>\n",
       "    <tr>\n",
       "      <th>9</th>\n",
       "      <td>700</td>\n",
       "      <td>Айдар</td>\n",
       "      <td>22</td>\n",
       "      <td>Омск</td>\n",
       "      <td>free</td>\n",
       "      <td>2567.54</td>\n",
       "      <td>12.0</td>\n",
       "      <td>2021-06-23</td>\n",
       "      <td>6</td>\n",
       "      <td>8</td>\n",
       "      <td>50</td>\n",
       "      <td>0</td>\n",
       "    </tr>\n",
       "    <tr>\n",
       "      <th>10</th>\n",
       "      <td>700</td>\n",
       "      <td>Айдар</td>\n",
       "      <td>22</td>\n",
       "      <td>Омск</td>\n",
       "      <td>free</td>\n",
       "      <td>4110.23</td>\n",
       "      <td>16.0</td>\n",
       "      <td>2021-07-08</td>\n",
       "      <td>7</td>\n",
       "      <td>8</td>\n",
       "      <td>50</td>\n",
       "      <td>0</td>\n",
       "    </tr>\n",
       "    <tr>\n",
       "      <th>11</th>\n",
       "      <td>700</td>\n",
       "      <td>Айдар</td>\n",
       "      <td>22</td>\n",
       "      <td>Омск</td>\n",
       "      <td>free</td>\n",
       "      <td>288.97</td>\n",
       "      <td>5.0</td>\n",
       "      <td>2021-07-18</td>\n",
       "      <td>7</td>\n",
       "      <td>8</td>\n",
       "      <td>50</td>\n",
       "      <td>0</td>\n",
       "    </tr>\n",
       "    <tr>\n",
       "      <th>12</th>\n",
       "      <td>700</td>\n",
       "      <td>Айдар</td>\n",
       "      <td>22</td>\n",
       "      <td>Омск</td>\n",
       "      <td>free</td>\n",
       "      <td>4071.65</td>\n",
       "      <td>17.0</td>\n",
       "      <td>2021-08-17</td>\n",
       "      <td>8</td>\n",
       "      <td>8</td>\n",
       "      <td>50</td>\n",
       "      <td>0</td>\n",
       "    </tr>\n",
       "    <tr>\n",
       "      <th>13</th>\n",
       "      <td>700</td>\n",
       "      <td>Айдар</td>\n",
       "      <td>22</td>\n",
       "      <td>Омск</td>\n",
       "      <td>free</td>\n",
       "      <td>1920.19</td>\n",
       "      <td>10.0</td>\n",
       "      <td>2021-10-08</td>\n",
       "      <td>10</td>\n",
       "      <td>8</td>\n",
       "      <td>50</td>\n",
       "      <td>0</td>\n",
       "    </tr>\n",
       "    <tr>\n",
       "      <th>14</th>\n",
       "      <td>700</td>\n",
       "      <td>Айдар</td>\n",
       "      <td>22</td>\n",
       "      <td>Омск</td>\n",
       "      <td>free</td>\n",
       "      <td>4402.39</td>\n",
       "      <td>34.0</td>\n",
       "      <td>2021-10-15</td>\n",
       "      <td>10</td>\n",
       "      <td>8</td>\n",
       "      <td>50</td>\n",
       "      <td>0</td>\n",
       "    </tr>\n",
       "    <tr>\n",
       "      <th>15</th>\n",
       "      <td>700</td>\n",
       "      <td>Айдар</td>\n",
       "      <td>22</td>\n",
       "      <td>Омск</td>\n",
       "      <td>free</td>\n",
       "      <td>2409.56</td>\n",
       "      <td>9.0</td>\n",
       "      <td>2021-11-03</td>\n",
       "      <td>11</td>\n",
       "      <td>8</td>\n",
       "      <td>50</td>\n",
       "      <td>0</td>\n",
       "    </tr>\n",
       "    <tr>\n",
       "      <th>16</th>\n",
       "      <td>700</td>\n",
       "      <td>Айдар</td>\n",
       "      <td>22</td>\n",
       "      <td>Омск</td>\n",
       "      <td>free</td>\n",
       "      <td>2639.82</td>\n",
       "      <td>9.0</td>\n",
       "      <td>2021-11-14</td>\n",
       "      <td>11</td>\n",
       "      <td>8</td>\n",
       "      <td>50</td>\n",
       "      <td>0</td>\n",
       "    </tr>\n",
       "    <tr>\n",
       "      <th>17</th>\n",
       "      <td>700</td>\n",
       "      <td>Айдар</td>\n",
       "      <td>22</td>\n",
       "      <td>Омск</td>\n",
       "      <td>free</td>\n",
       "      <td>3686.41</td>\n",
       "      <td>14.0</td>\n",
       "      <td>2021-11-21</td>\n",
       "      <td>11</td>\n",
       "      <td>8</td>\n",
       "      <td>50</td>\n",
       "      <td>0</td>\n",
       "    </tr>\n",
       "    <tr>\n",
       "      <th>18</th>\n",
       "      <td>701</td>\n",
       "      <td>Иван</td>\n",
       "      <td>31</td>\n",
       "      <td>Екатеринбург</td>\n",
       "      <td>free</td>\n",
       "      <td>2676.47</td>\n",
       "      <td>18.0</td>\n",
       "      <td>2021-01-23</td>\n",
       "      <td>1</td>\n",
       "      <td>8</td>\n",
       "      <td>50</td>\n",
       "      <td>0</td>\n",
       "    </tr>\n",
       "    <tr>\n",
       "      <th>19</th>\n",
       "      <td>701</td>\n",
       "      <td>Иван</td>\n",
       "      <td>31</td>\n",
       "      <td>Екатеринбург</td>\n",
       "      <td>free</td>\n",
       "      <td>2743.68</td>\n",
       "      <td>15.0</td>\n",
       "      <td>2021-02-13</td>\n",
       "      <td>2</td>\n",
       "      <td>8</td>\n",
       "      <td>50</td>\n",
       "      <td>0</td>\n",
       "    </tr>\n",
       "  </tbody>\n",
       "</table>\n",
       "</div>"
      ],
      "text/plain": [
       "    user_id   name  age          city subscription_type  distance  duration  \\\n",
       "0       700  Айдар   22          Омск              free   2515.69      15.0   \n",
       "1       700  Айдар   22          Омск              free    846.93      17.0   \n",
       "2       700  Айдар   22          Омск              free   4004.43      21.0   \n",
       "3       700  Айдар   22          Омск              free   1205.91      10.0   \n",
       "4       700  Айдар   22          Омск              free   3047.38      18.0   \n",
       "5       700  Айдар   22          Омск              free   4342.00      23.0   \n",
       "6       700  Айдар   22          Омск              free   3798.33      19.0   \n",
       "7       700  Айдар   22          Омск              free   2984.55      16.0   \n",
       "8       700  Айдар   22          Омск              free   3360.11      17.0   \n",
       "9       700  Айдар   22          Омск              free   2567.54      12.0   \n",
       "10      700  Айдар   22          Омск              free   4110.23      16.0   \n",
       "11      700  Айдар   22          Омск              free    288.97       5.0   \n",
       "12      700  Айдар   22          Омск              free   4071.65      17.0   \n",
       "13      700  Айдар   22          Омск              free   1920.19      10.0   \n",
       "14      700  Айдар   22          Омск              free   4402.39      34.0   \n",
       "15      700  Айдар   22          Омск              free   2409.56       9.0   \n",
       "16      700  Айдар   22          Омск              free   2639.82       9.0   \n",
       "17      700  Айдар   22          Омск              free   3686.41      14.0   \n",
       "18      701   Иван   31  Екатеринбург              free   2676.47      18.0   \n",
       "19      701   Иван   31  Екатеринбург              free   2743.68      15.0   \n",
       "\n",
       "         date  number_month  minute_price  start_ride_price  subscription_fee  \n",
       "0  2021-01-02             1             8                50                 0  \n",
       "1  2021-02-01             2             8                50                 0  \n",
       "2  2021-02-04             2             8                50                 0  \n",
       "3  2021-02-10             2             8                50                 0  \n",
       "4  2021-02-14             2             8                50                 0  \n",
       "5  2021-02-23             2             8                50                 0  \n",
       "6  2021-03-03             3             8                50                 0  \n",
       "7  2021-04-09             4             8                50                 0  \n",
       "8  2021-06-12             6             8                50                 0  \n",
       "9  2021-06-23             6             8                50                 0  \n",
       "10 2021-07-08             7             8                50                 0  \n",
       "11 2021-07-18             7             8                50                 0  \n",
       "12 2021-08-17             8             8                50                 0  \n",
       "13 2021-10-08            10             8                50                 0  \n",
       "14 2021-10-15            10             8                50                 0  \n",
       "15 2021-11-03            11             8                50                 0  \n",
       "16 2021-11-14            11             8                50                 0  \n",
       "17 2021-11-21            11             8                50                 0  \n",
       "18 2021-01-23             1             8                50                 0  \n",
       "19 2021-02-13             2             8                50                 0  "
      ]
     },
     "metadata": {},
     "output_type": "display_data"
    }
   ],
   "source": [
    "new_data_subscriptions = new_data.query('subscription_type == \"ultra\"').reset_index(drop=True)\n",
    "new_data_no_subscriptions = new_data.query('subscription_type == \"free\"').reset_index(drop=True)\n",
    "\n",
    "display(new_data_subscriptions.head(20))\n",
    "display(new_data_no_subscriptions.head(20))"
   ]
  },
  {
   "cell_type": "code",
   "execution_count": 29,
   "id": "4403db59-3c19-4f95-ac74-8cc424df1044",
   "metadata": {},
   "outputs": [
    {
     "data": {
      "text/plain": [
       "(6500, 12)"
      ]
     },
     "metadata": {},
     "output_type": "display_data"
    },
    {
     "data": {
      "text/plain": [
       "(11568, 12)"
      ]
     },
     "metadata": {},
     "output_type": "display_data"
    }
   ],
   "source": [
    "display(new_data_subscriptions.shape[:])\n",
    "display(new_data_no_subscriptions.shape[:])"
   ]
  },
  {
   "cell_type": "markdown",
   "id": "bdd8f99f-1c69-4cd8-b779-75b1f3cc1e45",
   "metadata": {},
   "source": [
    "### Визуализируем и сравниваем длительность и расстояние поездок."
   ]
  },
  {
   "cell_type": "markdown",
   "id": "9016488a-a256-42a1-96e8-b9db121d766b",
   "metadata": {},
   "source": [
    "Для корректностни анализа сделаем выборку из 6000 поездок в обоих датафреймах, тк количество поездок различается."
   ]
  },
  {
   "cell_type": "code",
   "execution_count": 30,
   "id": "f79d35f8-4111-43a3-9680-1cb6a98ee230",
   "metadata": {},
   "outputs": [
    {
     "data": {
      "text/plain": [
       "(6000, 12)"
      ]
     },
     "metadata": {},
     "output_type": "display_data"
    },
    {
     "data": {
      "text/plain": [
       "(6000, 12)"
      ]
     },
     "metadata": {},
     "output_type": "display_data"
    }
   ],
   "source": [
    "sample_subscriptions = new_data_subscriptions.sample(n=6000, random_state=1)\n",
    "sample_no_subscriptions = new_data_no_subscriptions.sample(n=6000, random_state=1)\n",
    "\n",
    "display(sample_no_subscriptions.shape[:])\n",
    "display(sample_subscriptions.shape[:])"
   ]
  },
  {
   "cell_type": "code",
   "execution_count": 31,
   "id": "33f46abf",
   "metadata": {},
   "outputs": [
    {
     "data": {
      "image/png": "[encoded data removed]",
      "text/plain": [
       "<Figure size 640x480 with 1 Axes>"
      ]
     },
     "metadata": {},
     "output_type": "display_data"
    }
   ],
   "source": [
    "#  Код ревьювера:\n",
    "plt.hist([new_data_subscriptions['duration']], alpha=1, label='sample_subscriptions', bins=30, color='r')\n",
    "plt.hist([new_data_no_subscriptions['duration']], alpha=0.5, label='sample_no_subscriptions', bins=30)\n",
    "plt.legend()\n",
    "plt.title('Длительность поездки');"
   ]
  },
  {
   "cell_type": "code",
   "execution_count": 32,
   "id": "bf8a1274",
   "metadata": {},
   "outputs": [
    {
     "data": {
      "image/png": "[encoded data removed]",
      "text/plain": [
       "<Figure size 640x480 with 1 Axes>"
      ]
     },
     "metadata": {},
     "output_type": "display_data"
    }
   ],
   "source": [
    "#  Код ревьювера:\n",
    "plt.hist([new_data_subscriptions['distance']], alpha=1, label='sample_subscriptions', bins=30, color='r')\n",
    "plt.hist([new_data_no_subscriptions['distance']], alpha=0.5, label='sample_no_subscriptions', bins=30)\n",
    "plt.legend()\n",
    "plt.title('Расстояние поездки');"
   ]
  },
  {
   "cell_type": "code",
   "execution_count": 33,
   "id": "1a620f67-25ac-48bb-a1de-9e9c79b6eb2c",
   "metadata": {},
   "outputs": [
    {
     "data": {
      "image/png": "[encoded data removed]",
      "text/plain": [
       "<Figure size 640x480 with 1 Axes>"
      ]
     },
     "metadata": {},
     "output_type": "display_data"
    }
   ],
   "source": [
    "plt.hist([sample_subscriptions['duration']], alpha=1, label='sample_subscriptions', bins=30, color='r')\n",
    "plt.hist([sample_no_subscriptions['duration']], alpha=0.5, label='sample_no_subscriptions', bins=30)\n",
    "plt.legend()\n",
    "plt.title('Длительность поездки');"
   ]
  },
  {
   "cell_type": "markdown",
   "id": "e2ab0cd6-f69f-4dfd-91a0-b28909a4949b",
   "metadata": {},
   "source": [
    "Проанализировав длительность поездки у пользователей с подпиской и без неё мы можем сделать вывод, что пользователи без подписки чаще катаются до 14 минут, начиная с 14 минуты катаются дольше пользователи с подпиской."
   ]
  },
  {
   "cell_type": "code",
   "execution_count": 34,
   "id": "8979c659-b688-46cd-bc84-4c41c50428e2",
   "metadata": {},
   "outputs": [
    {
     "data": {
      "image/png": "[encoded data removed]",
      "text/plain": [
       "<Figure size 640x480 with 1 Axes>"
      ]
     },
     "metadata": {},
     "output_type": "display_data"
    }
   ],
   "source": [
    "plt.hist([sample_subscriptions['distance']], alpha=1, label='sample_subscriptions', bins=30, color='r')\n",
    "plt.hist([sample_no_subscriptions['distance']], alpha=0.5, label='sample_no_subscriptions', bins=30)\n",
    "plt.legend()\n",
    "plt.title('Расстояние поездки');"
   ]
  },
  {
   "cell_type": "markdown",
   "id": "02cd89f2-fe9b-4d87-b32f-c1d6f019b65a",
   "metadata": {},
   "source": [
    "На данном графике видно, что пользователи без подписки чаще катаются на расстояния от 0 до 2500 метров и от 3600 до 7000 метров.  \n",
    "Пользователи с подпиской чаще катаются на расстояния от 2500 до 3600 метров."
   ]
  },
  {
   "cell_type": "markdown",
   "id": "402d620f",
   "metadata": {},
   "source": [
    "## Подсчёт выручки"
   ]
  },
  {
   "cell_type": "markdown",
   "id": "41c774d4-8bfb-4f8c-b019-229c7ec9db37",
   "metadata": {},
   "source": [
    "### Создаём новые датафреймы с агрегированными данными о поездках"
   ]
  },
  {
   "cell_type": "markdown",
   "id": "7b02c802-aed4-403b-9e82-f9edbe123915",
   "metadata": {},
   "source": [
    "Создадим новые датафреймы для пользователей с подпиской и без неё, где будет указана сумма расстояний, количество и длительность поездок за каждый месяц."
   ]
  },
  {
   "cell_type": "code",
   "execution_count": 35,
   "id": "71767fe2-ddfe-40d8-8214-ca430be8bfae",
   "metadata": {
    "scrolled": true
   },
   "outputs": [
    {
     "data": {
      "text/plain": [
       "distance    0\n",
       "count       0\n",
       "duration    0\n",
       "dtype: int64"
      ]
     },
     "metadata": {},
     "output_type": "display_data"
    },
    {
     "data": {
      "text/html": [
       "<div>\n",
       "<style scoped>\n",
       "    .dataframe tbody tr th:only-of-type {\n",
       "        vertical-align: middle;\n",
       "    }\n",
       "\n",
       "    .dataframe tbody tr th {\n",
       "        vertical-align: top;\n",
       "    }\n",
       "\n",
       "    .dataframe thead th {\n",
       "        text-align: right;\n",
       "    }\n",
       "</style>\n",
       "<table border=\"1\" class=\"dataframe\">\n",
       "  <thead>\n",
       "    <tr style=\"text-align: right;\">\n",
       "      <th></th>\n",
       "      <th></th>\n",
       "      <th>distance</th>\n",
       "      <th>count</th>\n",
       "      <th>duration</th>\n",
       "    </tr>\n",
       "    <tr>\n",
       "      <th>user_id</th>\n",
       "      <th>number_month</th>\n",
       "      <th></th>\n",
       "      <th></th>\n",
       "      <th></th>\n",
       "    </tr>\n",
       "  </thead>\n",
       "  <tbody>\n",
       "    <tr>\n",
       "      <th rowspan=\"6\" valign=\"top\">1</th>\n",
       "      <th>1</th>\n",
       "      <td>7027.51</td>\n",
       "      <td>2</td>\n",
       "      <td>42.0</td>\n",
       "    </tr>\n",
       "    <tr>\n",
       "      <th>4</th>\n",
       "      <td>754.16</td>\n",
       "      <td>1</td>\n",
       "      <td>7.0</td>\n",
       "    </tr>\n",
       "    <tr>\n",
       "      <th>8</th>\n",
       "      <td>6723.47</td>\n",
       "      <td>2</td>\n",
       "      <td>46.0</td>\n",
       "    </tr>\n",
       "    <tr>\n",
       "      <th>10</th>\n",
       "      <td>5809.91</td>\n",
       "      <td>2</td>\n",
       "      <td>32.0</td>\n",
       "    </tr>\n",
       "    <tr>\n",
       "      <th>11</th>\n",
       "      <td>7003.50</td>\n",
       "      <td>3</td>\n",
       "      <td>56.0</td>\n",
       "    </tr>\n",
       "    <tr>\n",
       "      <th>12</th>\n",
       "      <td>6751.63</td>\n",
       "      <td>2</td>\n",
       "      <td>28.0</td>\n",
       "    </tr>\n",
       "    <tr>\n",
       "      <th rowspan=\"7\" valign=\"top\">2</th>\n",
       "      <th>3</th>\n",
       "      <td>10187.73</td>\n",
       "      <td>3</td>\n",
       "      <td>63.0</td>\n",
       "    </tr>\n",
       "    <tr>\n",
       "      <th>4</th>\n",
       "      <td>6164.39</td>\n",
       "      <td>2</td>\n",
       "      <td>40.0</td>\n",
       "    </tr>\n",
       "    <tr>\n",
       "      <th>6</th>\n",
       "      <td>3255.34</td>\n",
       "      <td>1</td>\n",
       "      <td>14.0</td>\n",
       "    </tr>\n",
       "    <tr>\n",
       "      <th>7</th>\n",
       "      <td>6780.73</td>\n",
       "      <td>2</td>\n",
       "      <td>48.0</td>\n",
       "    </tr>\n",
       "    <tr>\n",
       "      <th>8</th>\n",
       "      <td>923.01</td>\n",
       "      <td>1</td>\n",
       "      <td>7.0</td>\n",
       "    </tr>\n",
       "    <tr>\n",
       "      <th>10</th>\n",
       "      <td>2824.64</td>\n",
       "      <td>1</td>\n",
       "      <td>19.0</td>\n",
       "    </tr>\n",
       "    <tr>\n",
       "      <th>12</th>\n",
       "      <td>3828.25</td>\n",
       "      <td>1</td>\n",
       "      <td>12.0</td>\n",
       "    </tr>\n",
       "    <tr>\n",
       "      <th rowspan=\"7\" valign=\"top\">3</th>\n",
       "      <th>1</th>\n",
       "      <td>3061.78</td>\n",
       "      <td>1</td>\n",
       "      <td>13.0</td>\n",
       "    </tr>\n",
       "    <tr>\n",
       "      <th>2</th>\n",
       "      <td>5421.16</td>\n",
       "      <td>2</td>\n",
       "      <td>39.0</td>\n",
       "    </tr>\n",
       "    <tr>\n",
       "      <th>4</th>\n",
       "      <td>2956.65</td>\n",
       "      <td>1</td>\n",
       "      <td>21.0</td>\n",
       "    </tr>\n",
       "    <tr>\n",
       "      <th>5</th>\n",
       "      <td>9064.03</td>\n",
       "      <td>3</td>\n",
       "      <td>63.0</td>\n",
       "    </tr>\n",
       "    <tr>\n",
       "      <th>7</th>\n",
       "      <td>10919.59</td>\n",
       "      <td>3</td>\n",
       "      <td>67.0</td>\n",
       "    </tr>\n",
       "    <tr>\n",
       "      <th>9</th>\n",
       "      <td>2891.01</td>\n",
       "      <td>1</td>\n",
       "      <td>23.0</td>\n",
       "    </tr>\n",
       "    <tr>\n",
       "      <th>12</th>\n",
       "      <td>2593.38</td>\n",
       "      <td>1</td>\n",
       "      <td>13.0</td>\n",
       "    </tr>\n",
       "  </tbody>\n",
       "</table>\n",
       "</div>"
      ],
      "text/plain": [
       "                      distance  count  duration\n",
       "user_id number_month                           \n",
       "1       1              7027.51      2      42.0\n",
       "        4               754.16      1       7.0\n",
       "        8              6723.47      2      46.0\n",
       "        10             5809.91      2      32.0\n",
       "        11             7003.50      3      56.0\n",
       "        12             6751.63      2      28.0\n",
       "2       3             10187.73      3      63.0\n",
       "        4              6164.39      2      40.0\n",
       "        6              3255.34      1      14.0\n",
       "        7              6780.73      2      48.0\n",
       "        8               923.01      1       7.0\n",
       "        10             2824.64      1      19.0\n",
       "        12             3828.25      1      12.0\n",
       "3       1              3061.78      1      13.0\n",
       "        2              5421.16      2      39.0\n",
       "        4              2956.65      1      21.0\n",
       "        5              9064.03      3      63.0\n",
       "        7             10919.59      3      67.0\n",
       "        9              2891.01      1      23.0\n",
       "        12             2593.38      1      13.0"
      ]
     },
     "metadata": {},
     "output_type": "display_data"
    }
   ],
   "source": [
    "group_subscriptions = new_data_subscriptions.groupby(['user_id', 'number_month']).agg({'distance':'sum', 'duration':['count', 'sum']})\n",
    "group_subscriptions.columns = ['distance', 'count', 'duration']\n",
    "display(group_subscriptions.isna().sum())\n",
    "display(group_subscriptions.head(20))"
   ]
  },
  {
   "cell_type": "code",
   "execution_count": 36,
   "id": "318a439a-cfb5-4c4c-a0f2-772f93988bb9",
   "metadata": {},
   "outputs": [
    {
     "data": {
      "text/plain": [
       "distance    0\n",
       "count       0\n",
       "duration    0\n",
       "dtype: int64"
      ]
     },
     "metadata": {},
     "output_type": "display_data"
    },
    {
     "data": {
      "text/html": [
       "<div>\n",
       "<style scoped>\n",
       "    .dataframe tbody tr th:only-of-type {\n",
       "        vertical-align: middle;\n",
       "    }\n",
       "\n",
       "    .dataframe tbody tr th {\n",
       "        vertical-align: top;\n",
       "    }\n",
       "\n",
       "    .dataframe thead th {\n",
       "        text-align: right;\n",
       "    }\n",
       "</style>\n",
       "<table border=\"1\" class=\"dataframe\">\n",
       "  <thead>\n",
       "    <tr style=\"text-align: right;\">\n",
       "      <th></th>\n",
       "      <th></th>\n",
       "      <th>distance</th>\n",
       "      <th>count</th>\n",
       "      <th>duration</th>\n",
       "    </tr>\n",
       "    <tr>\n",
       "      <th>user_id</th>\n",
       "      <th>number_month</th>\n",
       "      <th></th>\n",
       "      <th></th>\n",
       "      <th></th>\n",
       "    </tr>\n",
       "  </thead>\n",
       "  <tbody>\n",
       "    <tr>\n",
       "      <th rowspan=\"9\" valign=\"top\">700</th>\n",
       "      <th>1</th>\n",
       "      <td>2515.69</td>\n",
       "      <td>1</td>\n",
       "      <td>15.0</td>\n",
       "    </tr>\n",
       "    <tr>\n",
       "      <th>2</th>\n",
       "      <td>13446.65</td>\n",
       "      <td>5</td>\n",
       "      <td>89.0</td>\n",
       "    </tr>\n",
       "    <tr>\n",
       "      <th>3</th>\n",
       "      <td>3798.33</td>\n",
       "      <td>1</td>\n",
       "      <td>19.0</td>\n",
       "    </tr>\n",
       "    <tr>\n",
       "      <th>4</th>\n",
       "      <td>2984.55</td>\n",
       "      <td>1</td>\n",
       "      <td>16.0</td>\n",
       "    </tr>\n",
       "    <tr>\n",
       "      <th>6</th>\n",
       "      <td>5927.65</td>\n",
       "      <td>2</td>\n",
       "      <td>29.0</td>\n",
       "    </tr>\n",
       "    <tr>\n",
       "      <th>7</th>\n",
       "      <td>4399.20</td>\n",
       "      <td>2</td>\n",
       "      <td>21.0</td>\n",
       "    </tr>\n",
       "    <tr>\n",
       "      <th>8</th>\n",
       "      <td>4071.65</td>\n",
       "      <td>1</td>\n",
       "      <td>17.0</td>\n",
       "    </tr>\n",
       "    <tr>\n",
       "      <th>10</th>\n",
       "      <td>6322.58</td>\n",
       "      <td>2</td>\n",
       "      <td>44.0</td>\n",
       "    </tr>\n",
       "    <tr>\n",
       "      <th>11</th>\n",
       "      <td>8735.79</td>\n",
       "      <td>3</td>\n",
       "      <td>32.0</td>\n",
       "    </tr>\n",
       "    <tr>\n",
       "      <th rowspan=\"11\" valign=\"top\">701</th>\n",
       "      <th>1</th>\n",
       "      <td>2676.47</td>\n",
       "      <td>1</td>\n",
       "      <td>18.0</td>\n",
       "    </tr>\n",
       "    <tr>\n",
       "      <th>2</th>\n",
       "      <td>5637.34</td>\n",
       "      <td>2</td>\n",
       "      <td>27.0</td>\n",
       "    </tr>\n",
       "    <tr>\n",
       "      <th>3</th>\n",
       "      <td>2802.02</td>\n",
       "      <td>1</td>\n",
       "      <td>17.0</td>\n",
       "    </tr>\n",
       "    <tr>\n",
       "      <th>4</th>\n",
       "      <td>3509.01</td>\n",
       "      <td>1</td>\n",
       "      <td>14.0</td>\n",
       "    </tr>\n",
       "    <tr>\n",
       "      <th>5</th>\n",
       "      <td>2465.85</td>\n",
       "      <td>1</td>\n",
       "      <td>15.0</td>\n",
       "    </tr>\n",
       "    <tr>\n",
       "      <th>6</th>\n",
       "      <td>4634.62</td>\n",
       "      <td>2</td>\n",
       "      <td>26.0</td>\n",
       "    </tr>\n",
       "    <tr>\n",
       "      <th>7</th>\n",
       "      <td>12970.72</td>\n",
       "      <td>4</td>\n",
       "      <td>66.0</td>\n",
       "    </tr>\n",
       "    <tr>\n",
       "      <th>8</th>\n",
       "      <td>7628.76</td>\n",
       "      <td>2</td>\n",
       "      <td>19.0</td>\n",
       "    </tr>\n",
       "    <tr>\n",
       "      <th>9</th>\n",
       "      <td>8659.57</td>\n",
       "      <td>2</td>\n",
       "      <td>33.0</td>\n",
       "    </tr>\n",
       "    <tr>\n",
       "      <th>10</th>\n",
       "      <td>8395.26</td>\n",
       "      <td>2</td>\n",
       "      <td>44.0</td>\n",
       "    </tr>\n",
       "    <tr>\n",
       "      <th>12</th>\n",
       "      <td>2773.40</td>\n",
       "      <td>2</td>\n",
       "      <td>23.0</td>\n",
       "    </tr>\n",
       "  </tbody>\n",
       "</table>\n",
       "</div>"
      ],
      "text/plain": [
       "                      distance  count  duration\n",
       "user_id number_month                           \n",
       "700     1              2515.69      1      15.0\n",
       "        2             13446.65      5      89.0\n",
       "        3              3798.33      1      19.0\n",
       "        4              2984.55      1      16.0\n",
       "        6              5927.65      2      29.0\n",
       "        7              4399.20      2      21.0\n",
       "        8              4071.65      1      17.0\n",
       "        10             6322.58      2      44.0\n",
       "        11             8735.79      3      32.0\n",
       "701     1              2676.47      1      18.0\n",
       "        2              5637.34      2      27.0\n",
       "        3              2802.02      1      17.0\n",
       "        4              3509.01      1      14.0\n",
       "        5              2465.85      1      15.0\n",
       "        6              4634.62      2      26.0\n",
       "        7             12970.72      4      66.0\n",
       "        8              7628.76      2      19.0\n",
       "        9              8659.57      2      33.0\n",
       "        10             8395.26      2      44.0\n",
       "        12             2773.40      2      23.0"
      ]
     },
     "metadata": {},
     "output_type": "display_data"
    }
   ],
   "source": [
    "group_no_subscriptions = new_data_no_subscriptions.groupby(['user_id', 'number_month']).agg({'distance':'sum', 'duration':['count', 'sum']})\n",
    "group_no_subscriptions.columns = ['distance', 'count', 'duration']\n",
    "display(group_no_subscriptions.isna().sum())\n",
    "display(group_no_subscriptions.head(20))"
   ]
  },
  {
   "cell_type": "markdown",
   "id": "ab6558b3-6a2a-4ea4-9e3f-d0cb9c6eefb7",
   "metadata": {},
   "source": [
    "### Добавляем новый столбец с выручкой"
   ]
  },
  {
   "cell_type": "markdown",
   "id": "5715b72e-d3ad-49b7-abce-763ad012d002",
   "metadata": {},
   "source": [
    "Добавляем новый столбец \"revenue\", где будет указана выручка за каждого пользователя по месяцам."
   ]
  },
  {
   "cell_type": "code",
   "execution_count": 37,
   "id": "330e2ebb-8dca-4eaa-85a8-43b19ca30d0f",
   "metadata": {},
   "outputs": [
    {
     "data": {
      "text/html": [
       "<div>\n",
       "<style scoped>\n",
       "    .dataframe tbody tr th:only-of-type {\n",
       "        vertical-align: middle;\n",
       "    }\n",
       "\n",
       "    .dataframe tbody tr th {\n",
       "        vertical-align: top;\n",
       "    }\n",
       "\n",
       "    .dataframe thead th {\n",
       "        text-align: right;\n",
       "    }\n",
       "</style>\n",
       "<table border=\"1\" class=\"dataframe\">\n",
       "  <thead>\n",
       "    <tr style=\"text-align: right;\">\n",
       "      <th></th>\n",
       "      <th></th>\n",
       "      <th>distance</th>\n",
       "      <th>count</th>\n",
       "      <th>duration</th>\n",
       "      <th>revenue</th>\n",
       "    </tr>\n",
       "    <tr>\n",
       "      <th>user_id</th>\n",
       "      <th>number_month</th>\n",
       "      <th></th>\n",
       "      <th></th>\n",
       "      <th></th>\n",
       "      <th></th>\n",
       "    </tr>\n",
       "  </thead>\n",
       "  <tbody>\n",
       "    <tr>\n",
       "      <th rowspan=\"5\" valign=\"top\">1</th>\n",
       "      <th>1</th>\n",
       "      <td>7027.51</td>\n",
       "      <td>2</td>\n",
       "      <td>42.0</td>\n",
       "      <td>451.0</td>\n",
       "    </tr>\n",
       "    <tr>\n",
       "      <th>4</th>\n",
       "      <td>754.16</td>\n",
       "      <td>1</td>\n",
       "      <td>7.0</td>\n",
       "      <td>241.0</td>\n",
       "    </tr>\n",
       "    <tr>\n",
       "      <th>8</th>\n",
       "      <td>6723.47</td>\n",
       "      <td>2</td>\n",
       "      <td>46.0</td>\n",
       "      <td>475.0</td>\n",
       "    </tr>\n",
       "    <tr>\n",
       "      <th>10</th>\n",
       "      <td>5809.91</td>\n",
       "      <td>2</td>\n",
       "      <td>32.0</td>\n",
       "      <td>391.0</td>\n",
       "    </tr>\n",
       "    <tr>\n",
       "      <th>11</th>\n",
       "      <td>7003.50</td>\n",
       "      <td>3</td>\n",
       "      <td>56.0</td>\n",
       "      <td>535.0</td>\n",
       "    </tr>\n",
       "  </tbody>\n",
       "</table>\n",
       "</div>"
      ],
      "text/plain": [
       "                      distance  count  duration  revenue\n",
       "user_id number_month                                    \n",
       "1       1              7027.51      2      42.0    451.0\n",
       "        4               754.16      1       7.0    241.0\n",
       "        8              6723.47      2      46.0    475.0\n",
       "        10             5809.91      2      32.0    391.0\n",
       "        11             7003.50      3      56.0    535.0"
      ]
     },
     "metadata": {},
     "output_type": "display_data"
    },
    {
     "data": {
      "text/html": [
       "<div>\n",
       "<style scoped>\n",
       "    .dataframe tbody tr th:only-of-type {\n",
       "        vertical-align: middle;\n",
       "    }\n",
       "\n",
       "    .dataframe tbody tr th {\n",
       "        vertical-align: top;\n",
       "    }\n",
       "\n",
       "    .dataframe thead th {\n",
       "        text-align: right;\n",
       "    }\n",
       "</style>\n",
       "<table border=\"1\" class=\"dataframe\">\n",
       "  <thead>\n",
       "    <tr style=\"text-align: right;\">\n",
       "      <th></th>\n",
       "      <th></th>\n",
       "      <th>distance</th>\n",
       "      <th>count</th>\n",
       "      <th>duration</th>\n",
       "      <th>revenue</th>\n",
       "    </tr>\n",
       "    <tr>\n",
       "      <th>user_id</th>\n",
       "      <th>number_month</th>\n",
       "      <th></th>\n",
       "      <th></th>\n",
       "      <th></th>\n",
       "      <th></th>\n",
       "    </tr>\n",
       "  </thead>\n",
       "  <tbody>\n",
       "    <tr>\n",
       "      <th rowspan=\"5\" valign=\"top\">700</th>\n",
       "      <th>1</th>\n",
       "      <td>2515.69</td>\n",
       "      <td>1</td>\n",
       "      <td>15.0</td>\n",
       "      <td>170.0</td>\n",
       "    </tr>\n",
       "    <tr>\n",
       "      <th>2</th>\n",
       "      <td>13446.65</td>\n",
       "      <td>5</td>\n",
       "      <td>89.0</td>\n",
       "      <td>962.0</td>\n",
       "    </tr>\n",
       "    <tr>\n",
       "      <th>3</th>\n",
       "      <td>3798.33</td>\n",
       "      <td>1</td>\n",
       "      <td>19.0</td>\n",
       "      <td>202.0</td>\n",
       "    </tr>\n",
       "    <tr>\n",
       "      <th>4</th>\n",
       "      <td>2984.55</td>\n",
       "      <td>1</td>\n",
       "      <td>16.0</td>\n",
       "      <td>178.0</td>\n",
       "    </tr>\n",
       "    <tr>\n",
       "      <th>6</th>\n",
       "      <td>5927.65</td>\n",
       "      <td>2</td>\n",
       "      <td>29.0</td>\n",
       "      <td>332.0</td>\n",
       "    </tr>\n",
       "  </tbody>\n",
       "</table>\n",
       "</div>"
      ],
      "text/plain": [
       "                      distance  count  duration  revenue\n",
       "user_id number_month                                    \n",
       "700     1              2515.69      1      15.0    170.0\n",
       "        2             13446.65      5      89.0    962.0\n",
       "        3              3798.33      1      19.0    202.0\n",
       "        4              2984.55      1      16.0    178.0\n",
       "        6              5927.65      2      29.0    332.0"
      ]
     },
     "metadata": {},
     "output_type": "display_data"
    }
   ],
   "source": [
    "group_subscriptions['revenue'] = 199 + group_subscriptions['duration']*6\n",
    "group_no_subscriptions['revenue'] = group_no_subscriptions['duration']*8 + group_no_subscriptions['count']*50\n",
    "\n",
    "display(group_subscriptions.head())\n",
    "display(group_no_subscriptions.head())\n"
   ]
  },
  {
   "cell_type": "markdown",
   "id": "ff7083f6-5c97-4d8c-a130-0a3760b23ad2",
   "metadata": {},
   "source": [
    "## Проверка гипотез."
   ]
  },
  {
   "cell_type": "markdown",
   "id": "a7329b5a-f86b-4ea2-922b-2b122c9b0f94",
   "metadata": {},
   "source": [
    "### Тратят ли пользователи с подпиской больше времени на поездки?"
   ]
  },
  {
   "cell_type": "markdown",
   "id": "03f5cbdd-7855-4eb0-b02e-232f17d07574",
   "metadata": {},
   "source": [
    "Гипотеза 1: \"Важно понять, тратят ли пользователи с подпиской больше времени на поездки? Если да, то пользователи с подпиской могут быть «выгоднее» для компании.\"   \n",
    "- Нулевая гипотеза: пользователи с подпиской и без подписки тратят одинаковое количество времени на поездки.\n",
    "- Альтернативная гипотеза: пользователи с подпиской в среднем тратят больше времени, чем пользователи без подписки.\n",
    "\n",
    "Создадим односторонний ttest с независимыми выборками."
   ]
  },
  {
   "cell_type": "code",
   "execution_count": 38,
   "id": "5591ea61",
   "metadata": {
    "scrolled": true
   },
   "outputs": [
    {
     "data": {
      "text/plain": [
       "(4533, 4)"
      ]
     },
     "metadata": {},
     "output_type": "display_data"
    },
    {
     "data": {
      "text/plain": [
       "(6798, 4)"
      ]
     },
     "metadata": {},
     "output_type": "display_data"
    }
   ],
   "source": [
    "display(group_subscriptions.shape[:])\n",
    "display(group_no_subscriptions.shape[:])"
   ]
  },
  {
   "cell_type": "code",
   "execution_count": 39,
   "id": "0d5bc391-82ec-42f5-8a00-d7d2eb828699",
   "metadata": {},
   "outputs": [
    {
     "name": "stdout",
     "output_type": "stream",
     "text": [
      "Среднее время поездки с подпиской: 19.037692307692307\n",
      "Среднее время поездки без подписки: 17.890992392807746\n",
      "p-значение: 2.4959453720736625e-34\n",
      "Отвергаем нулевую гипотезу\n"
     ]
    }
   ],
   "source": [
    "print('Среднее время поездки с подпиской:', new_data_subscriptions['duration'].mean()) \n",
    "print('Среднее время поездки без подписки:', new_data_no_subscriptions['duration'].mean()) \n",
    "\n",
    "alpha = 0.05\n",
    "\n",
    "results = st.ttest_ind(new_data_subscriptions['duration'], new_data_no_subscriptions['duration'], alternative='greater')\n",
    "\n",
    "print('p-значение:', results.pvalue)\n",
    "\n",
    "if results.pvalue < alpha:\n",
    "    print('Отвергаем нулевую гипотезу')\n",
    "else:\n",
    "    print('Не получилось отвергнуть нулевую гипотезу')\n"
   ]
  },
  {
   "cell_type": "markdown",
   "id": "8da55615-f7ce-4dfe-9eaf-bda117cbf58d",
   "metadata": {},
   "source": [
    "Среднее время поездки с подпиской выше на 1,1 мин., подтвердилась альтернативная гипотеза о том, что пользователи с подпиской в среднем тратят больше времени на поездку."
   ]
  },
  {
   "cell_type": "markdown",
   "id": "16ab0a56-a99d-4d02-8354-65f571e75148",
   "metadata": {},
   "source": [
    "### Проезжают ли пользователи с подпиской за одну поездку 3130 метров?"
   ]
  },
  {
   "cell_type": "markdown",
   "id": "d6dbb09c-dcec-4be3-8137-ddfb5759564e",
   "metadata": {},
   "source": [
    "Гипотеза 2: \" Расстояние одной поездки в 3130 метров — оптимальное с точки зрения износа самоката.  \n",
    "Можно ли сказать, что среднее расстояние, которое проезжают пользователи с подпиской за одну поездку, не превышает 3130 метров?\"  \n",
    "- Нулевая гипотеза: расстояние, которое проезжают пользователи с подпиской за одну поездку, не превышает 3130 метров. \n",
    "- Альтернативная гипотеза: в среднем пользователи с подпиской за одну поездку проезжают расстояние больше 3130 метров. \n",
    "\n",
    "Создадим односторонний ttest для одной выборки."
   ]
  },
  {
   "cell_type": "code",
   "execution_count": 40,
   "id": "e07333a6-b5ed-46fe-a8cb-f583d37b8fc1",
   "metadata": {
    "scrolled": true
   },
   "outputs": [
    {
     "name": "stdout",
     "output_type": "stream",
     "text": [
      "Средняя дистанция поездки с подпиской: 3115.445430769231\n",
      "p-значение: 0.9195362605842414\n",
      "Не получилось отвергнуть нулевую гипотезу\n"
     ]
    }
   ],
   "source": [
    "print('Средняя дистанция поездки с подпиской:', new_data_subscriptions['distance'].mean())\n",
    "\n",
    "value = 3130\n",
    "alpha = 0.05\n",
    "\n",
    "results = st.ttest_1samp(new_data_subscriptions['distance'], value, alternative='greater')\n",
    "\n",
    "print('p-значение:', results.pvalue)\n",
    "\n",
    "if results.pvalue < alpha:\n",
    "    print('Отвергаем нулевую гипотезу')\n",
    "else:\n",
    "    print('Не получилось отвергнуть нулевую гипотезу')"
   ]
  },
  {
   "cell_type": "markdown",
   "id": "cdba1a23-466a-40b9-bfdb-fdf9d14cae4c",
   "metadata": {},
   "source": [
    "Средня дистанция поездки с подпиской составила 3115,5 м.,\n",
    "Нулевую гипотезу о том, что пользователи с подпиской преодолевают расстояние до 3130 м. не отвергаем."
   ]
  },
  {
   "cell_type": "markdown",
   "id": "484aa872-b918-4a2f-b6c8-358a1e0e020f",
   "metadata": {},
   "source": [
    "### Будет ли помесячная выручка от пользователей с подпиской по месяцам выше, чем выручка от пользователей без подписки?"
   ]
  },
  {
   "cell_type": "markdown",
   "id": "6b069c20-ee82-4734-b893-9e60bf655f1a",
   "metadata": {},
   "source": [
    "Гипотеза 3: \"Будет ли помесячная выручка от пользователей с подпиской по месяцам выше, чем выручка от пользователей без подписки?\".  \n",
    "- Нулевая гипотеза - средняя выручка от пользователей с подпиской равна средней выручки от пользователей без подписки.  \n",
    "- Альтернативная гипотеза - средняя выручка от пользователей с подпиской больше средней выручки от пользователей без подписки.    \n",
    "\n",
    "Чтобы проверить данную гипотезу построем графики с выручкой по месяцам у пользователей с подпиской и без неё.  "
   ]
  },
  {
   "cell_type": "code",
   "execution_count": 41,
   "id": "d993dba5",
   "metadata": {},
   "outputs": [
    {
     "name": "stdout",
     "output_type": "stream",
     "text": [
      "Средняя прибыль с подпиской: 362.7921906022502\n",
      "Средняя прибыль без подписки: 328.6413651073845\n",
      "p-значение: 1.8850394384715216e-31\n",
      "Отвергаем нулевую гипотезу\n"
     ]
    }
   ],
   "source": [
    "print('Средняя прибыль с подпиской:', group_subscriptions['revenue'].mean()) \n",
    "print('Средняя прибыль без подписки:', group_no_subscriptions['revenue'].mean()) \n",
    "\n",
    "alpha = 0.05\n",
    "\n",
    "results = st.ttest_ind(group_subscriptions['revenue'], group_no_subscriptions['revenue'], alternative='greater')\n",
    "\n",
    "print('p-значение:', results.pvalue)\n",
    "\n",
    "if results.pvalue < alpha:\n",
    "    print('Отвергаем нулевую гипотезу')\n",
    "else:\n",
    "    print('Не получилось отвергнуть нулевую гипотезу')"
   ]
  },
  {
   "cell_type": "markdown",
   "id": "3c36d9ab-5f2b-4386-8bce-e58771fb0a54",
   "metadata": {},
   "source": [
    "Изучив данные мы можем сделать вывод, что пользователи с подпиской приносят прибыли на 34,2 р. больше, чем пользователи без подписки (почти 10%), альтернативная гипотеза подтвердилась."
   ]
  },
  {
   "cell_type": "markdown",
   "id": "c00e2b9c-7d18-4f7e-ae7c-17c5bd3139dc",
   "metadata": {},
   "source": [
    "### Какой тест необходим, для проверки следующей гипотезы?"
   ]
  },
  {
   "cell_type": "markdown",
   "id": "6f96b7c1-291b-4184-9cfc-f1ddbddb5d6d",
   "metadata": {},
   "source": [
    "Представьте такую ситуацию: техническая команда сервиса обновила сервера, с которыми взаимодействует мобильное приложение. Она надеется, что из-за этого количество обращений в техподдержку значимо снизилось. Некоторый файл содержит для каждого пользователя данные о количестве обращений до обновления и после него. Какой тест вам понадобился бы для проверки этой гипотезы?"
   ]
  },
  {
   "cell_type": "markdown",
   "id": "9850d081-5a52-4971-baf8-30656b2ff615",
   "metadata": {},
   "source": [
    "- Для проверки данной гипотезы потребуется односторонний двухвыборочный t-тест для зависимых выборок"
   ]
  },
  {
   "cell_type": "markdown",
   "id": "20378f57-0c86-4209-b7a5-3ad93ef91827",
   "metadata": {},
   "source": [
    "## Общий вывод исследования."
   ]
  },
  {
   "cell_type": "markdown",
   "id": "ed49c467-4881-49a0-9e24-5118acd2d58b",
   "metadata": {},
   "source": [
    "Проведя исследование исходя из данных пользователей сервиса по аренде самокатов мы можем сделать следующие выводы:  \n",
    "- пользователей без подписки больше на 8.86%;\n",
    "- большинство пользователей электросамокатов являются лица от 20 до 27 лет;\n",
    "- пользователи сервиса в большинстве случаев преодолевают расстояние от 2 до 4 км;\n",
    "- пользователи в большинстве случаев проводят от 12 до 24 мин. на самокате;\n",
    "- пользователи без подписки чаще катаются до 14 минут, начиная с 14 минуты катаются дольше пользователи с подпиской.\n",
    "- пользователи без подписки чаще катаются на расстояния от 0 до 2500 метров и от 3600 до 7000 метров. Пользователи с подпиской чаще катаются на расстояния от 2500 до 3600 метров.\n",
    "\n",
    "В ходе исследования также было 3 гипотезы.  \n",
    "Гипотеза 1: \"Важно понять, тратят ли пользователи с подпиской больше времени на поездки? Если да, то пользователи с подпиской могут быть «выгоднее» для компании.\"\n",
    "- Среднее время поездки с подпиской выше на 1,1 мин., подтвердилась альтернативная гипотеза о том, что пользователи с подпиской тратят больше времени на поездку.\n",
    "\n",
    "Гипотеза 2: \" Расстояние одной поездки в 3130 метров — оптимальное с точки зрения износа самоката.  \n",
    "Можно ли сказать, что среднее расстояние, которое проезжают пользователи с подпиской за одну поездку, не превышает 3130 метров?\"\n",
    "- Подтвердилась нулевая гипотеза: \"расстояние, которое проезжают пользователи с подпиской за одну поездку, не превышает 3130 метров.\", средняя дистанция составила 3115 метров.\n",
    "\n",
    "Гипотеза 3: \"Будет ли помесячная выручка от пользователей с подпиской по месяцам выше, чем выручка от пользователей без подписки?\".\n",
    "- Пользователи с подпиской приносят прибыли на 34,2 р. больше, чем пользователи без подписки (почти 10%), альтернативная гипотеза о том, что пользователи с подпиской приносят доход больше подтвердилась.\n",
    "\n",
    "Полученные результаты в ходе исследования данных пользователей сервиса помогут вырасти бизнесу и увеличить выручку."
   ]
  },
  {
   "cell_type": "markdown",
   "id": "7c9484b1",
   "metadata": {},
   "source": [
    "<div class=\"alert alert-success\">\n",
    "<b>Комментарий ревьюера ✅:</b> \n",
    "    \n",
    "Жду работу на повторное ревью :)"
   ]
  },
  {
   "cell_type": "markdown",
   "id": "b120c589",
   "metadata": {},
   "source": [
    "<div class=\"alert alert-success\">\n",
    "<b>Комментарий ревьюера ✅V2:</b> \n",
    "    \n",
    "Уже лучше, но нужно поправить несколько мест, чтобы я смог принять работу :)"
   ]
  },
  {
   "cell_type": "markdown",
   "id": "7bf43711",
   "metadata": {},
   "source": [
    "<div class=\"alert alert-success\">\n",
    "<b>Комментарий ревьюера ✅V3:</b> \n",
    "    \n",
    "Осталось переделать гипотезы и вывод, тогда смогу принять работу!"
   ]
  },
  {
   "cell_type": "markdown",
   "id": "b6400941",
   "metadata": {},
   "source": [
    "<div class=\"alert alert-success\">\n",
    "\n",
    "#### <b>Комментарий ревьюера ✅ V4:</b>\n",
    "\n",
    "Ренат, поздравляю с закрытием работы, желаю дальнейших успехов в Практикуме!\n",
    "    \n",
    "Рекоменую доразобрать тему статистического теста для закрепления\n",
    "    "
   ]
  }
 ],
 "metadata": {
  "ExecuteTimeLog": [
   {
    "duration": 2549,
    "start_time": "2024-06-24T05:43:39.228Z"
   },
   {
    "duration": 801,
    "start_time": "2024-06-24T05:43:53.342Z"
   },
   {
    "duration": 66,
    "start_time": "2024-06-24T05:44:25.503Z"
   },
   {
    "duration": 2333,
    "start_time": "2024-06-24T05:44:37.792Z"
   },
   {
    "duration": 555,
    "start_time": "2024-06-24T05:44:40.127Z"
   },
   {
    "duration": 252,
    "start_time": "2024-06-24T05:44:40.683Z"
   },
   {
    "duration": 9,
    "start_time": "2024-06-24T05:44:40.936Z"
   },
   {
    "duration": 21,
    "start_time": "2024-06-24T05:44:40.948Z"
   },
   {
    "duration": 14,
    "start_time": "2024-06-24T05:44:40.970Z"
   },
   {
    "duration": 9,
    "start_time": "2024-06-24T05:44:40.985Z"
   },
   {
    "duration": 18,
    "start_time": "2024-06-24T05:44:40.996Z"
   },
   {
    "duration": 16,
    "start_time": "2024-06-24T05:44:41.015Z"
   },
   {
    "duration": 11,
    "start_time": "2024-06-24T05:44:41.032Z"
   },
   {
    "duration": 14,
    "start_time": "2024-06-24T05:44:41.065Z"
   },
   {
    "duration": 6,
    "start_time": "2024-06-24T05:44:41.080Z"
   },
   {
    "duration": 76,
    "start_time": "2024-06-24T05:44:41.087Z"
   },
   {
    "duration": 162,
    "start_time": "2024-06-24T05:44:41.166Z"
   },
   {
    "duration": 5,
    "start_time": "2024-06-24T05:44:41.330Z"
   },
   {
    "duration": 116,
    "start_time": "2024-06-24T05:44:41.336Z"
   },
   {
    "duration": 18,
    "start_time": "2024-06-24T05:44:41.454Z"
   },
   {
    "duration": 159,
    "start_time": "2024-06-24T05:44:41.473Z"
   },
   {
    "duration": 144,
    "start_time": "2024-06-24T05:44:41.634Z"
   },
   {
    "duration": 7,
    "start_time": "2024-06-24T05:44:41.780Z"
   },
   {
    "duration": 207,
    "start_time": "2024-06-24T05:44:41.789Z"
   },
   {
    "duration": 8,
    "start_time": "2024-06-24T05:44:41.998Z"
   },
   {
    "duration": 20,
    "start_time": "2024-06-24T05:44:42.007Z"
   },
   {
    "duration": 25,
    "start_time": "2024-06-24T05:44:42.029Z"
   },
   {
    "duration": 17,
    "start_time": "2024-06-24T05:44:42.055Z"
   },
   {
    "duration": 118,
    "start_time": "2024-06-24T05:44:42.074Z"
   },
   {
    "duration": 10,
    "start_time": "2024-06-24T05:44:42.193Z"
   },
   {
    "duration": 14,
    "start_time": "2024-06-24T05:44:42.204Z"
   },
   {
    "duration": 14,
    "start_time": "2024-06-24T05:44:42.219Z"
   },
   {
    "duration": 123,
    "start_time": "2024-06-24T05:44:42.235Z"
   },
   {
    "duration": 29,
    "start_time": "2024-06-24T05:44:42.360Z"
   },
   {
    "duration": 19,
    "start_time": "2024-06-24T05:44:42.391Z"
   },
   {
    "duration": 67,
    "start_time": "2024-06-24T05:44:42.412Z"
   },
   {
    "duration": 4,
    "start_time": "2024-06-24T05:44:42.481Z"
   },
   {
    "duration": 8,
    "start_time": "2024-06-24T05:44:42.486Z"
   },
   {
    "duration": 246,
    "start_time": "2024-06-24T05:44:42.496Z"
   },
   {
    "duration": 242,
    "start_time": "2024-06-24T05:44:42.744Z"
   },
   {
    "duration": 19,
    "start_time": "2024-06-24T05:44:42.987Z"
   },
   {
    "duration": 19,
    "start_time": "2024-06-24T05:44:43.007Z"
   },
   {
    "duration": 39,
    "start_time": "2024-06-24T05:44:43.028Z"
   },
   {
    "duration": 6,
    "start_time": "2024-06-24T05:44:43.071Z"
   },
   {
    "duration": 104,
    "start_time": "2024-06-24T05:44:43.078Z"
   },
   {
    "duration": 6,
    "start_time": "2024-06-24T05:44:43.184Z"
   },
   {
    "duration": 162,
    "start_time": "2024-06-24T05:44:43.191Z"
   },
   {
    "duration": 11,
    "start_time": "2024-06-24T05:44:43.355Z"
   },
   {
    "duration": 21,
    "start_time": "2024-06-24T05:45:31.594Z"
   },
   {
    "duration": 20,
    "start_time": "2024-06-24T05:45:47.712Z"
   },
   {
    "duration": 14,
    "start_time": "2024-06-24T05:45:50.645Z"
   },
   {
    "duration": 63,
    "start_time": "2024-06-24T05:47:28.566Z"
   },
   {
    "duration": 60,
    "start_time": "2024-06-24T05:47:35.886Z"
   },
   {
    "duration": 64,
    "start_time": "2024-06-24T05:47:38.471Z"
   },
   {
    "duration": 72,
    "start_time": "2024-06-24T05:50:05.738Z"
   },
   {
    "duration": 81,
    "start_time": "2024-06-24T05:50:10.240Z"
   },
   {
    "duration": 10,
    "start_time": "2024-06-24T05:50:20.249Z"
   },
   {
    "duration": 99,
    "start_time": "2024-06-24T05:50:34.252Z"
   },
   {
    "duration": 76,
    "start_time": "2024-06-24T05:50:40.476Z"
   },
   {
    "duration": 69,
    "start_time": "2024-06-24T05:51:04.300Z"
   },
   {
    "duration": 4,
    "start_time": "2024-06-24T05:51:19.625Z"
   },
   {
    "duration": 6,
    "start_time": "2024-06-24T05:51:21.680Z"
   },
   {
    "duration": 61,
    "start_time": "2024-06-24T05:51:39.442Z"
   },
   {
    "duration": 9,
    "start_time": "2024-06-24T05:51:42.533Z"
   },
   {
    "duration": 59,
    "start_time": "2024-06-24T05:51:57.157Z"
   },
   {
    "duration": 16,
    "start_time": "2024-06-24T05:52:17.092Z"
   },
   {
    "duration": 13,
    "start_time": "2024-06-24T05:53:17.975Z"
   },
   {
    "duration": 2355,
    "start_time": "2024-06-24T05:53:38.968Z"
   },
   {
    "duration": 592,
    "start_time": "2024-06-24T05:53:41.325Z"
   },
   {
    "duration": 103,
    "start_time": "2024-06-24T05:53:41.919Z"
   },
   {
    "duration": 8,
    "start_time": "2024-06-24T05:53:42.024Z"
   },
   {
    "duration": 19,
    "start_time": "2024-06-24T05:53:42.034Z"
   },
   {
    "duration": 28,
    "start_time": "2024-06-24T05:53:42.054Z"
   },
   {
    "duration": 14,
    "start_time": "2024-06-24T05:53:42.084Z"
   },
   {
    "duration": 16,
    "start_time": "2024-06-24T05:53:42.100Z"
   },
   {
    "duration": 17,
    "start_time": "2024-06-24T05:53:42.118Z"
   },
   {
    "duration": 42,
    "start_time": "2024-06-24T05:53:42.138Z"
   },
   {
    "duration": 7,
    "start_time": "2024-06-24T05:53:42.183Z"
   },
   {
    "duration": 10,
    "start_time": "2024-06-24T05:53:42.192Z"
   },
   {
    "duration": 165,
    "start_time": "2024-06-24T05:53:42.203Z"
   },
   {
    "duration": 5,
    "start_time": "2024-06-24T05:53:42.369Z"
   },
   {
    "duration": 118,
    "start_time": "2024-06-24T05:53:42.376Z"
   },
   {
    "duration": 9,
    "start_time": "2024-06-24T05:53:42.496Z"
   },
   {
    "duration": 156,
    "start_time": "2024-06-24T05:53:42.506Z"
   },
   {
    "duration": 139,
    "start_time": "2024-06-24T05:53:42.664Z"
   },
   {
    "duration": 5,
    "start_time": "2024-06-24T05:53:42.805Z"
   },
   {
    "duration": 190,
    "start_time": "2024-06-24T05:53:42.812Z"
   },
   {
    "duration": 8,
    "start_time": "2024-06-24T05:53:43.004Z"
   },
   {
    "duration": 10,
    "start_time": "2024-06-24T05:53:43.014Z"
   },
   {
    "duration": 8,
    "start_time": "2024-06-24T05:53:43.025Z"
   },
   {
    "duration": 39,
    "start_time": "2024-06-24T05:53:43.035Z"
   },
   {
    "duration": 129,
    "start_time": "2024-06-24T05:53:43.076Z"
   },
   {
    "duration": 11,
    "start_time": "2024-06-24T05:53:43.207Z"
   },
   {
    "duration": 14,
    "start_time": "2024-06-24T05:53:43.219Z"
   },
   {
    "duration": 31,
    "start_time": "2024-06-24T05:53:43.236Z"
   },
   {
    "duration": 121,
    "start_time": "2024-06-24T05:53:43.269Z"
   },
   {
    "duration": 25,
    "start_time": "2024-06-24T05:53:43.391Z"
   },
   {
    "duration": 20,
    "start_time": "2024-06-24T05:53:43.417Z"
   },
   {
    "duration": 66,
    "start_time": "2024-06-24T05:53:43.439Z"
   },
   {
    "duration": 5,
    "start_time": "2024-06-24T05:53:43.506Z"
   },
   {
    "duration": 8,
    "start_time": "2024-06-24T05:53:43.512Z"
   },
   {
    "duration": 275,
    "start_time": "2024-06-24T05:53:43.521Z"
   },
   {
    "duration": 252,
    "start_time": "2024-06-24T05:53:43.797Z"
   },
   {
    "duration": 28,
    "start_time": "2024-06-24T05:53:44.051Z"
   },
   {
    "duration": 19,
    "start_time": "2024-06-24T05:53:44.081Z"
   },
   {
    "duration": 20,
    "start_time": "2024-06-24T05:53:44.102Z"
   },
   {
    "duration": 6,
    "start_time": "2024-06-24T05:53:44.123Z"
   },
   {
    "duration": 9,
    "start_time": "2024-06-24T05:53:44.130Z"
   },
   {
    "duration": 5,
    "start_time": "2024-06-24T05:53:44.165Z"
   },
   {
    "duration": 172,
    "start_time": "2024-06-24T05:53:44.172Z"
   },
   {
    "duration": 7,
    "start_time": "2024-06-24T05:53:44.345Z"
   },
   {
    "duration": 224,
    "start_time": "2024-06-24T05:56:20.736Z"
   },
   {
    "duration": 302,
    "start_time": "2024-06-24T05:56:28.679Z"
   },
   {
    "duration": 135,
    "start_time": "2024-06-24T05:56:39.801Z"
   },
   {
    "duration": 139,
    "start_time": "2024-06-24T05:56:50.331Z"
   },
   {
    "duration": 70,
    "start_time": "2024-06-24T05:57:44.714Z"
   },
   {
    "duration": 11,
    "start_time": "2024-06-24T05:58:01.530Z"
   },
   {
    "duration": 135,
    "start_time": "2024-06-24T05:58:40.464Z"
   },
   {
    "duration": 127,
    "start_time": "2024-06-24T06:00:07.132Z"
   },
   {
    "duration": 131,
    "start_time": "2024-06-24T06:02:14.678Z"
   },
   {
    "duration": 13,
    "start_time": "2024-06-24T06:04:32.207Z"
   },
   {
    "duration": 130,
    "start_time": "2024-06-24T06:04:37.250Z"
   },
   {
    "duration": 150,
    "start_time": "2024-06-24T06:04:41.400Z"
   },
   {
    "duration": 619,
    "start_time": "2024-06-24T06:05:02.041Z"
   },
   {
    "duration": 651,
    "start_time": "2024-06-24T06:05:27.963Z"
   },
   {
    "duration": 135,
    "start_time": "2024-06-24T06:08:19.394Z"
   },
   {
    "duration": 74,
    "start_time": "2024-06-24T06:09:55.653Z"
   },
   {
    "duration": 76,
    "start_time": "2024-06-24T06:15:07.603Z"
   },
   {
    "duration": 97,
    "start_time": "2024-06-24T06:16:37.474Z"
   },
   {
    "duration": 68,
    "start_time": "2024-06-24T06:16:57.048Z"
   },
   {
    "duration": 99,
    "start_time": "2024-06-24T06:17:08.285Z"
   },
   {
    "duration": 97,
    "start_time": "2024-06-24T06:17:21.301Z"
   },
   {
    "duration": 75,
    "start_time": "2024-06-24T06:18:11.219Z"
   },
   {
    "duration": 3,
    "start_time": "2024-06-24T06:18:43.208Z"
   },
   {
    "duration": 73,
    "start_time": "2024-06-24T06:21:09.914Z"
   },
   {
    "duration": 75,
    "start_time": "2024-06-24T06:26:22.259Z"
   },
   {
    "duration": 2,
    "start_time": "2024-06-24T06:26:43.456Z"
   },
   {
    "duration": 2,
    "start_time": "2024-06-24T06:26:51.317Z"
   },
   {
    "duration": 2,
    "start_time": "2024-06-24T06:27:01.479Z"
   },
   {
    "duration": 70,
    "start_time": "2024-06-24T06:28:32.504Z"
   },
   {
    "duration": 3,
    "start_time": "2024-06-24T06:28:36.976Z"
   },
   {
    "duration": 779,
    "start_time": "2024-06-24T06:32:39.286Z"
   },
   {
    "duration": 21,
    "start_time": "2024-06-24T06:35:06.126Z"
   },
   {
    "duration": 122,
    "start_time": "2024-06-24T06:35:08.249Z"
   },
   {
    "duration": 2420,
    "start_time": "2024-06-24T06:35:36.510Z"
   },
   {
    "duration": 626,
    "start_time": "2024-06-24T06:35:38.932Z"
   },
   {
    "duration": 131,
    "start_time": "2024-06-24T06:35:39.560Z"
   },
   {
    "duration": 8,
    "start_time": "2024-06-24T06:35:39.693Z"
   },
   {
    "duration": 18,
    "start_time": "2024-06-24T06:35:39.703Z"
   },
   {
    "duration": 16,
    "start_time": "2024-06-24T06:35:39.722Z"
   },
   {
    "duration": 35,
    "start_time": "2024-06-24T06:35:39.740Z"
   },
   {
    "duration": 21,
    "start_time": "2024-06-24T06:35:39.777Z"
   },
   {
    "duration": 16,
    "start_time": "2024-06-24T06:35:39.801Z"
   },
   {
    "duration": 49,
    "start_time": "2024-06-24T06:35:39.820Z"
   },
   {
    "duration": 8,
    "start_time": "2024-06-24T06:35:39.871Z"
   },
   {
    "duration": 9,
    "start_time": "2024-06-24T06:35:39.880Z"
   },
   {
    "duration": 191,
    "start_time": "2024-06-24T06:35:39.890Z"
   },
   {
    "duration": 5,
    "start_time": "2024-06-24T06:35:40.083Z"
   },
   {
    "duration": 82,
    "start_time": "2024-06-24T06:35:40.089Z"
   },
   {
    "duration": 2,
    "start_time": "2024-06-24T06:35:40.172Z"
   },
   {
    "duration": 8,
    "start_time": "2024-06-24T06:35:40.176Z"
   },
   {
    "duration": 164,
    "start_time": "2024-06-24T06:35:40.185Z"
   },
   {
    "duration": 2,
    "start_time": "2024-06-24T06:35:40.350Z"
   },
   {
    "duration": 18,
    "start_time": "2024-06-24T06:35:40.354Z"
   },
   {
    "duration": 39,
    "start_time": "2024-06-24T06:35:40.373Z"
   },
   {
    "duration": 9,
    "start_time": "2024-06-24T06:35:40.413Z"
   },
   {
    "duration": 15,
    "start_time": "2024-06-24T06:35:40.423Z"
   },
   {
    "duration": 19,
    "start_time": "2024-06-24T06:35:40.439Z"
   },
   {
    "duration": 8,
    "start_time": "2024-06-24T06:35:40.459Z"
   },
   {
    "duration": 16,
    "start_time": "2024-06-24T06:35:40.468Z"
   },
   {
    "duration": 132,
    "start_time": "2024-06-24T06:35:40.485Z"
   },
   {
    "duration": 10,
    "start_time": "2024-06-24T06:35:40.620Z"
   },
   {
    "duration": 18,
    "start_time": "2024-06-24T06:35:40.631Z"
   },
   {
    "duration": 21,
    "start_time": "2024-06-24T06:35:40.651Z"
   },
   {
    "duration": 165,
    "start_time": "2024-06-24T06:35:40.673Z"
   },
   {
    "duration": 28,
    "start_time": "2024-06-24T06:35:40.839Z"
   },
   {
    "duration": 18,
    "start_time": "2024-06-24T06:35:40.869Z"
   },
   {
    "duration": 43,
    "start_time": "2024-06-24T06:35:40.888Z"
   },
   {
    "duration": 5,
    "start_time": "2024-06-24T06:35:40.932Z"
   },
   {
    "duration": 33,
    "start_time": "2024-06-24T06:35:40.938Z"
   },
   {
    "duration": 246,
    "start_time": "2024-06-24T06:35:40.973Z"
   },
   {
    "duration": 256,
    "start_time": "2024-06-24T06:35:41.220Z"
   },
   {
    "duration": 19,
    "start_time": "2024-06-24T06:35:41.478Z"
   },
   {
    "duration": 18,
    "start_time": "2024-06-24T06:35:41.498Z"
   },
   {
    "duration": 17,
    "start_time": "2024-06-24T06:35:41.517Z"
   },
   {
    "duration": 31,
    "start_time": "2024-06-24T06:35:41.535Z"
   },
   {
    "duration": 51,
    "start_time": "2024-06-24T06:35:41.567Z"
   },
   {
    "duration": 6,
    "start_time": "2024-06-24T06:35:41.620Z"
   },
   {
    "duration": 140,
    "start_time": "2024-06-24T06:35:41.627Z"
   },
   {
    "duration": 8,
    "start_time": "2024-06-24T06:35:41.769Z"
   },
   {
    "duration": 62,
    "start_time": "2024-06-24T06:37:58.289Z"
   },
   {
    "duration": 135,
    "start_time": "2024-06-24T06:38:43.792Z"
   },
   {
    "duration": 17,
    "start_time": "2024-06-24T06:44:22.666Z"
   },
   {
    "duration": 109,
    "start_time": "2024-06-24T06:44:24.826Z"
   },
   {
    "duration": 114,
    "start_time": "2024-06-24T06:46:47.183Z"
   },
   {
    "duration": 95,
    "start_time": "2024-06-24T06:50:16.784Z"
   },
   {
    "duration": 11,
    "start_time": "2024-06-24T06:53:16.488Z"
   },
   {
    "duration": 14,
    "start_time": "2024-06-24T06:57:17.729Z"
   },
   {
    "duration": 92,
    "start_time": "2024-06-24T06:57:39.742Z"
   },
   {
    "duration": 61,
    "start_time": "2024-06-24T06:57:47.096Z"
   },
   {
    "duration": 12,
    "start_time": "2024-06-24T06:57:49.686Z"
   },
   {
    "duration": 13,
    "start_time": "2024-06-24T06:58:26.913Z"
   },
   {
    "duration": 16,
    "start_time": "2024-06-24T07:09:06.013Z"
   },
   {
    "duration": 3,
    "start_time": "2024-06-24T07:10:03.505Z"
   },
   {
    "duration": 4,
    "start_time": "2024-06-24T07:10:44.756Z"
   },
   {
    "duration": 11,
    "start_time": "2024-06-24T07:10:55.170Z"
   },
   {
    "duration": 26,
    "start_time": "2024-06-24T07:12:30.052Z"
   },
   {
    "duration": 14,
    "start_time": "2024-06-24T07:13:15.345Z"
   },
   {
    "duration": 14,
    "start_time": "2024-06-24T07:13:31.748Z"
   },
   {
    "duration": 21,
    "start_time": "2024-06-24T07:13:55.582Z"
   },
   {
    "duration": 22,
    "start_time": "2024-06-24T07:14:12.653Z"
   },
   {
    "duration": 19,
    "start_time": "2024-06-24T07:14:47.352Z"
   },
   {
    "duration": 7,
    "start_time": "2024-06-24T07:15:21.420Z"
   },
   {
    "duration": 7,
    "start_time": "2024-06-24T07:15:45.026Z"
   },
   {
    "duration": 22,
    "start_time": "2024-06-24T07:16:12.216Z"
   },
   {
    "duration": 31,
    "start_time": "2024-06-24T07:16:18.826Z"
   },
   {
    "duration": 23,
    "start_time": "2024-06-24T07:16:27.272Z"
   },
   {
    "duration": 23,
    "start_time": "2024-06-24T07:16:49.553Z"
   },
   {
    "duration": 68,
    "start_time": "2024-06-24T07:20:30.588Z"
   },
   {
    "duration": 2335,
    "start_time": "2024-06-24T07:26:05.285Z"
   },
   {
    "duration": 589,
    "start_time": "2024-06-24T07:26:07.623Z"
   },
   {
    "duration": 95,
    "start_time": "2024-06-24T07:26:08.213Z"
   },
   {
    "duration": 7,
    "start_time": "2024-06-24T07:26:08.309Z"
   },
   {
    "duration": 17,
    "start_time": "2024-06-24T07:26:08.318Z"
   },
   {
    "duration": 16,
    "start_time": "2024-06-24T07:26:08.337Z"
   },
   {
    "duration": 20,
    "start_time": "2024-06-24T07:26:08.354Z"
   },
   {
    "duration": 15,
    "start_time": "2024-06-24T07:26:08.375Z"
   },
   {
    "duration": 16,
    "start_time": "2024-06-24T07:26:08.391Z"
   },
   {
    "duration": 22,
    "start_time": "2024-06-24T07:26:08.410Z"
   },
   {
    "duration": 11,
    "start_time": "2024-06-24T07:26:08.465Z"
   },
   {
    "duration": 11,
    "start_time": "2024-06-24T07:26:08.478Z"
   },
   {
    "duration": 188,
    "start_time": "2024-06-24T07:26:08.491Z"
   },
   {
    "duration": 7,
    "start_time": "2024-06-24T07:26:08.681Z"
   },
   {
    "duration": 89,
    "start_time": "2024-06-24T07:26:08.689Z"
   },
   {
    "duration": 3,
    "start_time": "2024-06-24T07:26:08.779Z"
   },
   {
    "duration": 18,
    "start_time": "2024-06-24T07:26:08.783Z"
   },
   {
    "duration": 187,
    "start_time": "2024-06-24T07:26:08.802Z"
   },
   {
    "duration": 2,
    "start_time": "2024-06-24T07:26:08.990Z"
   },
   {
    "duration": 19,
    "start_time": "2024-06-24T07:26:08.994Z"
   },
   {
    "duration": 5,
    "start_time": "2024-06-24T07:26:09.015Z"
   },
   {
    "duration": 6,
    "start_time": "2024-06-24T07:26:09.021Z"
   },
   {
    "duration": 10,
    "start_time": "2024-06-24T07:26:09.028Z"
   },
   {
    "duration": 28,
    "start_time": "2024-06-24T07:26:09.039Z"
   },
   {
    "duration": 8,
    "start_time": "2024-06-24T07:26:09.068Z"
   },
   {
    "duration": 25,
    "start_time": "2024-06-24T07:26:09.077Z"
   },
   {
    "duration": 128,
    "start_time": "2024-06-24T07:26:09.103Z"
   },
   {
    "duration": 10,
    "start_time": "2024-06-24T07:26:09.234Z"
   },
   {
    "duration": 20,
    "start_time": "2024-06-24T07:26:09.245Z"
   },
   {
    "duration": 15,
    "start_time": "2024-06-24T07:26:09.267Z"
   },
   {
    "duration": 175,
    "start_time": "2024-06-24T07:26:09.283Z"
   },
   {
    "duration": 25,
    "start_time": "2024-06-24T07:26:09.459Z"
   },
   {
    "duration": 12,
    "start_time": "2024-06-24T07:26:09.485Z"
   },
   {
    "duration": 18,
    "start_time": "2024-06-24T07:26:09.499Z"
   },
   {
    "duration": 10,
    "start_time": "2024-06-24T07:26:09.519Z"
   },
   {
    "duration": 75,
    "start_time": "2024-06-24T07:26:09.531Z"
   },
   {
    "duration": 53,
    "start_time": "2024-06-24T07:26:09.608Z"
   },
   {
    "duration": 9,
    "start_time": "2024-06-24T07:26:09.663Z"
   },
   {
    "duration": 262,
    "start_time": "2024-06-24T07:26:09.674Z"
   },
   {
    "duration": 243,
    "start_time": "2024-06-24T07:26:09.937Z"
   },
   {
    "duration": 27,
    "start_time": "2024-06-24T07:26:10.181Z"
   },
   {
    "duration": 92,
    "start_time": "2024-06-24T07:26:10.210Z"
   },
   {
    "duration": 24,
    "start_time": "2024-06-24T07:26:10.304Z"
   },
   {
    "duration": 6,
    "start_time": "2024-06-24T07:26:10.330Z"
   },
   {
    "duration": 12,
    "start_time": "2024-06-24T07:26:10.337Z"
   },
   {
    "duration": 12,
    "start_time": "2024-06-24T07:26:10.350Z"
   },
   {
    "duration": 158,
    "start_time": "2024-06-24T07:26:10.364Z"
   },
   {
    "duration": 6,
    "start_time": "2024-06-24T07:26:10.524Z"
   },
   {
    "duration": 6,
    "start_time": "2024-06-24T07:40:20.160Z"
   },
   {
    "duration": 75,
    "start_time": "2024-06-24T07:40:30.975Z"
   },
   {
    "duration": 12,
    "start_time": "2024-06-24T07:41:13.643Z"
   },
   {
    "duration": 135,
    "start_time": "2024-06-24T07:41:27.461Z"
   },
   {
    "duration": 139,
    "start_time": "2024-06-24T07:41:30.652Z"
   },
   {
    "duration": 4,
    "start_time": "2024-06-24T07:42:08.532Z"
   },
   {
    "duration": 5,
    "start_time": "2024-06-24T07:42:25.686Z"
   },
   {
    "duration": 9,
    "start_time": "2024-06-24T07:42:27.146Z"
   },
   {
    "duration": 5,
    "start_time": "2024-06-24T07:42:31.022Z"
   },
   {
    "duration": 140,
    "start_time": "2024-06-24T07:42:33.965Z"
   },
   {
    "duration": 15,
    "start_time": "2024-06-24T07:50:50.419Z"
   },
   {
    "duration": 14,
    "start_time": "2024-06-24T07:51:30.805Z"
   },
   {
    "duration": 456,
    "start_time": "2024-06-24T07:52:27.673Z"
   },
   {
    "duration": 2348,
    "start_time": "2024-06-24T07:52:33.353Z"
   },
   {
    "duration": 1018,
    "start_time": "2024-06-24T07:52:35.703Z"
   },
   {
    "duration": 98,
    "start_time": "2024-06-24T07:52:36.722Z"
   },
   {
    "duration": 7,
    "start_time": "2024-06-24T07:52:36.822Z"
   },
   {
    "duration": 18,
    "start_time": "2024-06-24T07:52:36.831Z"
   },
   {
    "duration": 14,
    "start_time": "2024-06-24T07:52:36.851Z"
   },
   {
    "duration": 28,
    "start_time": "2024-06-24T07:52:36.867Z"
   },
   {
    "duration": 16,
    "start_time": "2024-06-24T07:52:36.896Z"
   },
   {
    "duration": 12,
    "start_time": "2024-06-24T07:52:36.914Z"
   },
   {
    "duration": 13,
    "start_time": "2024-06-24T07:52:36.928Z"
   },
   {
    "duration": 26,
    "start_time": "2024-06-24T07:52:36.943Z"
   },
   {
    "duration": 13,
    "start_time": "2024-06-24T07:52:36.971Z"
   },
   {
    "duration": 158,
    "start_time": "2024-06-24T07:52:36.985Z"
   },
   {
    "duration": 7,
    "start_time": "2024-06-24T07:52:37.144Z"
   },
   {
    "duration": 82,
    "start_time": "2024-06-24T07:52:37.152Z"
   },
   {
    "duration": 2,
    "start_time": "2024-06-24T07:52:37.235Z"
   },
   {
    "duration": 26,
    "start_time": "2024-06-24T07:52:37.239Z"
   },
   {
    "duration": 157,
    "start_time": "2024-06-24T07:52:37.267Z"
   },
   {
    "duration": 2,
    "start_time": "2024-06-24T07:52:37.426Z"
   },
   {
    "duration": 15,
    "start_time": "2024-06-24T07:52:37.430Z"
   },
   {
    "duration": 9,
    "start_time": "2024-06-24T07:52:37.447Z"
   },
   {
    "duration": 14,
    "start_time": "2024-06-24T07:52:37.458Z"
   },
   {
    "duration": 17,
    "start_time": "2024-06-24T07:52:37.474Z"
   },
   {
    "duration": 10,
    "start_time": "2024-06-24T07:52:37.492Z"
   },
   {
    "duration": 7,
    "start_time": "2024-06-24T07:52:37.504Z"
   },
   {
    "duration": 14,
    "start_time": "2024-06-24T07:52:37.512Z"
   },
   {
    "duration": 141,
    "start_time": "2024-06-24T07:52:37.528Z"
   },
   {
    "duration": 12,
    "start_time": "2024-06-24T07:52:37.673Z"
   },
   {
    "duration": 17,
    "start_time": "2024-06-24T07:52:37.687Z"
   },
   {
    "duration": 45,
    "start_time": "2024-06-24T07:52:37.706Z"
   },
   {
    "duration": 149,
    "start_time": "2024-06-24T07:52:37.753Z"
   },
   {
    "duration": 23,
    "start_time": "2024-06-24T07:52:37.903Z"
   },
   {
    "duration": 12,
    "start_time": "2024-06-24T07:52:37.928Z"
   },
   {
    "duration": 89,
    "start_time": "2024-06-24T07:52:37.941Z"
   },
   {
    "duration": 17,
    "start_time": "2024-06-24T07:52:38.032Z"
   },
   {
    "duration": 45,
    "start_time": "2024-06-24T07:52:38.050Z"
   },
   {
    "duration": 5,
    "start_time": "2024-06-24T07:52:38.097Z"
   },
   {
    "duration": 16,
    "start_time": "2024-06-24T07:52:38.103Z"
   },
   {
    "duration": 263,
    "start_time": "2024-06-24T07:52:38.121Z"
   },
   {
    "duration": 238,
    "start_time": "2024-06-24T07:52:38.385Z"
   },
   {
    "duration": 22,
    "start_time": "2024-06-24T07:52:38.625Z"
   },
   {
    "duration": 37,
    "start_time": "2024-06-24T07:52:38.649Z"
   },
   {
    "duration": 111,
    "start_time": "2024-06-24T07:52:38.688Z"
   },
   {
    "duration": 5,
    "start_time": "2024-06-24T07:52:38.801Z"
   },
   {
    "duration": 121,
    "start_time": "2024-06-24T07:52:38.807Z"
   },
   {
    "duration": 0,
    "start_time": "2024-06-24T07:52:38.930Z"
   },
   {
    "duration": 0,
    "start_time": "2024-06-24T07:52:38.931Z"
   },
   {
    "duration": 0,
    "start_time": "2024-06-24T07:52:38.933Z"
   },
   {
    "duration": 12,
    "start_time": "2024-06-24T07:53:13.238Z"
   },
   {
    "duration": 80,
    "start_time": "2024-06-24T07:53:44.064Z"
   },
   {
    "duration": 13,
    "start_time": "2024-06-24T07:53:46.063Z"
   },
   {
    "duration": 12,
    "start_time": "2024-06-24T07:58:16.302Z"
   },
   {
    "duration": 9,
    "start_time": "2024-06-24T07:58:50.806Z"
   },
   {
    "duration": 8,
    "start_time": "2024-06-24T08:00:47.334Z"
   },
   {
    "duration": 9,
    "start_time": "2024-06-24T08:02:34.407Z"
   },
   {
    "duration": 10,
    "start_time": "2024-06-24T08:03:51.217Z"
   },
   {
    "duration": 8,
    "start_time": "2024-06-24T08:07:56.727Z"
   },
   {
    "duration": 12,
    "start_time": "2024-06-24T08:09:28.254Z"
   },
   {
    "duration": 9,
    "start_time": "2024-06-24T08:09:33.865Z"
   },
   {
    "duration": 7,
    "start_time": "2024-06-24T08:12:48.061Z"
   },
   {
    "duration": 7,
    "start_time": "2024-06-24T08:12:53.578Z"
   },
   {
    "duration": 13,
    "start_time": "2024-06-24T08:15:57.207Z"
   },
   {
    "duration": 12,
    "start_time": "2024-06-24T08:16:17.999Z"
   },
   {
    "duration": 9,
    "start_time": "2024-06-24T08:16:37.412Z"
   },
   {
    "duration": 8,
    "start_time": "2024-06-24T08:16:59.617Z"
   },
   {
    "duration": 9,
    "start_time": "2024-06-24T08:18:22.260Z"
   },
   {
    "duration": 11,
    "start_time": "2024-06-24T08:21:40.002Z"
   },
   {
    "duration": 68,
    "start_time": "2024-06-24T08:30:02.124Z"
   },
   {
    "duration": 5,
    "start_time": "2024-06-24T08:31:32.691Z"
   },
   {
    "duration": 4,
    "start_time": "2024-06-24T08:31:37.292Z"
   },
   {
    "duration": 9,
    "start_time": "2024-06-24T08:37:18.628Z"
   },
   {
    "duration": 8,
    "start_time": "2024-06-24T08:38:04.709Z"
   },
   {
    "duration": 991,
    "start_time": "2024-06-24T08:40:02.708Z"
   },
   {
    "duration": 8,
    "start_time": "2024-06-24T08:40:04.993Z"
   },
   {
    "duration": 8,
    "start_time": "2024-06-24T08:41:52.170Z"
   },
   {
    "duration": 65,
    "start_time": "2024-06-24T08:42:27.598Z"
   },
   {
    "duration": 7,
    "start_time": "2024-06-24T08:42:32.851Z"
   },
   {
    "duration": 5,
    "start_time": "2024-06-24T08:43:50.872Z"
   },
   {
    "duration": 6,
    "start_time": "2024-06-24T08:43:57.404Z"
   },
   {
    "duration": 10,
    "start_time": "2024-06-24T08:44:49.853Z"
   },
   {
    "duration": 7,
    "start_time": "2024-06-24T08:45:45.769Z"
   },
   {
    "duration": 6,
    "start_time": "2024-06-24T08:45:53.792Z"
   },
   {
    "duration": 10,
    "start_time": "2024-06-24T08:49:42.864Z"
   },
   {
    "duration": 11,
    "start_time": "2024-06-24T08:49:47.837Z"
   },
   {
    "duration": 8,
    "start_time": "2024-06-24T08:50:25.845Z"
   },
   {
    "duration": 8,
    "start_time": "2024-06-24T09:00:32.152Z"
   },
   {
    "duration": 6,
    "start_time": "2024-06-24T09:00:58.858Z"
   },
   {
    "duration": 84,
    "start_time": "2024-06-24T09:01:51.729Z"
   },
   {
    "duration": 69,
    "start_time": "2024-06-24T09:02:01.716Z"
   },
   {
    "duration": 5,
    "start_time": "2024-06-24T09:02:16.945Z"
   },
   {
    "duration": 9,
    "start_time": "2024-06-24T09:02:22.632Z"
   },
   {
    "duration": 8,
    "start_time": "2024-06-24T09:02:59.785Z"
   },
   {
    "duration": 8,
    "start_time": "2024-06-24T09:03:34.944Z"
   },
   {
    "duration": 10,
    "start_time": "2024-06-24T09:03:51.439Z"
   },
   {
    "duration": 9,
    "start_time": "2024-06-24T09:04:09.753Z"
   },
   {
    "duration": 2316,
    "start_time": "2024-06-24T09:11:27.236Z"
   },
   {
    "duration": 1090,
    "start_time": "2024-06-24T09:11:29.555Z"
   },
   {
    "duration": 100,
    "start_time": "2024-06-24T09:11:30.647Z"
   },
   {
    "duration": 8,
    "start_time": "2024-06-24T09:11:30.749Z"
   },
   {
    "duration": 69,
    "start_time": "2024-06-24T09:11:30.758Z"
   },
   {
    "duration": 63,
    "start_time": "2024-06-24T09:11:30.829Z"
   },
   {
    "duration": 39,
    "start_time": "2024-06-24T09:11:30.893Z"
   },
   {
    "duration": 94,
    "start_time": "2024-06-24T09:11:30.933Z"
   },
   {
    "duration": 166,
    "start_time": "2024-06-24T09:11:31.029Z"
   },
   {
    "duration": 47,
    "start_time": "2024-06-24T09:11:31.197Z"
   },
   {
    "duration": 107,
    "start_time": "2024-06-24T09:11:31.246Z"
   },
   {
    "duration": 43,
    "start_time": "2024-06-24T09:11:31.355Z"
   },
   {
    "duration": 160,
    "start_time": "2024-06-24T09:11:31.400Z"
   },
   {
    "duration": 5,
    "start_time": "2024-06-24T09:11:31.562Z"
   },
   {
    "duration": 100,
    "start_time": "2024-06-24T09:11:31.568Z"
   },
   {
    "duration": 2,
    "start_time": "2024-06-24T09:11:31.670Z"
   },
   {
    "duration": 16,
    "start_time": "2024-06-24T09:11:31.673Z"
   },
   {
    "duration": 182,
    "start_time": "2024-06-24T09:11:31.691Z"
   },
   {
    "duration": 2,
    "start_time": "2024-06-24T09:11:31.875Z"
   },
   {
    "duration": 24,
    "start_time": "2024-06-24T09:11:31.878Z"
   },
   {
    "duration": 30,
    "start_time": "2024-06-24T09:11:31.903Z"
   },
   {
    "duration": 30,
    "start_time": "2024-06-24T09:11:31.934Z"
   },
   {
    "duration": 20,
    "start_time": "2024-06-24T09:11:31.966Z"
   },
   {
    "duration": 11,
    "start_time": "2024-06-24T09:11:31.988Z"
   },
   {
    "duration": 107,
    "start_time": "2024-06-24T09:11:32.001Z"
   },
   {
    "duration": 31,
    "start_time": "2024-06-24T09:11:32.109Z"
   },
   {
    "duration": 129,
    "start_time": "2024-06-24T09:11:32.142Z"
   },
   {
    "duration": 10,
    "start_time": "2024-06-24T09:11:32.274Z"
   },
   {
    "duration": 9,
    "start_time": "2024-06-24T09:11:32.285Z"
   },
   {
    "duration": 21,
    "start_time": "2024-06-24T09:11:32.296Z"
   },
   {
    "duration": 181,
    "start_time": "2024-06-24T09:11:32.318Z"
   },
   {
    "duration": 22,
    "start_time": "2024-06-24T09:11:32.501Z"
   },
   {
    "duration": 13,
    "start_time": "2024-06-24T09:11:32.524Z"
   },
   {
    "duration": 35,
    "start_time": "2024-06-24T09:11:32.539Z"
   },
   {
    "duration": 92,
    "start_time": "2024-06-24T09:11:32.575Z"
   },
   {
    "duration": 42,
    "start_time": "2024-06-24T09:11:32.669Z"
   },
   {
    "duration": 5,
    "start_time": "2024-06-24T09:11:32.712Z"
   },
   {
    "duration": 12,
    "start_time": "2024-06-24T09:11:32.719Z"
   },
   {
    "duration": 259,
    "start_time": "2024-06-24T09:11:32.732Z"
   },
   {
    "duration": 231,
    "start_time": "2024-06-24T09:11:32.993Z"
   },
   {
    "duration": 24,
    "start_time": "2024-06-24T09:11:33.225Z"
   },
   {
    "duration": 26,
    "start_time": "2024-06-24T09:11:33.266Z"
   },
   {
    "duration": 102,
    "start_time": "2024-06-24T09:11:33.293Z"
   },
   {
    "duration": 5,
    "start_time": "2024-06-24T09:11:33.396Z"
   },
   {
    "duration": 108,
    "start_time": "2024-06-24T09:11:33.403Z"
   },
   {
    "duration": 0,
    "start_time": "2024-06-24T09:11:33.513Z"
   },
   {
    "duration": 0,
    "start_time": "2024-06-24T09:11:33.514Z"
   },
   {
    "duration": 0,
    "start_time": "2024-06-24T09:11:33.515Z"
   },
   {
    "duration": 0,
    "start_time": "2024-06-24T09:11:33.516Z"
   },
   {
    "duration": 67,
    "start_time": "2024-06-24T09:14:37.294Z"
   },
   {
    "duration": 9,
    "start_time": "2024-06-24T09:15:22.811Z"
   },
   {
    "duration": 2301,
    "start_time": "2024-06-24T09:15:32.792Z"
   },
   {
    "duration": 1249,
    "start_time": "2024-06-24T09:15:35.095Z"
   },
   {
    "duration": 114,
    "start_time": "2024-06-24T09:15:36.346Z"
   },
   {
    "duration": 8,
    "start_time": "2024-06-24T09:15:36.462Z"
   },
   {
    "duration": 16,
    "start_time": "2024-06-24T09:15:36.472Z"
   },
   {
    "duration": 25,
    "start_time": "2024-06-24T09:15:36.490Z"
   },
   {
    "duration": 12,
    "start_time": "2024-06-24T09:15:36.516Z"
   },
   {
    "duration": 36,
    "start_time": "2024-06-24T09:15:36.530Z"
   },
   {
    "duration": 12,
    "start_time": "2024-06-24T09:15:36.568Z"
   },
   {
    "duration": 14,
    "start_time": "2024-06-24T09:15:36.582Z"
   },
   {
    "duration": 76,
    "start_time": "2024-06-24T09:15:36.597Z"
   },
   {
    "duration": 13,
    "start_time": "2024-06-24T09:15:36.675Z"
   },
   {
    "duration": 155,
    "start_time": "2024-06-24T09:15:36.690Z"
   },
   {
    "duration": 6,
    "start_time": "2024-06-24T09:15:36.847Z"
   },
   {
    "duration": 80,
    "start_time": "2024-06-24T09:15:36.854Z"
   },
   {
    "duration": 2,
    "start_time": "2024-06-24T09:15:36.936Z"
   },
   {
    "duration": 23,
    "start_time": "2024-06-24T09:15:36.940Z"
   },
   {
    "duration": 194,
    "start_time": "2024-06-24T09:15:36.964Z"
   },
   {
    "duration": 5,
    "start_time": "2024-06-24T09:15:37.160Z"
   },
   {
    "duration": 3,
    "start_time": "2024-06-24T09:15:37.167Z"
   },
   {
    "duration": 10,
    "start_time": "2024-06-24T09:15:37.172Z"
   },
   {
    "duration": 9,
    "start_time": "2024-06-24T09:15:37.183Z"
   },
   {
    "duration": 12,
    "start_time": "2024-06-24T09:15:37.193Z"
   },
   {
    "duration": 11,
    "start_time": "2024-06-24T09:15:37.207Z"
   },
   {
    "duration": 13,
    "start_time": "2024-06-24T09:15:37.219Z"
   },
   {
    "duration": 33,
    "start_time": "2024-06-24T09:15:37.234Z"
   },
   {
    "duration": 143,
    "start_time": "2024-06-24T09:15:37.268Z"
   },
   {
    "duration": 11,
    "start_time": "2024-06-24T09:15:37.414Z"
   },
   {
    "duration": 16,
    "start_time": "2024-06-24T09:15:37.426Z"
   },
   {
    "duration": 27,
    "start_time": "2024-06-24T09:15:37.443Z"
   },
   {
    "duration": 125,
    "start_time": "2024-06-24T09:15:37.471Z"
   },
   {
    "duration": 24,
    "start_time": "2024-06-24T09:15:37.598Z"
   },
   {
    "duration": 12,
    "start_time": "2024-06-24T09:15:37.623Z"
   },
   {
    "duration": 40,
    "start_time": "2024-06-24T09:15:37.637Z"
   },
   {
    "duration": 10,
    "start_time": "2024-06-24T09:15:37.679Z"
   },
   {
    "duration": 43,
    "start_time": "2024-06-24T09:15:37.690Z"
   },
   {
    "duration": 6,
    "start_time": "2024-06-24T09:15:37.734Z"
   },
   {
    "duration": 9,
    "start_time": "2024-06-24T09:15:37.766Z"
   },
   {
    "duration": 242,
    "start_time": "2024-06-24T09:15:37.777Z"
   },
   {
    "duration": 229,
    "start_time": "2024-06-24T09:15:38.021Z"
   },
   {
    "duration": 28,
    "start_time": "2024-06-24T09:15:38.252Z"
   },
   {
    "duration": 31,
    "start_time": "2024-06-24T09:15:38.282Z"
   },
   {
    "duration": 95,
    "start_time": "2024-06-24T09:15:38.315Z"
   },
   {
    "duration": 6,
    "start_time": "2024-06-24T09:15:38.412Z"
   },
   {
    "duration": 42,
    "start_time": "2024-06-24T09:15:38.419Z"
   },
   {
    "duration": 106,
    "start_time": "2024-06-24T09:15:38.462Z"
   },
   {
    "duration": 0,
    "start_time": "2024-06-24T09:15:38.570Z"
   },
   {
    "duration": 0,
    "start_time": "2024-06-24T09:15:38.572Z"
   },
   {
    "duration": 0,
    "start_time": "2024-06-24T09:15:38.574Z"
   },
   {
    "duration": 64,
    "start_time": "2024-06-24T09:16:12.145Z"
   },
   {
    "duration": 8,
    "start_time": "2024-06-24T09:16:30.089Z"
   },
   {
    "duration": 2325,
    "start_time": "2024-06-24T09:16:37.312Z"
   },
   {
    "duration": 1061,
    "start_time": "2024-06-24T09:16:39.640Z"
   },
   {
    "duration": 96,
    "start_time": "2024-06-24T09:16:40.703Z"
   },
   {
    "duration": 7,
    "start_time": "2024-06-24T09:16:40.800Z"
   },
   {
    "duration": 39,
    "start_time": "2024-06-24T09:16:40.809Z"
   },
   {
    "duration": 22,
    "start_time": "2024-06-24T09:16:40.849Z"
   },
   {
    "duration": 35,
    "start_time": "2024-06-24T09:16:40.873Z"
   },
   {
    "duration": 37,
    "start_time": "2024-06-24T09:16:40.909Z"
   },
   {
    "duration": 28,
    "start_time": "2024-06-24T09:16:40.947Z"
   },
   {
    "duration": 23,
    "start_time": "2024-06-24T09:16:40.976Z"
   },
   {
    "duration": 23,
    "start_time": "2024-06-24T09:16:41.001Z"
   },
   {
    "duration": 43,
    "start_time": "2024-06-24T09:16:41.025Z"
   },
   {
    "duration": 158,
    "start_time": "2024-06-24T09:16:41.069Z"
   },
   {
    "duration": 5,
    "start_time": "2024-06-24T09:16:41.230Z"
   },
   {
    "duration": 96,
    "start_time": "2024-06-24T09:16:41.236Z"
   },
   {
    "duration": 2,
    "start_time": "2024-06-24T09:16:41.333Z"
   },
   {
    "duration": 38,
    "start_time": "2024-06-24T09:16:41.337Z"
   },
   {
    "duration": 148,
    "start_time": "2024-06-24T09:16:41.376Z"
   },
   {
    "duration": 3,
    "start_time": "2024-06-24T09:16:41.525Z"
   },
   {
    "duration": 17,
    "start_time": "2024-06-24T09:16:41.529Z"
   },
   {
    "duration": 33,
    "start_time": "2024-06-24T09:16:41.548Z"
   },
   {
    "duration": 14,
    "start_time": "2024-06-24T09:16:41.583Z"
   },
   {
    "duration": 30,
    "start_time": "2024-06-24T09:16:41.599Z"
   },
   {
    "duration": 33,
    "start_time": "2024-06-24T09:16:41.631Z"
   },
   {
    "duration": 19,
    "start_time": "2024-06-24T09:16:41.666Z"
   },
   {
    "duration": 22,
    "start_time": "2024-06-24T09:16:41.686Z"
   },
   {
    "duration": 141,
    "start_time": "2024-06-24T09:16:41.710Z"
   },
   {
    "duration": 17,
    "start_time": "2024-06-24T09:16:41.852Z"
   },
   {
    "duration": 30,
    "start_time": "2024-06-24T09:16:41.871Z"
   },
   {
    "duration": 28,
    "start_time": "2024-06-24T09:16:41.902Z"
   },
   {
    "duration": 145,
    "start_time": "2024-06-24T09:16:41.932Z"
   },
   {
    "duration": 25,
    "start_time": "2024-06-24T09:16:42.079Z"
   },
   {
    "duration": 16,
    "start_time": "2024-06-24T09:16:42.105Z"
   },
   {
    "duration": 39,
    "start_time": "2024-06-24T09:16:42.123Z"
   },
   {
    "duration": 11,
    "start_time": "2024-06-24T09:16:42.165Z"
   },
   {
    "duration": 68,
    "start_time": "2024-06-24T09:16:42.177Z"
   },
   {
    "duration": 4,
    "start_time": "2024-06-24T09:16:42.247Z"
   },
   {
    "duration": 30,
    "start_time": "2024-06-24T09:16:42.252Z"
   },
   {
    "duration": 271,
    "start_time": "2024-06-24T09:16:42.283Z"
   },
   {
    "duration": 229,
    "start_time": "2024-06-24T09:16:42.556Z"
   },
   {
    "duration": 21,
    "start_time": "2024-06-24T09:16:42.790Z"
   },
   {
    "duration": 25,
    "start_time": "2024-06-24T09:16:42.813Z"
   },
   {
    "duration": 108,
    "start_time": "2024-06-24T09:16:42.840Z"
   },
   {
    "duration": 5,
    "start_time": "2024-06-24T09:16:42.950Z"
   },
   {
    "duration": 36,
    "start_time": "2024-06-24T09:16:42.965Z"
   },
   {
    "duration": 45,
    "start_time": "2024-06-24T09:16:43.003Z"
   },
   {
    "duration": 37,
    "start_time": "2024-06-24T09:16:43.050Z"
   },
   {
    "duration": 28,
    "start_time": "2024-06-24T09:16:43.088Z"
   },
   {
    "duration": 30,
    "start_time": "2024-06-24T09:16:43.118Z"
   },
   {
    "duration": 2937,
    "start_time": "2024-06-24T21:43:46.598Z"
   },
   {
    "duration": 1215,
    "start_time": "2024-06-24T21:43:49.537Z"
   },
   {
    "duration": 338,
    "start_time": "2024-06-24T21:43:50.753Z"
   },
   {
    "duration": 2631,
    "start_time": "2024-06-24T21:43:59.783Z"
   },
   {
    "duration": 1028,
    "start_time": "2024-06-24T21:44:02.416Z"
   },
   {
    "duration": 106,
    "start_time": "2024-06-24T21:44:03.445Z"
   },
   {
    "duration": 6,
    "start_time": "2024-06-24T21:44:03.552Z"
   },
   {
    "duration": 15,
    "start_time": "2024-06-24T21:44:03.559Z"
   },
   {
    "duration": 14,
    "start_time": "2024-06-24T21:44:03.575Z"
   },
   {
    "duration": 10,
    "start_time": "2024-06-24T21:44:03.590Z"
   },
   {
    "duration": 24,
    "start_time": "2024-06-24T21:44:03.602Z"
   },
   {
    "duration": 14,
    "start_time": "2024-06-24T21:44:03.627Z"
   },
   {
    "duration": 12,
    "start_time": "2024-06-24T21:44:03.643Z"
   },
   {
    "duration": 6,
    "start_time": "2024-06-24T21:44:03.656Z"
   },
   {
    "duration": 14,
    "start_time": "2024-06-24T21:44:03.663Z"
   },
   {
    "duration": 174,
    "start_time": "2024-06-24T21:44:03.678Z"
   },
   {
    "duration": 158,
    "start_time": "2024-06-24T21:44:03.853Z"
   },
   {
    "duration": 5,
    "start_time": "2024-06-24T21:44:04.012Z"
   },
   {
    "duration": 76,
    "start_time": "2024-06-24T21:44:04.018Z"
   },
   {
    "duration": 2,
    "start_time": "2024-06-24T21:44:04.095Z"
   },
   {
    "duration": 4,
    "start_time": "2024-06-24T21:44:04.099Z"
   },
   {
    "duration": 154,
    "start_time": "2024-06-24T21:44:04.104Z"
   },
   {
    "duration": 2,
    "start_time": "2024-06-24T21:44:04.260Z"
   },
   {
    "duration": 5,
    "start_time": "2024-06-24T21:44:04.263Z"
   },
   {
    "duration": 12,
    "start_time": "2024-06-24T21:44:04.269Z"
   },
   {
    "duration": 5,
    "start_time": "2024-06-24T21:44:04.282Z"
   },
   {
    "duration": 10,
    "start_time": "2024-06-24T21:44:04.290Z"
   },
   {
    "duration": 27,
    "start_time": "2024-06-24T21:44:04.301Z"
   },
   {
    "duration": 10,
    "start_time": "2024-06-24T21:44:04.330Z"
   },
   {
    "duration": 20,
    "start_time": "2024-06-24T21:44:04.342Z"
   },
   {
    "duration": 128,
    "start_time": "2024-06-24T21:44:04.366Z"
   },
   {
    "duration": 8,
    "start_time": "2024-06-24T21:44:04.496Z"
   },
   {
    "duration": 30,
    "start_time": "2024-06-24T21:44:04.505Z"
   },
   {
    "duration": 15,
    "start_time": "2024-06-24T21:44:04.536Z"
   },
   {
    "duration": 117,
    "start_time": "2024-06-24T21:44:04.553Z"
   },
   {
    "duration": 21,
    "start_time": "2024-06-24T21:44:04.671Z"
   },
   {
    "duration": 10,
    "start_time": "2024-06-24T21:44:04.693Z"
   },
   {
    "duration": 37,
    "start_time": "2024-06-24T21:44:04.704Z"
   },
   {
    "duration": 12,
    "start_time": "2024-06-24T21:44:04.743Z"
   },
   {
    "duration": 69,
    "start_time": "2024-06-24T21:44:04.756Z"
   },
   {
    "duration": 6,
    "start_time": "2024-06-24T21:44:04.827Z"
   },
   {
    "duration": 17,
    "start_time": "2024-06-24T21:44:04.835Z"
   },
   {
    "duration": 232,
    "start_time": "2024-06-24T21:44:04.853Z"
   },
   {
    "duration": 263,
    "start_time": "2024-06-24T21:44:05.087Z"
   },
   {
    "duration": 216,
    "start_time": "2024-06-24T21:44:05.351Z"
   },
   {
    "duration": 216,
    "start_time": "2024-06-24T21:44:05.568Z"
   },
   {
    "duration": 18,
    "start_time": "2024-06-24T21:44:05.786Z"
   },
   {
    "duration": 29,
    "start_time": "2024-06-24T21:44:05.806Z"
   },
   {
    "duration": 15,
    "start_time": "2024-06-24T21:44:05.837Z"
   },
   {
    "duration": 5,
    "start_time": "2024-06-24T21:44:05.853Z"
   },
   {
    "duration": 28,
    "start_time": "2024-06-24T21:44:05.860Z"
   },
   {
    "duration": 21,
    "start_time": "2024-06-24T21:44:05.889Z"
   },
   {
    "duration": 32,
    "start_time": "2024-06-24T21:44:05.912Z"
   },
   {
    "duration": 15,
    "start_time": "2024-06-24T21:44:05.945Z"
   },
   {
    "duration": 15,
    "start_time": "2024-06-24T21:44:05.961Z"
   },
   {
    "duration": 48,
    "start_time": "2024-06-25T05:15:33.711Z"
   },
   {
    "duration": 6,
    "start_time": "2024-06-25T05:15:41.052Z"
   },
   {
    "duration": 6,
    "start_time": "2024-06-25T05:15:47.395Z"
   },
   {
    "duration": 5,
    "start_time": "2024-06-25T05:16:03.559Z"
   },
   {
    "duration": 2893,
    "start_time": "2024-06-25T05:16:10.729Z"
   },
   {
    "duration": 1115,
    "start_time": "2024-06-25T05:16:13.626Z"
   },
   {
    "duration": 321,
    "start_time": "2024-06-25T05:16:14.743Z"
   },
   {
    "duration": 7,
    "start_time": "2024-06-25T05:16:15.065Z"
   },
   {
    "duration": 88,
    "start_time": "2024-06-25T05:16:15.073Z"
   },
   {
    "duration": 73,
    "start_time": "2024-06-25T05:16:15.163Z"
   },
   {
    "duration": 17,
    "start_time": "2024-06-25T05:16:15.237Z"
   },
   {
    "duration": 12,
    "start_time": "2024-06-25T05:16:15.255Z"
   },
   {
    "duration": 10,
    "start_time": "2024-06-25T05:16:15.268Z"
   },
   {
    "duration": 31,
    "start_time": "2024-06-25T05:16:15.280Z"
   },
   {
    "duration": 26,
    "start_time": "2024-06-25T05:16:15.313Z"
   },
   {
    "duration": 44,
    "start_time": "2024-06-25T05:16:15.340Z"
   },
   {
    "duration": 163,
    "start_time": "2024-06-25T05:16:15.385Z"
   },
   {
    "duration": 156,
    "start_time": "2024-06-25T05:16:15.549Z"
   },
   {
    "duration": 5,
    "start_time": "2024-06-25T05:16:15.707Z"
   },
   {
    "duration": 81,
    "start_time": "2024-06-25T05:16:15.720Z"
   },
   {
    "duration": 2,
    "start_time": "2024-06-25T05:16:15.803Z"
   },
   {
    "duration": 3,
    "start_time": "2024-06-25T05:16:15.819Z"
   },
   {
    "duration": 150,
    "start_time": "2024-06-25T05:16:15.824Z"
   },
   {
    "duration": 2,
    "start_time": "2024-06-25T05:16:15.975Z"
   },
   {
    "duration": 33,
    "start_time": "2024-06-25T05:16:15.978Z"
   },
   {
    "duration": 14,
    "start_time": "2024-06-25T05:16:16.012Z"
   },
   {
    "duration": 8,
    "start_time": "2024-06-25T05:16:16.028Z"
   },
   {
    "duration": 16,
    "start_time": "2024-06-25T05:16:16.037Z"
   },
   {
    "duration": 9,
    "start_time": "2024-06-25T05:16:16.054Z"
   },
   {
    "duration": 8,
    "start_time": "2024-06-25T05:16:16.064Z"
   },
   {
    "duration": 14,
    "start_time": "2024-06-25T05:16:16.073Z"
   },
   {
    "duration": 125,
    "start_time": "2024-06-25T05:16:16.090Z"
   },
   {
    "duration": 18,
    "start_time": "2024-06-25T05:16:16.217Z"
   },
   {
    "duration": 13,
    "start_time": "2024-06-25T05:16:16.237Z"
   },
   {
    "duration": 45,
    "start_time": "2024-06-25T05:16:16.251Z"
   },
   {
    "duration": 137,
    "start_time": "2024-06-25T05:16:16.298Z"
   },
   {
    "duration": 36,
    "start_time": "2024-06-25T05:16:16.437Z"
   },
   {
    "duration": 17,
    "start_time": "2024-06-25T05:16:16.474Z"
   },
   {
    "duration": 45,
    "start_time": "2024-06-25T05:16:16.492Z"
   },
   {
    "duration": 13,
    "start_time": "2024-06-25T05:16:16.538Z"
   },
   {
    "duration": 50,
    "start_time": "2024-06-25T05:16:16.552Z"
   },
   {
    "duration": 19,
    "start_time": "2024-06-25T05:16:16.604Z"
   },
   {
    "duration": 8,
    "start_time": "2024-06-25T05:16:16.625Z"
   },
   {
    "duration": 223,
    "start_time": "2024-06-25T05:16:16.635Z"
   },
   {
    "duration": 243,
    "start_time": "2024-06-25T05:16:16.859Z"
   },
   {
    "duration": 209,
    "start_time": "2024-06-25T05:16:17.104Z"
   },
   {
    "duration": 204,
    "start_time": "2024-06-25T05:16:17.319Z"
   },
   {
    "duration": 23,
    "start_time": "2024-06-25T05:16:17.524Z"
   },
   {
    "duration": 18,
    "start_time": "2024-06-25T05:16:17.548Z"
   },
   {
    "duration": 15,
    "start_time": "2024-06-25T05:16:17.567Z"
   },
   {
    "duration": 3,
    "start_time": "2024-06-25T05:16:17.584Z"
   },
   {
    "duration": 38,
    "start_time": "2024-06-25T05:16:17.589Z"
   },
   {
    "duration": 13,
    "start_time": "2024-06-25T05:16:17.629Z"
   },
   {
    "duration": 26,
    "start_time": "2024-06-25T05:16:17.644Z"
   },
   {
    "duration": 11,
    "start_time": "2024-06-25T05:16:17.671Z"
   },
   {
    "duration": 23,
    "start_time": "2024-06-25T05:16:17.684Z"
   },
   {
    "duration": 145,
    "start_time": "2024-06-25T05:16:34.407Z"
   },
   {
    "duration": 140,
    "start_time": "2024-06-25T05:16:40.046Z"
   },
   {
    "duration": 138,
    "start_time": "2024-06-25T05:16:49.168Z"
   },
   {
    "duration": 136,
    "start_time": "2024-06-25T05:17:32.127Z"
   },
   {
    "duration": 140,
    "start_time": "2024-06-25T05:17:38.014Z"
   },
   {
    "duration": 201,
    "start_time": "2024-06-25T05:17:42.615Z"
   },
   {
    "duration": 156,
    "start_time": "2024-06-25T05:17:48.369Z"
   },
   {
    "duration": 7,
    "start_time": "2024-06-25T05:18:56.511Z"
   },
   {
    "duration": 10,
    "start_time": "2024-06-25T05:21:01.998Z"
   },
   {
    "duration": 16,
    "start_time": "2024-06-25T05:21:07.617Z"
   },
   {
    "duration": 12,
    "start_time": "2024-06-25T05:21:12.425Z"
   },
   {
    "duration": 9,
    "start_time": "2024-06-25T05:21:17.766Z"
   },
   {
    "duration": 2592,
    "start_time": "2024-06-25T05:21:24.966Z"
   },
   {
    "duration": 992,
    "start_time": "2024-06-25T05:21:27.560Z"
   },
   {
    "duration": 97,
    "start_time": "2024-06-25T05:21:28.553Z"
   },
   {
    "duration": 7,
    "start_time": "2024-06-25T05:21:28.651Z"
   },
   {
    "duration": 24,
    "start_time": "2024-06-25T05:21:28.659Z"
   },
   {
    "duration": 13,
    "start_time": "2024-06-25T05:21:28.684Z"
   },
   {
    "duration": 25,
    "start_time": "2024-06-25T05:21:28.698Z"
   },
   {
    "duration": 15,
    "start_time": "2024-06-25T05:21:28.725Z"
   },
   {
    "duration": 12,
    "start_time": "2024-06-25T05:21:28.741Z"
   },
   {
    "duration": 15,
    "start_time": "2024-06-25T05:21:28.755Z"
   },
   {
    "duration": 6,
    "start_time": "2024-06-25T05:21:28.771Z"
   },
   {
    "duration": 27,
    "start_time": "2024-06-25T05:21:28.778Z"
   },
   {
    "duration": 160,
    "start_time": "2024-06-25T05:21:28.806Z"
   },
   {
    "duration": 158,
    "start_time": "2024-06-25T05:21:28.968Z"
   },
   {
    "duration": 6,
    "start_time": "2024-06-25T05:21:29.127Z"
   },
   {
    "duration": 63,
    "start_time": "2024-06-25T05:21:29.134Z"
   },
   {
    "duration": 2,
    "start_time": "2024-06-25T05:21:29.199Z"
   },
   {
    "duration": 22,
    "start_time": "2024-06-25T05:21:29.202Z"
   },
   {
    "duration": 145,
    "start_time": "2024-06-25T05:21:29.225Z"
   },
   {
    "duration": 2,
    "start_time": "2024-06-25T05:21:29.371Z"
   },
   {
    "duration": 13,
    "start_time": "2024-06-25T05:21:29.374Z"
   },
   {
    "duration": 18,
    "start_time": "2024-06-25T05:21:29.389Z"
   },
   {
    "duration": 13,
    "start_time": "2024-06-25T05:21:29.408Z"
   },
   {
    "duration": 17,
    "start_time": "2024-06-25T05:21:29.422Z"
   },
   {
    "duration": 15,
    "start_time": "2024-06-25T05:21:29.441Z"
   },
   {
    "duration": 9,
    "start_time": "2024-06-25T05:21:29.457Z"
   },
   {
    "duration": 13,
    "start_time": "2024-06-25T05:21:29.468Z"
   },
   {
    "duration": 130,
    "start_time": "2024-06-25T05:21:29.484Z"
   },
   {
    "duration": 10,
    "start_time": "2024-06-25T05:21:29.616Z"
   },
   {
    "duration": 30,
    "start_time": "2024-06-25T05:21:29.628Z"
   },
   {
    "duration": 22,
    "start_time": "2024-06-25T05:21:29.659Z"
   },
   {
    "duration": 117,
    "start_time": "2024-06-25T05:21:29.682Z"
   },
   {
    "duration": 30,
    "start_time": "2024-06-25T05:21:29.801Z"
   },
   {
    "duration": 11,
    "start_time": "2024-06-25T05:21:29.832Z"
   },
   {
    "duration": 16,
    "start_time": "2024-06-25T05:21:29.844Z"
   },
   {
    "duration": 12,
    "start_time": "2024-06-25T05:21:29.861Z"
   },
   {
    "duration": 59,
    "start_time": "2024-06-25T05:21:29.874Z"
   },
   {
    "duration": 5,
    "start_time": "2024-06-25T05:21:29.935Z"
   },
   {
    "duration": 26,
    "start_time": "2024-06-25T05:21:29.941Z"
   },
   {
    "duration": 228,
    "start_time": "2024-06-25T05:21:29.968Z"
   },
   {
    "duration": 275,
    "start_time": "2024-06-25T05:21:30.198Z"
   },
   {
    "duration": 215,
    "start_time": "2024-06-25T05:21:30.475Z"
   },
   {
    "duration": 212,
    "start_time": "2024-06-25T05:21:30.692Z"
   },
   {
    "duration": 89,
    "start_time": "2024-06-25T05:21:30.905Z"
   },
   {
    "duration": 68,
    "start_time": "2024-06-25T05:21:30.996Z"
   },
   {
    "duration": 42,
    "start_time": "2024-06-25T05:21:31.065Z"
   },
   {
    "duration": 36,
    "start_time": "2024-06-25T05:21:31.109Z"
   },
   {
    "duration": 108,
    "start_time": "2024-06-25T05:21:31.147Z"
   },
   {
    "duration": 514,
    "start_time": "2024-06-25T05:21:31.257Z"
   },
   {
    "duration": 61,
    "start_time": "2024-06-25T05:21:31.773Z"
   },
   {
    "duration": 18,
    "start_time": "2024-06-25T05:21:31.835Z"
   },
   {
    "duration": 18,
    "start_time": "2024-06-25T05:21:31.854Z"
   },
   {
    "duration": 10,
    "start_time": "2024-06-25T05:21:52.528Z"
   },
   {
    "duration": 2,
    "start_time": "2024-06-25T05:23:09.839Z"
   },
   {
    "duration": 111,
    "start_time": "2024-06-25T05:23:26.544Z"
   },
   {
    "duration": 119,
    "start_time": "2024-06-25T05:23:31.922Z"
   },
   {
    "duration": 110,
    "start_time": "2024-06-25T05:23:44.488Z"
   },
   {
    "duration": 137,
    "start_time": "2024-06-25T05:23:48.182Z"
   },
   {
    "duration": 139,
    "start_time": "2024-06-25T05:23:52.825Z"
   },
   {
    "duration": 175,
    "start_time": "2024-06-25T05:24:28.242Z"
   },
   {
    "duration": 208,
    "start_time": "2024-06-25T05:24:33.081Z"
   },
   {
    "duration": 2,
    "start_time": "2024-06-25T05:25:55.675Z"
   },
   {
    "duration": 123,
    "start_time": "2024-06-25T05:27:26.430Z"
   },
   {
    "duration": 130,
    "start_time": "2024-06-25T05:27:33.352Z"
   },
   {
    "duration": 69,
    "start_time": "2024-06-25T05:32:38.169Z"
   },
   {
    "duration": 98,
    "start_time": "2024-06-25T05:42:58.523Z"
   },
   {
    "duration": 1044,
    "start_time": "2024-06-25T05:43:09.115Z"
   },
   {
    "duration": 12,
    "start_time": "2024-06-25T05:43:22.493Z"
   },
   {
    "duration": 1953,
    "start_time": "2024-06-25T05:43:40.204Z"
   },
   {
    "duration": 1986,
    "start_time": "2024-06-25T05:43:50.819Z"
   },
   {
    "duration": 936,
    "start_time": "2024-06-25T05:44:13.492Z"
   },
   {
    "duration": 2828,
    "start_time": "2024-06-25T05:44:18.043Z"
   },
   {
    "duration": 0,
    "start_time": "2024-06-25T05:44:45.896Z"
   },
   {
    "duration": 2603,
    "start_time": "2024-06-25T05:45:01.736Z"
   },
   {
    "duration": 994,
    "start_time": "2024-06-25T05:45:04.341Z"
   },
   {
    "duration": 88,
    "start_time": "2024-06-25T05:45:05.337Z"
   },
   {
    "duration": 8,
    "start_time": "2024-06-25T05:45:05.427Z"
   },
   {
    "duration": 28,
    "start_time": "2024-06-25T05:45:05.437Z"
   },
   {
    "duration": 20,
    "start_time": "2024-06-25T05:45:05.467Z"
   },
   {
    "duration": 15,
    "start_time": "2024-06-25T05:45:05.489Z"
   },
   {
    "duration": 35,
    "start_time": "2024-06-25T05:45:05.506Z"
   },
   {
    "duration": 45,
    "start_time": "2024-06-25T05:45:05.543Z"
   },
   {
    "duration": 13,
    "start_time": "2024-06-25T05:45:05.590Z"
   },
   {
    "duration": 21,
    "start_time": "2024-06-25T05:45:05.605Z"
   },
   {
    "duration": 8,
    "start_time": "2024-06-25T05:45:05.630Z"
   },
   {
    "duration": 155,
    "start_time": "2024-06-25T05:45:05.640Z"
   },
   {
    "duration": 164,
    "start_time": "2024-06-25T05:45:05.797Z"
   },
   {
    "duration": 5,
    "start_time": "2024-06-25T05:45:05.963Z"
   },
   {
    "duration": 90,
    "start_time": "2024-06-25T05:45:05.969Z"
   },
   {
    "duration": 2,
    "start_time": "2024-06-25T05:45:06.060Z"
   },
   {
    "duration": 27,
    "start_time": "2024-06-25T05:45:06.063Z"
   },
   {
    "duration": 150,
    "start_time": "2024-06-25T05:45:06.091Z"
   },
   {
    "duration": 2,
    "start_time": "2024-06-25T05:45:06.243Z"
   },
   {
    "duration": 16,
    "start_time": "2024-06-25T05:45:06.246Z"
   },
   {
    "duration": 10,
    "start_time": "2024-06-25T05:45:06.264Z"
   },
   {
    "duration": 35,
    "start_time": "2024-06-25T05:45:06.275Z"
   },
   {
    "duration": 25,
    "start_time": "2024-06-25T05:45:06.311Z"
   },
   {
    "duration": 8,
    "start_time": "2024-06-25T05:45:06.338Z"
   },
   {
    "duration": 8,
    "start_time": "2024-06-25T05:45:06.348Z"
   },
   {
    "duration": 20,
    "start_time": "2024-06-25T05:45:06.358Z"
   },
   {
    "duration": 166,
    "start_time": "2024-06-25T05:45:06.381Z"
   },
   {
    "duration": 8,
    "start_time": "2024-06-25T05:45:06.548Z"
   },
   {
    "duration": 9,
    "start_time": "2024-06-25T05:45:06.557Z"
   },
   {
    "duration": 7,
    "start_time": "2024-06-25T05:45:06.567Z"
   },
   {
    "duration": 6,
    "start_time": "2024-06-25T05:45:06.575Z"
   },
   {
    "duration": 145,
    "start_time": "2024-06-25T05:45:06.582Z"
   },
   {
    "duration": 21,
    "start_time": "2024-06-25T05:45:06.733Z"
   },
   {
    "duration": 9,
    "start_time": "2024-06-25T05:45:06.755Z"
   },
   {
    "duration": 16,
    "start_time": "2024-06-25T05:45:06.765Z"
   },
   {
    "duration": 16,
    "start_time": "2024-06-25T05:45:06.782Z"
   },
   {
    "duration": 54,
    "start_time": "2024-06-25T05:45:06.800Z"
   },
   {
    "duration": 5,
    "start_time": "2024-06-25T05:45:06.855Z"
   },
   {
    "duration": 9,
    "start_time": "2024-06-25T05:45:06.861Z"
   },
   {
    "duration": 220,
    "start_time": "2024-06-25T05:45:06.871Z"
   },
   {
    "duration": 258,
    "start_time": "2024-06-25T05:45:07.092Z"
   },
   {
    "duration": 222,
    "start_time": "2024-06-25T05:45:07.351Z"
   },
   {
    "duration": 206,
    "start_time": "2024-06-25T05:45:07.574Z"
   },
   {
    "duration": 19,
    "start_time": "2024-06-25T05:45:07.781Z"
   },
   {
    "duration": 33,
    "start_time": "2024-06-25T05:45:07.801Z"
   },
   {
    "duration": 1156,
    "start_time": "2024-06-25T05:45:07.836Z"
   },
   {
    "duration": 0,
    "start_time": "2024-06-25T05:45:08.993Z"
   },
   {
    "duration": 0,
    "start_time": "2024-06-25T05:45:08.995Z"
   },
   {
    "duration": 0,
    "start_time": "2024-06-25T05:45:08.996Z"
   },
   {
    "duration": 0,
    "start_time": "2024-06-25T05:45:08.997Z"
   },
   {
    "duration": 0,
    "start_time": "2024-06-25T05:45:08.998Z"
   },
   {
    "duration": 0,
    "start_time": "2024-06-25T05:45:08.999Z"
   },
   {
    "duration": 2833,
    "start_time": "2024-06-25T05:45:38.566Z"
   },
   {
    "duration": 14,
    "start_time": "2024-06-25T05:46:53.392Z"
   },
   {
    "duration": 5,
    "start_time": "2024-06-25T05:47:12.479Z"
   },
   {
    "duration": 8,
    "start_time": "2024-06-25T05:47:20.773Z"
   },
   {
    "duration": 11,
    "start_time": "2024-06-25T05:47:29.132Z"
   },
   {
    "duration": 10,
    "start_time": "2024-06-25T05:47:47.484Z"
   },
   {
    "duration": 16,
    "start_time": "2024-06-25T05:47:56.373Z"
   },
   {
    "duration": 2661,
    "start_time": "2024-06-25T05:48:02.848Z"
   },
   {
    "duration": 1022,
    "start_time": "2024-06-25T05:48:05.511Z"
   },
   {
    "duration": 108,
    "start_time": "2024-06-25T05:48:06.534Z"
   },
   {
    "duration": 7,
    "start_time": "2024-06-25T05:48:06.644Z"
   },
   {
    "duration": 35,
    "start_time": "2024-06-25T05:48:06.653Z"
   },
   {
    "duration": 13,
    "start_time": "2024-06-25T05:48:06.689Z"
   },
   {
    "duration": 27,
    "start_time": "2024-06-25T05:48:06.703Z"
   },
   {
    "duration": 32,
    "start_time": "2024-06-25T05:48:06.732Z"
   },
   {
    "duration": 45,
    "start_time": "2024-06-25T05:48:06.765Z"
   },
   {
    "duration": 22,
    "start_time": "2024-06-25T05:48:06.813Z"
   },
   {
    "duration": 7,
    "start_time": "2024-06-25T05:48:06.836Z"
   },
   {
    "duration": 6,
    "start_time": "2024-06-25T05:48:06.844Z"
   },
   {
    "duration": 168,
    "start_time": "2024-06-25T05:48:06.851Z"
   },
   {
    "duration": 162,
    "start_time": "2024-06-25T05:48:07.021Z"
   },
   {
    "duration": 5,
    "start_time": "2024-06-25T05:48:07.184Z"
   },
   {
    "duration": 80,
    "start_time": "2024-06-25T05:48:07.191Z"
   },
   {
    "duration": 2,
    "start_time": "2024-06-25T05:48:07.273Z"
   },
   {
    "duration": 12,
    "start_time": "2024-06-25T05:48:07.277Z"
   },
   {
    "duration": 154,
    "start_time": "2024-06-25T05:48:07.290Z"
   },
   {
    "duration": 2,
    "start_time": "2024-06-25T05:48:07.446Z"
   },
   {
    "duration": 3,
    "start_time": "2024-06-25T05:48:07.449Z"
   },
   {
    "duration": 5,
    "start_time": "2024-06-25T05:48:07.453Z"
   },
   {
    "duration": 8,
    "start_time": "2024-06-25T05:48:07.459Z"
   },
   {
    "duration": 10,
    "start_time": "2024-06-25T05:48:07.468Z"
   },
   {
    "duration": 10,
    "start_time": "2024-06-25T05:48:07.479Z"
   },
   {
    "duration": 7,
    "start_time": "2024-06-25T05:48:07.490Z"
   },
   {
    "duration": 8,
    "start_time": "2024-06-25T05:48:07.498Z"
   },
   {
    "duration": 162,
    "start_time": "2024-06-25T05:48:07.509Z"
   },
   {
    "duration": 9,
    "start_time": "2024-06-25T05:48:07.672Z"
   },
   {
    "duration": 16,
    "start_time": "2024-06-25T05:48:07.682Z"
   },
   {
    "duration": 10,
    "start_time": "2024-06-25T05:48:07.699Z"
   },
   {
    "duration": 4,
    "start_time": "2024-06-25T05:48:07.710Z"
   },
   {
    "duration": 131,
    "start_time": "2024-06-25T05:48:07.715Z"
   },
   {
    "duration": 18,
    "start_time": "2024-06-25T05:48:07.847Z"
   },
   {
    "duration": 8,
    "start_time": "2024-06-25T05:48:07.867Z"
   },
   {
    "duration": 15,
    "start_time": "2024-06-25T05:48:07.876Z"
   },
   {
    "duration": 29,
    "start_time": "2024-06-25T05:48:07.892Z"
   },
   {
    "duration": 41,
    "start_time": "2024-06-25T05:48:07.922Z"
   },
   {
    "duration": 4,
    "start_time": "2024-06-25T05:48:07.965Z"
   },
   {
    "duration": 9,
    "start_time": "2024-06-25T05:48:07.970Z"
   },
   {
    "duration": 227,
    "start_time": "2024-06-25T05:48:07.980Z"
   },
   {
    "duration": 292,
    "start_time": "2024-06-25T05:48:08.209Z"
   },
   {
    "duration": 210,
    "start_time": "2024-06-25T05:48:08.502Z"
   },
   {
    "duration": 220,
    "start_time": "2024-06-25T05:48:08.713Z"
   },
   {
    "duration": 19,
    "start_time": "2024-06-25T05:48:08.934Z"
   },
   {
    "duration": 18,
    "start_time": "2024-06-25T05:48:08.954Z"
   },
   {
    "duration": 15,
    "start_time": "2024-06-25T05:48:08.973Z"
   },
   {
    "duration": 30,
    "start_time": "2024-06-25T05:48:08.990Z"
   },
   {
    "duration": 12,
    "start_time": "2024-06-25T05:48:09.022Z"
   },
   {
    "duration": 5,
    "start_time": "2024-06-25T05:48:09.035Z"
   },
   {
    "duration": 3,
    "start_time": "2024-06-25T05:48:09.041Z"
   },
   {
    "duration": 7,
    "start_time": "2024-06-25T05:48:09.045Z"
   },
   {
    "duration": 15,
    "start_time": "2024-06-25T05:48:09.053Z"
   },
   {
    "duration": 97,
    "start_time": "2024-06-25T05:50:01.862Z"
   },
   {
    "duration": 3856,
    "start_time": "2024-06-25T05:50:31.963Z"
   },
   {
    "duration": 5,
    "start_time": "2024-06-25T05:50:59.968Z"
   },
   {
    "duration": 17,
    "start_time": "2024-06-25T05:51:22.293Z"
   },
   {
    "duration": 3920,
    "start_time": "2024-06-25T05:51:44.816Z"
   },
   {
    "duration": 3686,
    "start_time": "2024-06-25T05:56:48.491Z"
   },
   {
    "duration": 17,
    "start_time": "2024-06-25T05:57:55.469Z"
   },
   {
    "duration": 6,
    "start_time": "2024-06-25T06:14:10.201Z"
   },
   {
    "duration": 3,
    "start_time": "2024-06-25T06:31:06.704Z"
   },
   {
    "duration": 7,
    "start_time": "2024-06-25T06:35:06.828Z"
   },
   {
    "duration": 6,
    "start_time": "2024-06-25T06:59:13.910Z"
   },
   {
    "duration": 6,
    "start_time": "2024-06-25T07:06:15.067Z"
   },
   {
    "duration": 6,
    "start_time": "2024-06-25T07:08:31.870Z"
   },
   {
    "duration": 6,
    "start_time": "2024-06-25T07:22:10.320Z"
   },
   {
    "duration": 6,
    "start_time": "2024-06-25T07:22:26.628Z"
   },
   {
    "duration": 4,
    "start_time": "2024-06-25T07:22:33.274Z"
   },
   {
    "duration": 6,
    "start_time": "2024-06-25T07:23:12.831Z"
   },
   {
    "duration": 5,
    "start_time": "2024-06-25T07:23:17.291Z"
   },
   {
    "duration": 4,
    "start_time": "2024-06-25T07:23:21.664Z"
   },
   {
    "duration": 6,
    "start_time": "2024-06-25T07:23:30.133Z"
   },
   {
    "duration": 2619,
    "start_time": "2024-06-25T07:30:26.439Z"
   },
   {
    "duration": 1000,
    "start_time": "2024-06-25T07:30:29.060Z"
   },
   {
    "duration": 95,
    "start_time": "2024-06-25T07:30:30.062Z"
   },
   {
    "duration": 8,
    "start_time": "2024-06-25T07:30:30.159Z"
   },
   {
    "duration": 70,
    "start_time": "2024-06-25T07:30:30.169Z"
   },
   {
    "duration": 55,
    "start_time": "2024-06-25T07:30:30.240Z"
   },
   {
    "duration": 91,
    "start_time": "2024-06-25T07:30:30.296Z"
   },
   {
    "duration": 175,
    "start_time": "2024-06-25T07:30:30.388Z"
   },
   {
    "duration": 114,
    "start_time": "2024-06-25T07:30:30.564Z"
   },
   {
    "duration": 74,
    "start_time": "2024-06-25T07:30:30.680Z"
   },
   {
    "duration": 81,
    "start_time": "2024-06-25T07:30:30.755Z"
   },
   {
    "duration": 81,
    "start_time": "2024-06-25T07:30:30.838Z"
   },
   {
    "duration": 186,
    "start_time": "2024-06-25T07:30:30.921Z"
   },
   {
    "duration": 171,
    "start_time": "2024-06-25T07:30:31.108Z"
   },
   {
    "duration": 5,
    "start_time": "2024-06-25T07:30:31.280Z"
   },
   {
    "duration": 338,
    "start_time": "2024-06-25T07:30:31.286Z"
   },
   {
    "duration": 58,
    "start_time": "2024-06-25T07:30:31.626Z"
   },
   {
    "duration": 61,
    "start_time": "2024-06-25T07:30:31.685Z"
   },
   {
    "duration": 208,
    "start_time": "2024-06-25T07:30:31.748Z"
   },
   {
    "duration": 2,
    "start_time": "2024-06-25T07:30:31.958Z"
   },
   {
    "duration": 21,
    "start_time": "2024-06-25T07:30:31.961Z"
   },
   {
    "duration": 11,
    "start_time": "2024-06-25T07:30:31.983Z"
   },
   {
    "duration": 15,
    "start_time": "2024-06-25T07:30:31.995Z"
   },
   {
    "duration": 21,
    "start_time": "2024-06-25T07:30:32.011Z"
   },
   {
    "duration": 109,
    "start_time": "2024-06-25T07:30:32.033Z"
   },
   {
    "duration": 23,
    "start_time": "2024-06-25T07:30:32.143Z"
   },
   {
    "duration": 31,
    "start_time": "2024-06-25T07:30:32.167Z"
   },
   {
    "duration": 189,
    "start_time": "2024-06-25T07:30:32.201Z"
   },
   {
    "duration": 8,
    "start_time": "2024-06-25T07:30:32.391Z"
   },
   {
    "duration": 26,
    "start_time": "2024-06-25T07:30:32.400Z"
   },
   {
    "duration": 2,
    "start_time": "2024-06-25T07:30:32.428Z"
   },
   {
    "duration": 11,
    "start_time": "2024-06-25T07:30:32.431Z"
   },
   {
    "duration": 141,
    "start_time": "2024-06-25T07:30:32.444Z"
   },
   {
    "duration": 21,
    "start_time": "2024-06-25T07:30:32.586Z"
   },
   {
    "duration": 22,
    "start_time": "2024-06-25T07:30:32.608Z"
   },
   {
    "duration": 23,
    "start_time": "2024-06-25T07:30:32.641Z"
   },
   {
    "duration": 8,
    "start_time": "2024-06-25T07:30:32.666Z"
   },
   {
    "duration": 46,
    "start_time": "2024-06-25T07:30:32.676Z"
   },
   {
    "duration": 4,
    "start_time": "2024-06-25T07:30:32.724Z"
   },
   {
    "duration": 16,
    "start_time": "2024-06-25T07:30:32.729Z"
   },
   {
    "duration": 229,
    "start_time": "2024-06-25T07:30:32.746Z"
   },
   {
    "duration": 252,
    "start_time": "2024-06-25T07:30:32.977Z"
   },
   {
    "duration": 217,
    "start_time": "2024-06-25T07:30:33.230Z"
   },
   {
    "duration": 206,
    "start_time": "2024-06-25T07:30:33.448Z"
   },
   {
    "duration": 18,
    "start_time": "2024-06-25T07:30:33.656Z"
   },
   {
    "duration": 18,
    "start_time": "2024-06-25T07:30:33.676Z"
   },
   {
    "duration": 35,
    "start_time": "2024-06-25T07:30:33.695Z"
   },
   {
    "duration": 5,
    "start_time": "2024-06-25T07:30:33.732Z"
   },
   {
    "duration": 26,
    "start_time": "2024-06-25T07:30:33.738Z"
   },
   {
    "duration": 13,
    "start_time": "2024-06-25T07:30:33.765Z"
   },
   {
    "duration": 3,
    "start_time": "2024-06-25T07:30:33.779Z"
   },
   {
    "duration": 9,
    "start_time": "2024-06-25T07:30:33.783Z"
   },
   {
    "duration": 13,
    "start_time": "2024-06-25T07:30:33.794Z"
   },
   {
    "duration": 2661,
    "start_time": "2024-06-25T16:45:43.612Z"
   },
   {
    "duration": 1250,
    "start_time": "2024-06-25T16:45:46.275Z"
   },
   {
    "duration": 245,
    "start_time": "2024-06-25T16:45:47.527Z"
   },
   {
    "duration": 8,
    "start_time": "2024-06-25T16:45:47.774Z"
   },
   {
    "duration": 29,
    "start_time": "2024-06-25T16:45:47.784Z"
   },
   {
    "duration": 19,
    "start_time": "2024-06-25T16:45:47.815Z"
   },
   {
    "duration": 37,
    "start_time": "2024-06-25T16:45:47.836Z"
   },
   {
    "duration": 32,
    "start_time": "2024-06-25T16:45:47.874Z"
   },
   {
    "duration": 18,
    "start_time": "2024-06-25T16:45:47.908Z"
   },
   {
    "duration": 16,
    "start_time": "2024-06-25T16:45:47.929Z"
   },
   {
    "duration": 24,
    "start_time": "2024-06-25T16:45:47.946Z"
   },
   {
    "duration": 17,
    "start_time": "2024-06-25T16:45:47.971Z"
   },
   {
    "duration": 155,
    "start_time": "2024-06-25T16:45:47.989Z"
   },
   {
    "duration": 172,
    "start_time": "2024-06-25T16:45:48.146Z"
   },
   {
    "duration": 6,
    "start_time": "2024-06-25T16:45:48.319Z"
   },
   {
    "duration": 82,
    "start_time": "2024-06-25T16:45:48.326Z"
   },
   {
    "duration": 3,
    "start_time": "2024-06-25T16:45:48.409Z"
   },
   {
    "duration": 9,
    "start_time": "2024-06-25T16:45:48.413Z"
   },
   {
    "duration": 174,
    "start_time": "2024-06-25T16:45:48.424Z"
   },
   {
    "duration": 2,
    "start_time": "2024-06-25T16:45:48.600Z"
   },
   {
    "duration": 8,
    "start_time": "2024-06-25T16:45:48.604Z"
   },
   {
    "duration": 18,
    "start_time": "2024-06-25T16:45:48.613Z"
   },
   {
    "duration": 5,
    "start_time": "2024-06-25T16:45:48.633Z"
   },
   {
    "duration": 10,
    "start_time": "2024-06-25T16:45:48.640Z"
   },
   {
    "duration": 17,
    "start_time": "2024-06-25T16:45:48.651Z"
   },
   {
    "duration": 8,
    "start_time": "2024-06-25T16:45:48.669Z"
   },
   {
    "duration": 6,
    "start_time": "2024-06-25T16:45:48.678Z"
   },
   {
    "duration": 171,
    "start_time": "2024-06-25T16:45:48.687Z"
   },
   {
    "duration": 10,
    "start_time": "2024-06-25T16:45:48.864Z"
   },
   {
    "duration": 9,
    "start_time": "2024-06-25T16:45:48.876Z"
   },
   {
    "duration": 5,
    "start_time": "2024-06-25T16:45:48.887Z"
   },
   {
    "duration": 5,
    "start_time": "2024-06-25T16:45:48.893Z"
   },
   {
    "duration": 230,
    "start_time": "2024-06-25T16:45:48.899Z"
   },
   {
    "duration": 22,
    "start_time": "2024-06-25T16:45:49.130Z"
   },
   {
    "duration": 37,
    "start_time": "2024-06-25T16:45:49.153Z"
   },
   {
    "duration": 39,
    "start_time": "2024-06-25T16:45:49.191Z"
   },
   {
    "duration": 16,
    "start_time": "2024-06-25T16:45:49.231Z"
   },
   {
    "duration": 82,
    "start_time": "2024-06-25T16:45:49.248Z"
   },
   {
    "duration": 5,
    "start_time": "2024-06-25T16:45:49.332Z"
   },
   {
    "duration": 135,
    "start_time": "2024-06-25T16:45:49.339Z"
   },
   {
    "duration": 245,
    "start_time": "2024-06-25T16:45:49.476Z"
   },
   {
    "duration": 324,
    "start_time": "2024-06-25T16:45:49.722Z"
   },
   {
    "duration": 243,
    "start_time": "2024-06-25T16:45:50.048Z"
   },
   {
    "duration": 236,
    "start_time": "2024-06-25T16:45:50.293Z"
   },
   {
    "duration": 21,
    "start_time": "2024-06-25T16:45:50.531Z"
   },
   {
    "duration": 31,
    "start_time": "2024-06-25T16:45:50.553Z"
   },
   {
    "duration": 18,
    "start_time": "2024-06-25T16:45:50.586Z"
   },
   {
    "duration": 6,
    "start_time": "2024-06-25T16:45:50.606Z"
   },
   {
    "duration": 7,
    "start_time": "2024-06-25T16:45:50.614Z"
   },
   {
    "duration": 20,
    "start_time": "2024-06-25T16:45:50.622Z"
   },
   {
    "duration": 10,
    "start_time": "2024-06-25T16:45:50.665Z"
   },
   {
    "duration": 29,
    "start_time": "2024-06-25T16:45:50.677Z"
   },
   {
    "duration": 10,
    "start_time": "2024-06-25T16:45:50.708Z"
   },
   {
    "duration": 174,
    "start_time": "2024-06-25T16:47:06.658Z"
   },
   {
    "duration": 224,
    "start_time": "2024-06-25T16:47:13.532Z"
   },
   {
    "duration": 747,
    "start_time": "2024-06-25T16:47:18.079Z"
   },
   {
    "duration": 176,
    "start_time": "2024-06-25T16:47:23.394Z"
   },
   {
    "duration": 2754,
    "start_time": "2024-06-26T09:13:58.127Z"
   },
   {
    "duration": 1256,
    "start_time": "2024-06-26T09:14:00.884Z"
   },
   {
    "duration": 252,
    "start_time": "2024-06-26T09:14:02.142Z"
   },
   {
    "duration": 9,
    "start_time": "2024-06-26T09:14:02.397Z"
   },
   {
    "duration": 32,
    "start_time": "2024-06-26T09:14:02.407Z"
   },
   {
    "duration": 39,
    "start_time": "2024-06-26T09:14:02.440Z"
   },
   {
    "duration": 20,
    "start_time": "2024-06-26T09:14:02.480Z"
   },
   {
    "duration": 43,
    "start_time": "2024-06-26T09:14:02.502Z"
   },
   {
    "duration": 21,
    "start_time": "2024-06-26T09:14:02.547Z"
   },
   {
    "duration": 93,
    "start_time": "2024-06-26T09:14:02.570Z"
   },
   {
    "duration": 45,
    "start_time": "2024-06-26T09:14:02.665Z"
   },
   {
    "duration": 17,
    "start_time": "2024-06-26T09:14:02.712Z"
   },
   {
    "duration": 143,
    "start_time": "2024-06-26T09:14:02.731Z"
   },
   {
    "duration": 165,
    "start_time": "2024-06-26T09:14:02.876Z"
   },
   {
    "duration": 5,
    "start_time": "2024-06-26T09:14:03.043Z"
   },
   {
    "duration": 140,
    "start_time": "2024-06-26T09:14:03.049Z"
   },
   {
    "duration": 2,
    "start_time": "2024-06-26T09:14:03.191Z"
   },
   {
    "duration": 10,
    "start_time": "2024-06-26T09:14:03.194Z"
   },
   {
    "duration": 162,
    "start_time": "2024-06-26T09:14:03.205Z"
   },
   {
    "duration": 2,
    "start_time": "2024-06-26T09:14:03.369Z"
   },
   {
    "duration": 7,
    "start_time": "2024-06-26T09:14:03.372Z"
   },
   {
    "duration": 7,
    "start_time": "2024-06-26T09:14:03.380Z"
   },
   {
    "duration": 4,
    "start_time": "2024-06-26T09:14:03.389Z"
   },
   {
    "duration": 15,
    "start_time": "2024-06-26T09:14:03.395Z"
   },
   {
    "duration": 18,
    "start_time": "2024-06-26T09:14:03.411Z"
   },
   {
    "duration": 27,
    "start_time": "2024-06-26T09:14:03.431Z"
   },
   {
    "duration": 2,
    "start_time": "2024-06-26T09:14:03.460Z"
   },
   {
    "duration": 184,
    "start_time": "2024-06-26T09:14:03.468Z"
   },
   {
    "duration": 13,
    "start_time": "2024-06-26T09:14:03.653Z"
   },
   {
    "duration": 25,
    "start_time": "2024-06-26T09:14:03.667Z"
   },
   {
    "duration": 13,
    "start_time": "2024-06-26T09:14:03.693Z"
   },
   {
    "duration": 82,
    "start_time": "2024-06-26T09:14:03.707Z"
   },
   {
    "duration": 248,
    "start_time": "2024-06-26T09:14:03.790Z"
   },
   {
    "duration": 28,
    "start_time": "2024-06-26T09:14:04.039Z"
   },
   {
    "duration": 15,
    "start_time": "2024-06-26T09:14:04.068Z"
   },
   {
    "duration": 100,
    "start_time": "2024-06-26T09:14:04.084Z"
   },
   {
    "duration": 9,
    "start_time": "2024-06-26T09:14:04.185Z"
   },
   {
    "duration": 45,
    "start_time": "2024-06-26T09:14:04.196Z"
   },
   {
    "duration": 5,
    "start_time": "2024-06-26T09:14:04.243Z"
   },
   {
    "duration": 23,
    "start_time": "2024-06-26T09:14:04.250Z"
   },
   {
    "duration": 297,
    "start_time": "2024-06-26T09:14:04.275Z"
   },
   {
    "duration": 205,
    "start_time": "2024-06-26T09:14:04.573Z"
   },
   {
    "duration": 234,
    "start_time": "2024-06-26T09:14:04.779Z"
   },
   {
    "duration": 237,
    "start_time": "2024-06-26T09:14:05.015Z"
   },
   {
    "duration": 31,
    "start_time": "2024-06-26T09:14:05.254Z"
   },
   {
    "duration": 24,
    "start_time": "2024-06-26T09:14:05.287Z"
   },
   {
    "duration": 19,
    "start_time": "2024-06-26T09:14:05.312Z"
   },
   {
    "duration": 34,
    "start_time": "2024-06-26T09:14:05.333Z"
   },
   {
    "duration": 8,
    "start_time": "2024-06-26T09:14:05.369Z"
   },
   {
    "duration": 39,
    "start_time": "2024-06-26T09:14:05.378Z"
   },
   {
    "duration": 7,
    "start_time": "2024-06-26T09:14:05.418Z"
   },
   {
    "duration": 28,
    "start_time": "2024-06-26T09:14:05.426Z"
   },
   {
    "duration": 11,
    "start_time": "2024-06-26T09:14:05.456Z"
   }
  ],
  "kernelspec": {
   "display_name": "Python 3 (ipykernel)",
   "language": "python",
   "name": "python3"
  },
  "language_info": {
   "codemirror_mode": {
    "name": "ipython",
    "version": 3
   },
   "file_extension": ".py",
   "mimetype": "text/x-python",
   "name": "python",
   "nbconvert_exporter": "python",
   "pygments_lexer": "ipython3",
   "version": "3.11.7"
  },
  "toc": {
   "base_numbering": 1,
   "nav_menu": {},
   "number_sections": true,
   "sideBar": true,
   "skip_h1_title": true,
   "title_cell": "Table of Contents",
   "title_sidebar": "Contents",
   "toc_cell": false,
   "toc_position": {},
   "toc_section_display": true,
   "toc_window_display": false
  }
 },
 "nbformat": 4,
 "nbformat_minor": 5
}
